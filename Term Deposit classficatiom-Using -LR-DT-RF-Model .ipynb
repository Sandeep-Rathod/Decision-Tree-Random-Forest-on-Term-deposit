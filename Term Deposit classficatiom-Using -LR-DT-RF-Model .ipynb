{
 "cells": [
  {
   "cell_type": "code",
   "execution_count": 5,
   "metadata": {
    "scrolled": true
   },
   "outputs": [],
   "source": [
    "import numpy as np\n",
    "import pandas as pd\n",
    "\n",
    "from matplotlib import pyplot as plt\n",
    "\n",
    "import seaborn as sns\n",
    "import pandas_profiling\n",
    "\n",
    "from collections import Counter\n",
    "%matplotlib inline"
   ]
  },
  {
   "cell_type": "code",
   "execution_count": 6,
   "metadata": {},
   "outputs": [],
   "source": [
    "from IPython.core.interactiveshell import InteractiveShell\n",
    "InteractiveShell.ast_mode_interactivity = \"all\""
   ]
  },
  {
   "cell_type": "code",
   "execution_count": 7,
   "metadata": {},
   "outputs": [],
   "source": [
    "bank_input=pd.read_csv(r'bank-full.csv')"
   ]
  },
  {
   "cell_type": "code",
   "execution_count": 8,
   "metadata": {
    "scrolled": true
   },
   "outputs": [],
   "source": [
    "#report = pandas_profiling.ProfileReport(bank_input)\n",
    "#covert profile report as html file\n",
    "#report.to_file(\"bank_data.html\")\n"
   ]
  },
  {
   "cell_type": "code",
   "execution_count": 9,
   "metadata": {
    "scrolled": true
   },
   "outputs": [
    {
     "name": "stdout",
     "output_type": "stream",
     "text": [
      "<class 'pandas.core.frame.DataFrame'>\n",
      "RangeIndex: 45211 entries, 0 to 45210\n",
      "Data columns (total 17 columns):\n",
      "age          45211 non-null int64\n",
      "job          45211 non-null object\n",
      "marital      45211 non-null object\n",
      "education    45211 non-null object\n",
      "default      45211 non-null object\n",
      "balance      45211 non-null int64\n",
      "housing      45211 non-null object\n",
      "loan         45211 non-null object\n",
      "contact      45211 non-null object\n",
      "day          45211 non-null int64\n",
      "month        45211 non-null object\n",
      "duration     45211 non-null int64\n",
      "campaign     45211 non-null int64\n",
      "pdays        45211 non-null int64\n",
      "previous     45211 non-null int64\n",
      "poutcome     45211 non-null object\n",
      "y            45211 non-null object\n",
      "dtypes: int64(7), object(10)\n",
      "memory usage: 5.9+ MB\n"
     ]
    }
   ],
   "source": [
    " bank_input.info()"
   ]
  },
  {
   "cell_type": "code",
   "execution_count": 10,
   "metadata": {
    "scrolled": true
   },
   "outputs": [
    {
     "data": {
      "text/plain": [
       "no     39922\n",
       "yes     5289\n",
       "Name: y, dtype: int64"
      ]
     },
     "execution_count": 10,
     "metadata": {},
     "output_type": "execute_result"
    }
   ],
   "source": [
    "bank_input['y'].value_counts()"
   ]
  },
  {
   "cell_type": "markdown",
   "metadata": {},
   "source": [
    "### Data exploration"
   ]
  },
  {
   "cell_type": "code",
   "execution_count": 11,
   "metadata": {
    "scrolled": false
   },
   "outputs": [
    {
     "data": {
      "text/plain": [
       "Text(-10.825,0.5,'Balance')"
      ]
     },
     "execution_count": 11,
     "metadata": {},
     "output_type": "execute_result"
    },
    {
     "data": {
      "image/png": "[encoded data removed]",
      "text/plain": [
       "<Figure size 288x288 with 1 Axes>"
      ]
     },
     "metadata": {},
     "output_type": "display_data"
    }
   ],
   "source": [
    "sns.factorplot(x='y',y='balance',\n",
    "               data=bank_input,kind='box', showfliers = False)\n",
    "plt.xlabel(\"Output\")\n",
    "plt.ylabel(\"Balance\")"
   ]
  },
  {
   "cell_type": "code",
   "execution_count": 12,
   "metadata": {},
   "outputs": [],
   "source": [
    "def convert_output(output):\n",
    "    if output == 'no':\n",
    "        output=0\n",
    "    else:\n",
    "        output=1\n",
    "    return output\n",
    "      \n",
    "bank_input['output'] = bank_input['y'].apply(convert_output)"
   ]
  },
  {
   "cell_type": "code",
   "execution_count": 13,
   "metadata": {},
   "outputs": [],
   "source": [
    "def convert_pday(pday):\n",
    "    if pday <0:\n",
    "        pday=0\n",
    "    return pday\n",
    "      \n",
    "bank_input['pdays'] = bank_input['pdays'].apply(convert_pday)"
   ]
  },
  {
   "cell_type": "code",
   "execution_count": 14,
   "metadata": {},
   "outputs": [
    {
     "data": {
      "text/plain": [
       "<Figure size 720x360 with 0 Axes>"
      ]
     },
     "metadata": {},
     "output_type": "display_data"
    },
    {
     "data": {
      "image/png": "[encoded data removed]",
      "text/plain": [
       "<Figure size 216x216 with 1 Axes>"
      ]
     },
     "metadata": {},
     "output_type": "display_data"
    }
   ],
   "source": [
    "def convert_day(pday):\n",
    "    if pday >400:\n",
    "        pday=1\n",
    "    else:\n",
    "        pday=0\n",
    "    return pday\n",
    "      \n",
    "bank_input['pdays_cat'] = bank_input['pdays'].apply(convert_day)\n",
    "\n",
    "\n",
    "plt.figure(figsize=(10,5))\n",
    "mx = sns.factorplot(x=\"pdays_cat\", y=\"output\", data=bank_input, kind=\"bar\", size=3)\n",
    "mx.set(ylabel='% of people')\n",
    "plt.title('%People availed term deposit by pdays');\n",
    "plt.xlabel('1 is less than 200 and 3 is above 400')\n",
    "plt.show()"
   ]
  },
  {
   "cell_type": "code",
   "execution_count": 15,
   "metadata": {
    "scrolled": false
   },
   "outputs": [
    {
     "data": {
      "text/plain": [
       "<Figure size 720x360 with 0 Axes>"
      ]
     },
     "metadata": {},
     "output_type": "display_data"
    },
    {
     "data": {
      "image/png": "[encoded data removed]",
      "text/plain": [
       "<Figure size 216x216 with 1 Axes>"
      ]
     },
     "metadata": {},
     "output_type": "display_data"
    }
   ],
   "source": [
    "plt.figure(figsize=(10,5))\n",
    "mx = sns.factorplot(x=\"marital\", y=\"output\", data=bank_input, kind=\"bar\", size=3)\n",
    "mx.set(ylabel='% of people')\n",
    "plt.title('%People availed term deposit by Maritial status');\n",
    "plt.show()\n"
   ]
  },
  {
   "cell_type": "code",
   "execution_count": 16,
   "metadata": {
    "scrolled": true
   },
   "outputs": [
    {
     "data": {
      "text/plain": [
       "<Figure size 720x216 with 0 Axes>"
      ]
     },
     "metadata": {},
     "output_type": "display_data"
    },
    {
     "data": {
      "image/png": "[encoded data removed]",
      "text/plain": [
       "<Figure size 216x216 with 1 Axes>"
      ]
     },
     "metadata": {},
     "output_type": "display_data"
    }
   ],
   "source": [
    "plt.figure(figsize=(10,3))\n",
    "mx = sns.factorplot(y=\"job\",x=\"output\", data=bank_input, kind=\"bar\", size=3)\n",
    "mx.set(ylabel='Job type')\n",
    "plt.title('Job type and %of people availed term deposit ');\n",
    "plt.show()"
   ]
  },
  {
   "cell_type": "code",
   "execution_count": 17,
   "metadata": {
    "scrolled": true
   },
   "outputs": [
    {
     "data": {
      "text/plain": [
       "Text(0.5,0.98,'Count plot of term deposit taken Vs education')"
      ]
     },
     "execution_count": 17,
     "metadata": {},
     "output_type": "execute_result"
    },
    {
     "data": {
      "image/png": "[encoded data removed]",
      "text/plain": [
       "<Figure size 682.75x288 with 2 Axes>"
      ]
     },
     "metadata": {},
     "output_type": "display_data"
    }
   ],
   "source": [
    "sns.factorplot('education', data=bank_input, kind='count', hue=\"job\",col=\"output\")\n",
    "plt.subplots_adjust(top=.8)\n",
    "plt.suptitle('Count plot of term deposit taken Vs education')"
   ]
  },
  {
   "cell_type": "code",
   "execution_count": 18,
   "metadata": {
    "scrolled": false
   },
   "outputs": [
    {
     "data": {
      "text/plain": [
       "<Figure size 720x216 with 0 Axes>"
      ]
     },
     "metadata": {},
     "output_type": "display_data"
    },
    {
     "data": {
      "image/png": "[encoded data removed]",
      "text/plain": [
       "<Figure size 1080x360 with 1 Axes>"
      ]
     },
     "metadata": {},
     "output_type": "display_data"
    }
   ],
   "source": [
    "plt.figure(figsize=(10,3))\n",
    "mx = sns.factorplot(x=\"age\",y=\"output\", data=bank_input, kind=\"bar\", size=5,aspect=3)\n",
    "mx.set(ylabel='% of poeple availed term deposit ')\n",
    "plt.title('Age and %of people availed term deposit ');\n",
    "plt.show()"
   ]
  },
  {
   "cell_type": "code",
   "execution_count": 19,
   "metadata": {
    "scrolled": true
   },
   "outputs": [
    {
     "name": "stderr",
     "output_type": "stream",
     "text": [
      "C:\\Users\\sandeep.rathod\\AppData\\Local\\Continuum\\anaconda3\\lib\\site-packages\\matplotlib\\axes\\_axes.py:6462: UserWarning: The 'normed' kwarg is deprecated, and has been replaced by the 'density' kwarg.\n",
      "  warnings.warn(\"The 'normed' kwarg is deprecated, and has been \"\n"
     ]
    },
    {
     "data": {
      "text/plain": [
       "Text(0.5,1,'Agewise distribution of the people')"
      ]
     },
     "execution_count": 19,
     "metadata": {},
     "output_type": "execute_result"
    },
    {
     "data": {
      "image/png": "[encoded data removed]",
      "text/plain": [
       "<Figure size 360x216 with 1 Axes>"
      ]
     },
     "metadata": {},
     "output_type": "display_data"
    }
   ],
   "source": [
    "plt.figure(figsize=(5,3))\n",
    "sns.distplot(bank_input['age'], bins=10, kde=False)\n",
    "plt.ylabel('Count')\n",
    "plt.title('Agewise distribution of the people')"
   ]
  },
  {
   "cell_type": "code",
   "execution_count": 20,
   "metadata": {
    "scrolled": true
   },
   "outputs": [
    {
     "data": {
      "text/plain": [
       "Text(0.5,0.98,'Scatterplot of poeple grouped by balance and Age')"
      ]
     },
     "execution_count": 20,
     "metadata": {},
     "output_type": "execute_result"
    },
    {
     "data": {
      "image/png": "[encoded data removed]",
      "text/plain": [
       "<Figure size 1122.38x360 with 3 Axes>"
      ]
     },
     "metadata": {},
     "output_type": "display_data"
    }
   ],
   "source": [
    "sns.lmplot('age', 'balance', data=bank_input, fit_reg=False, hue=\"output\",col=\"marital\")\n",
    "plt.subplots_adjust(top=0.9)\n",
    "plt.suptitle('Scatterplot of poeple grouped by balance and Age')"
   ]
  },
  {
   "cell_type": "code",
   "execution_count": 21,
   "metadata": {
    "scrolled": true
   },
   "outputs": [
    {
     "data": {
      "text/plain": [
       "<Figure size 720x360 with 0 Axes>"
      ]
     },
     "metadata": {},
     "output_type": "display_data"
    },
    {
     "data": {
      "image/png": "[encoded data removed]",
      "text/plain": [
       "<Figure size 216x216 with 1 Axes>"
      ]
     },
     "metadata": {},
     "output_type": "display_data"
    }
   ],
   "source": [
    "plt.figure(figsize=(10,5))\n",
    "mx = sns.factorplot(x=\"loan\", y=\"output\", data=bank_input, kind=\"bar\", size=3)\n",
    "mx.set(ylabel='% of people')\n",
    "plt.title('%People availed term deposit by Personel loan');\n",
    "plt.show()"
   ]
  },
  {
   "cell_type": "code",
   "execution_count": 22,
   "metadata": {
    "scrolled": false
   },
   "outputs": [
    {
     "data": {
      "text/plain": [
       "<Figure size 720x216 with 0 Axes>"
      ]
     },
     "metadata": {},
     "output_type": "display_data"
    },
    {
     "data": {
      "image/png": "[encoded data removed]",
      "text/plain": [
       "<Figure size 1080x360 with 1 Axes>"
      ]
     },
     "metadata": {},
     "output_type": "display_data"
    }
   ],
   "source": [
    "plt.figure(figsize=(10,3))\n",
    "mx = sns.factorplot(x=\"month\",y=\"output\", data=bank_input, kind=\"bar\", size=5,aspect=3)\n",
    "mx.set(ylabel='Month')\n",
    "plt.title('Month and %of people availed term deposit ');\n",
    "plt.show()"
   ]
  },
  {
   "cell_type": "code",
   "execution_count": 23,
   "metadata": {
    "scrolled": false
   },
   "outputs": [
    {
     "data": {
      "text/plain": [
       "<Figure size 720x216 with 0 Axes>"
      ]
     },
     "metadata": {},
     "output_type": "display_data"
    },
    {
     "data": {
      "image/png": "[encoded data removed]",
      "text/plain": [
       "<Figure size 1080x360 with 1 Axes>"
      ]
     },
     "metadata": {},
     "output_type": "display_data"
    }
   ],
   "source": [
    "plt.figure(figsize=(10,3))\n",
    "mx = sns.factorplot(x=\"day\",y=\"output\", data=bank_input, kind=\"bar\", size=5,aspect=3)\n",
    "mx.set(ylabel='Day')\n",
    "plt.title('Day and %of people availed term deposit ');\n",
    "plt.show()"
   ]
  },
  {
   "cell_type": "code",
   "execution_count": 24,
   "metadata": {
    "scrolled": true
   },
   "outputs": [
    {
     "data": {
      "text/plain": [
       "<Figure size 360x144 with 0 Axes>"
      ]
     },
     "metadata": {},
     "output_type": "display_data"
    },
    {
     "data": {
      "image/png": "[encoded data removed]",
      "text/plain": [
       "<Figure size 1080x360 with 1 Axes>"
      ]
     },
     "metadata": {},
     "output_type": "display_data"
    }
   ],
   "source": [
    "plt.figure(figsize=(5,2))\n",
    "mx = sns.factorplot(x=\"campaign\", y=\"output\", data=bank_input, kind=\"bar\", size=5 ,aspect=3)\n",
    "mx.set(xlabel='Call made during Campaign')\n",
    "mx.set(ylabel='% of people availed term deposit')\n",
    "plt.title('%People availed term deposit by Campaign call made');\n",
    "plt.show()\n"
   ]
  },
  {
   "cell_type": "code",
   "execution_count": 25,
   "metadata": {
    "scrolled": false
   },
   "outputs": [
    {
     "data": {
      "text/plain": [
       "<Figure size 360x144 with 0 Axes>"
      ]
     },
     "metadata": {},
     "output_type": "display_data"
    },
    {
     "data": {
      "image/png": "[encoded data removed]",
      "text/plain": [
       "<Figure size 1080x360 with 1 Axes>"
      ]
     },
     "metadata": {},
     "output_type": "display_data"
    }
   ],
   "source": [
    "plt.figure(figsize=(5,2))\n",
    "mx = sns.factorplot(x=\"poutcome\", y=\"output\", data=bank_input, kind=\"bar\", size=5 ,aspect=3)\n",
    "mx.set(xlabel='Previous Outcome')\n",
    "mx.set(ylabel='% of people availed term deposit')\n",
    "plt.title('%People availed term deposit by Poutcome');\n",
    "plt.show()\n"
   ]
  },
  {
   "cell_type": "code",
   "execution_count": 26,
   "metadata": {
    "scrolled": false
   },
   "outputs": [
    {
     "data": {
      "text/plain": [
       "Text(0.5,1,'Scatterplot of poeple grouped by balance and Age')"
      ]
     },
     "execution_count": 26,
     "metadata": {},
     "output_type": "execute_result"
    },
    {
     "data": {
      "image/png": "[encoded data removed]",
      "text/plain": [
       "<Figure size 1122.38x360 with 1 Axes>"
      ]
     },
     "metadata": {},
     "output_type": "display_data"
    }
   ],
   "source": [
    "sns.lmplot('age', 'pdays', data=bank_input, fit_reg=False, hue=\"output\",size=5,aspect=3)\n",
    "\n",
    "plt.title('Scatterplot of poeple grouped by balance and Age')"
   ]
  },
  {
   "cell_type": "code",
   "execution_count": 27,
   "metadata": {},
   "outputs": [
    {
     "data": {
      "image/png": "[encoded data removed]",
      "text/plain": [
       "<Figure size 720x288 with 2 Axes>"
      ]
     },
     "metadata": {},
     "output_type": "display_data"
    }
   ],
   "source": [
    "corr =bank_input.corr()\n",
    "\n",
    "plt.figure(figsize=(10,4))\n",
    "sns.heatmap(corr,cmap=\"BrBG\",annot = True)\n",
    "plt.show()"
   ]
  },
  {
   "cell_type": "markdown",
   "metadata": {
    "colab_type": "text",
    "id": "S44QmB3I2mg5"
   },
   "source": [
    "### 4. Feature Engineering  <a id='feature'>"
   ]
  },
  {
   "cell_type": "code",
   "execution_count": 28,
   "metadata": {
    "scrolled": false
   },
   "outputs": [
    {
     "data": {
      "text/html": [
       "<div>\n",
       "<style scoped>\n",
       "    .dataframe tbody tr th:only-of-type {\n",
       "        vertical-align: middle;\n",
       "    }\n",
       "\n",
       "    .dataframe tbody tr th {\n",
       "        vertical-align: top;\n",
       "    }\n",
       "\n",
       "    .dataframe thead th {\n",
       "        text-align: right;\n",
       "    }\n",
       "</style>\n",
       "<table border=\"1\" class=\"dataframe\">\n",
       "  <thead>\n",
       "    <tr style=\"text-align: right;\">\n",
       "      <th></th>\n",
       "      <th>age</th>\n",
       "      <th>job</th>\n",
       "      <th>marital</th>\n",
       "      <th>education</th>\n",
       "      <th>default</th>\n",
       "      <th>balance</th>\n",
       "      <th>housing</th>\n",
       "      <th>loan</th>\n",
       "      <th>contact</th>\n",
       "      <th>day</th>\n",
       "      <th>month</th>\n",
       "      <th>duration</th>\n",
       "      <th>campaign</th>\n",
       "      <th>pdays</th>\n",
       "      <th>previous</th>\n",
       "      <th>poutcome</th>\n",
       "      <th>y</th>\n",
       "      <th>output</th>\n",
       "      <th>pdays_cat</th>\n",
       "    </tr>\n",
       "  </thead>\n",
       "  <tbody>\n",
       "    <tr>\n",
       "      <th>0</th>\n",
       "      <td>58</td>\n",
       "      <td>management</td>\n",
       "      <td>married</td>\n",
       "      <td>tertiary</td>\n",
       "      <td>no</td>\n",
       "      <td>2143</td>\n",
       "      <td>yes</td>\n",
       "      <td>no</td>\n",
       "      <td>unknown</td>\n",
       "      <td>5</td>\n",
       "      <td>may</td>\n",
       "      <td>261</td>\n",
       "      <td>1</td>\n",
       "      <td>0</td>\n",
       "      <td>0</td>\n",
       "      <td>unknown</td>\n",
       "      <td>no</td>\n",
       "      <td>0</td>\n",
       "      <td>0</td>\n",
       "    </tr>\n",
       "    <tr>\n",
       "      <th>1</th>\n",
       "      <td>44</td>\n",
       "      <td>technician</td>\n",
       "      <td>single</td>\n",
       "      <td>secondary</td>\n",
       "      <td>no</td>\n",
       "      <td>29</td>\n",
       "      <td>yes</td>\n",
       "      <td>no</td>\n",
       "      <td>unknown</td>\n",
       "      <td>5</td>\n",
       "      <td>may</td>\n",
       "      <td>151</td>\n",
       "      <td>1</td>\n",
       "      <td>0</td>\n",
       "      <td>0</td>\n",
       "      <td>unknown</td>\n",
       "      <td>no</td>\n",
       "      <td>0</td>\n",
       "      <td>0</td>\n",
       "    </tr>\n",
       "    <tr>\n",
       "      <th>2</th>\n",
       "      <td>33</td>\n",
       "      <td>entrepreneur</td>\n",
       "      <td>married</td>\n",
       "      <td>secondary</td>\n",
       "      <td>no</td>\n",
       "      <td>2</td>\n",
       "      <td>yes</td>\n",
       "      <td>yes</td>\n",
       "      <td>unknown</td>\n",
       "      <td>5</td>\n",
       "      <td>may</td>\n",
       "      <td>76</td>\n",
       "      <td>1</td>\n",
       "      <td>0</td>\n",
       "      <td>0</td>\n",
       "      <td>unknown</td>\n",
       "      <td>no</td>\n",
       "      <td>0</td>\n",
       "      <td>0</td>\n",
       "    </tr>\n",
       "    <tr>\n",
       "      <th>3</th>\n",
       "      <td>47</td>\n",
       "      <td>blue-collar</td>\n",
       "      <td>married</td>\n",
       "      <td>unknown</td>\n",
       "      <td>no</td>\n",
       "      <td>1506</td>\n",
       "      <td>yes</td>\n",
       "      <td>no</td>\n",
       "      <td>unknown</td>\n",
       "      <td>5</td>\n",
       "      <td>may</td>\n",
       "      <td>92</td>\n",
       "      <td>1</td>\n",
       "      <td>0</td>\n",
       "      <td>0</td>\n",
       "      <td>unknown</td>\n",
       "      <td>no</td>\n",
       "      <td>0</td>\n",
       "      <td>0</td>\n",
       "    </tr>\n",
       "    <tr>\n",
       "      <th>4</th>\n",
       "      <td>33</td>\n",
       "      <td>unknown</td>\n",
       "      <td>single</td>\n",
       "      <td>unknown</td>\n",
       "      <td>no</td>\n",
       "      <td>1</td>\n",
       "      <td>no</td>\n",
       "      <td>no</td>\n",
       "      <td>unknown</td>\n",
       "      <td>5</td>\n",
       "      <td>may</td>\n",
       "      <td>198</td>\n",
       "      <td>1</td>\n",
       "      <td>0</td>\n",
       "      <td>0</td>\n",
       "      <td>unknown</td>\n",
       "      <td>no</td>\n",
       "      <td>0</td>\n",
       "      <td>0</td>\n",
       "    </tr>\n",
       "  </tbody>\n",
       "</table>\n",
       "</div>"
      ],
      "text/plain": [
       "   age           job  marital  education default  balance housing loan  \\\n",
       "0   58    management  married   tertiary      no     2143     yes   no   \n",
       "1   44    technician   single  secondary      no       29     yes   no   \n",
       "2   33  entrepreneur  married  secondary      no        2     yes  yes   \n",
       "3   47   blue-collar  married    unknown      no     1506     yes   no   \n",
       "4   33       unknown   single    unknown      no        1      no   no   \n",
       "\n",
       "   contact  day month  duration  campaign  pdays  previous poutcome   y  \\\n",
       "0  unknown    5   may       261         1      0         0  unknown  no   \n",
       "1  unknown    5   may       151         1      0         0  unknown  no   \n",
       "2  unknown    5   may        76         1      0         0  unknown  no   \n",
       "3  unknown    5   may        92         1      0         0  unknown  no   \n",
       "4  unknown    5   may       198         1      0         0  unknown  no   \n",
       "\n",
       "   output  pdays_cat  \n",
       "0       0          0  \n",
       "1       0          0  \n",
       "2       0          0  \n",
       "3       0          0  \n",
       "4       0          0  "
      ]
     },
     "execution_count": 28,
     "metadata": {},
     "output_type": "execute_result"
    }
   ],
   "source": [
    "bank_input.head()"
   ]
  },
  {
   "cell_type": "code",
   "execution_count": 29,
   "metadata": {},
   "outputs": [],
   "source": [
    "# agegroup below 30 and above 59 as a categorical feature\n",
    "def age_output(age):\n",
    "    if age <31:\n",
    "        age=1\n",
    "    elif age>59:\n",
    "        age=3\n",
    "    else:\n",
    "        age=2\n",
    "    return age\n",
    "      \n",
    "bank_input['is_sing_ret'] = bank_input['age'].apply(age_output)"
   ]
  },
  {
   "cell_type": "code",
   "execution_count": 30,
   "metadata": {},
   "outputs": [],
   "source": [
    "# Previous contact made as a categorical feature\n",
    "def prev_output(prev):\n",
    "    if prev <11 :\n",
    "        prev=1\n",
    "    else:\n",
    "        prev=0\n",
    "    return prev\n",
    "      \n",
    "bank_input['is_prev10'] = bank_input['previous'].apply(prev_output)"
   ]
  },
  {
   "cell_type": "code",
   "execution_count": 31,
   "metadata": {},
   "outputs": [],
   "source": [
    "# First 3 campaign call as a categorical feature\n",
    "def camp_output(camp):\n",
    "    if camp <25 :\n",
    "        camp=1\n",
    "    else:\n",
    "        camp=0\n",
    "    return camp\n",
    "      \n",
    "bank_input['is_camp25'] = bank_input['campaign'].apply(camp_output)"
   ]
  },
  {
   "cell_type": "code",
   "execution_count": 32,
   "metadata": {},
   "outputs": [],
   "source": [
    "# First 10 days of call as a categorical feature\n",
    "def day_output(day):\n",
    "    if day <11 :\n",
    "        day=1\n",
    "    else:\n",
    "        day=0\n",
    "    return day\n",
    "      \n",
    "bank_input['is_day10'] = bank_input['day'].apply(day_output)"
   ]
  },
  {
   "cell_type": "code",
   "execution_count": 33,
   "metadata": {
    "scrolled": false
   },
   "outputs": [
    {
     "data": {
      "text/html": [
       "<div>\n",
       "<style scoped>\n",
       "    .dataframe tbody tr th:only-of-type {\n",
       "        vertical-align: middle;\n",
       "    }\n",
       "\n",
       "    .dataframe tbody tr th {\n",
       "        vertical-align: top;\n",
       "    }\n",
       "\n",
       "    .dataframe thead th {\n",
       "        text-align: right;\n",
       "    }\n",
       "</style>\n",
       "<table border=\"1\" class=\"dataframe\">\n",
       "  <thead>\n",
       "    <tr style=\"text-align: right;\">\n",
       "      <th></th>\n",
       "      <th>age</th>\n",
       "      <th>job</th>\n",
       "      <th>marital</th>\n",
       "      <th>education</th>\n",
       "      <th>default</th>\n",
       "      <th>balance</th>\n",
       "      <th>housing</th>\n",
       "      <th>loan</th>\n",
       "      <th>contact</th>\n",
       "      <th>day</th>\n",
       "      <th>...</th>\n",
       "      <th>pdays</th>\n",
       "      <th>previous</th>\n",
       "      <th>poutcome</th>\n",
       "      <th>y</th>\n",
       "      <th>output</th>\n",
       "      <th>pdays_cat</th>\n",
       "      <th>is_sing_ret</th>\n",
       "      <th>is_prev10</th>\n",
       "      <th>is_camp25</th>\n",
       "      <th>is_day10</th>\n",
       "    </tr>\n",
       "  </thead>\n",
       "  <tbody>\n",
       "    <tr>\n",
       "      <th>0</th>\n",
       "      <td>58</td>\n",
       "      <td>management</td>\n",
       "      <td>married</td>\n",
       "      <td>tertiary</td>\n",
       "      <td>no</td>\n",
       "      <td>2143</td>\n",
       "      <td>yes</td>\n",
       "      <td>no</td>\n",
       "      <td>unknown</td>\n",
       "      <td>5</td>\n",
       "      <td>...</td>\n",
       "      <td>0</td>\n",
       "      <td>0</td>\n",
       "      <td>unknown</td>\n",
       "      <td>no</td>\n",
       "      <td>0</td>\n",
       "      <td>0</td>\n",
       "      <td>2</td>\n",
       "      <td>1</td>\n",
       "      <td>1</td>\n",
       "      <td>1</td>\n",
       "    </tr>\n",
       "    <tr>\n",
       "      <th>1</th>\n",
       "      <td>44</td>\n",
       "      <td>technician</td>\n",
       "      <td>single</td>\n",
       "      <td>secondary</td>\n",
       "      <td>no</td>\n",
       "      <td>29</td>\n",
       "      <td>yes</td>\n",
       "      <td>no</td>\n",
       "      <td>unknown</td>\n",
       "      <td>5</td>\n",
       "      <td>...</td>\n",
       "      <td>0</td>\n",
       "      <td>0</td>\n",
       "      <td>unknown</td>\n",
       "      <td>no</td>\n",
       "      <td>0</td>\n",
       "      <td>0</td>\n",
       "      <td>2</td>\n",
       "      <td>1</td>\n",
       "      <td>1</td>\n",
       "      <td>1</td>\n",
       "    </tr>\n",
       "    <tr>\n",
       "      <th>2</th>\n",
       "      <td>33</td>\n",
       "      <td>entrepreneur</td>\n",
       "      <td>married</td>\n",
       "      <td>secondary</td>\n",
       "      <td>no</td>\n",
       "      <td>2</td>\n",
       "      <td>yes</td>\n",
       "      <td>yes</td>\n",
       "      <td>unknown</td>\n",
       "      <td>5</td>\n",
       "      <td>...</td>\n",
       "      <td>0</td>\n",
       "      <td>0</td>\n",
       "      <td>unknown</td>\n",
       "      <td>no</td>\n",
       "      <td>0</td>\n",
       "      <td>0</td>\n",
       "      <td>2</td>\n",
       "      <td>1</td>\n",
       "      <td>1</td>\n",
       "      <td>1</td>\n",
       "    </tr>\n",
       "    <tr>\n",
       "      <th>3</th>\n",
       "      <td>47</td>\n",
       "      <td>blue-collar</td>\n",
       "      <td>married</td>\n",
       "      <td>unknown</td>\n",
       "      <td>no</td>\n",
       "      <td>1506</td>\n",
       "      <td>yes</td>\n",
       "      <td>no</td>\n",
       "      <td>unknown</td>\n",
       "      <td>5</td>\n",
       "      <td>...</td>\n",
       "      <td>0</td>\n",
       "      <td>0</td>\n",
       "      <td>unknown</td>\n",
       "      <td>no</td>\n",
       "      <td>0</td>\n",
       "      <td>0</td>\n",
       "      <td>2</td>\n",
       "      <td>1</td>\n",
       "      <td>1</td>\n",
       "      <td>1</td>\n",
       "    </tr>\n",
       "    <tr>\n",
       "      <th>4</th>\n",
       "      <td>33</td>\n",
       "      <td>unknown</td>\n",
       "      <td>single</td>\n",
       "      <td>unknown</td>\n",
       "      <td>no</td>\n",
       "      <td>1</td>\n",
       "      <td>no</td>\n",
       "      <td>no</td>\n",
       "      <td>unknown</td>\n",
       "      <td>5</td>\n",
       "      <td>...</td>\n",
       "      <td>0</td>\n",
       "      <td>0</td>\n",
       "      <td>unknown</td>\n",
       "      <td>no</td>\n",
       "      <td>0</td>\n",
       "      <td>0</td>\n",
       "      <td>2</td>\n",
       "      <td>1</td>\n",
       "      <td>1</td>\n",
       "      <td>1</td>\n",
       "    </tr>\n",
       "  </tbody>\n",
       "</table>\n",
       "<p>5 rows × 22 columns</p>\n",
       "</div>"
      ],
      "text/plain": [
       "   age           job  marital  education default  balance housing loan  \\\n",
       "0   58    management  married   tertiary      no     2143     yes   no   \n",
       "1   44    technician   single  secondary      no       29     yes   no   \n",
       "2   33  entrepreneur  married  secondary      no        2     yes  yes   \n",
       "3   47   blue-collar  married    unknown      no     1506     yes   no   \n",
       "4   33       unknown   single    unknown      no        1      no   no   \n",
       "\n",
       "   contact  day    ...    pdays  previous  poutcome   y output pdays_cat  \\\n",
       "0  unknown    5    ...        0         0   unknown  no      0         0   \n",
       "1  unknown    5    ...        0         0   unknown  no      0         0   \n",
       "2  unknown    5    ...        0         0   unknown  no      0         0   \n",
       "3  unknown    5    ...        0         0   unknown  no      0         0   \n",
       "4  unknown    5    ...        0         0   unknown  no      0         0   \n",
       "\n",
       "   is_sing_ret  is_prev10  is_camp25  is_day10  \n",
       "0            2          1          1         1  \n",
       "1            2          1          1         1  \n",
       "2            2          1          1         1  \n",
       "3            2          1          1         1  \n",
       "4            2          1          1         1  \n",
       "\n",
       "[5 rows x 22 columns]"
      ]
     },
     "execution_count": 33,
     "metadata": {},
     "output_type": "execute_result"
    }
   ],
   "source": [
    "# Dropping not required column\n",
    "bank_input.drop('duration',inplace= True,axis=1)\n",
    "\n",
    "from sklearn.preprocessing import LabelEncoder\n",
    "#encoding_list = ['education',  'contact','job','poutcome']\n",
    "#bank_input[encoding_list] = bank_input[encoding_list].apply(LabelEncoder().fit_transform)\n",
    "bank_input.head()"
   ]
  },
  {
   "cell_type": "code",
   "execution_count": 34,
   "metadata": {},
   "outputs": [],
   "source": [
    "# Convert Categorical to Numerical for default column\n",
    "job_dummies = pd.get_dummies(bank_input.job, prefix='job')\n",
    "marital_dummies = pd.get_dummies(bank_input.marital, prefix='marital')\n",
    "credit_dummies = pd.get_dummies(bank_input.default, prefix='crddefault')\n",
    "housing_dummies = pd.get_dummies(bank_input.housing, prefix='housloan')\n",
    "personel_dummies= pd.get_dummies(bank_input.loan, prefix='perloan')\n",
    "month_dummies=pd.get_dummies(bank_input.month, prefix='month')\n",
    "education_dummies=pd.get_dummies(bank_input.education, prefix='education')\n",
    "contact_dummies=pd.get_dummies(bank_input.contact, prefix='contact')\n",
    "#week_dummies=pd.get_dummies(bank_input.is_week, prefix='week')\n",
    "poutcome_dummies=pd.get_dummies(bank_input.poutcome, prefix='poutcome')\n",
    "age_dummies = pd.get_dummies(bank_input.is_sing_ret, prefix='age_')\n",
    "pdays_dummies = pd.get_dummies(bank_input.pdays_cat, prefix='pdays_')"
   ]
  },
  {
   "cell_type": "code",
   "execution_count": 35,
   "metadata": {},
   "outputs": [],
   "source": [
    "bank_input = pd.concat([bank_input,job_dummies], axis=1)\n",
    "bank_input = pd.concat([bank_input,marital_dummies], axis=1)\n",
    "bank_input = pd.concat([bank_input,credit_dummies], axis=1)\n",
    "bank_input = pd.concat([bank_input,housing_dummies], axis=1)\n",
    "bank_input = pd.concat([bank_input,personel_dummies], axis=1)\n",
    "bank_input = pd.concat([bank_input,month_dummies], axis=1)\n",
    "bank_input = pd.concat([bank_input,education_dummies], axis=1)\n",
    "bank_input = pd.concat([bank_input,contact_dummies], axis=1)\n",
    "#bank_input = pd.concat([bank_input,week_dummies], axis=1)\n",
    "bank_input = pd.concat([bank_input,poutcome_dummies], axis=1)\n",
    "bank_input = pd.concat([bank_input,age_dummies], axis=1)\n",
    "bank_input = pd.concat([bank_input,pdays_dummies], axis=1)"
   ]
  },
  {
   "cell_type": "code",
   "execution_count": 36,
   "metadata": {
    "scrolled": false
   },
   "outputs": [
    {
     "data": {
      "text/html": [
       "<div>\n",
       "<style scoped>\n",
       "    .dataframe tbody tr th:only-of-type {\n",
       "        vertical-align: middle;\n",
       "    }\n",
       "\n",
       "    .dataframe tbody tr th {\n",
       "        vertical-align: top;\n",
       "    }\n",
       "\n",
       "    .dataframe thead th {\n",
       "        text-align: right;\n",
       "    }\n",
       "</style>\n",
       "<table border=\"1\" class=\"dataframe\">\n",
       "  <thead>\n",
       "    <tr style=\"text-align: right;\">\n",
       "      <th></th>\n",
       "      <th>age</th>\n",
       "      <th>job</th>\n",
       "      <th>marital</th>\n",
       "      <th>education</th>\n",
       "      <th>default</th>\n",
       "      <th>balance</th>\n",
       "      <th>housing</th>\n",
       "      <th>loan</th>\n",
       "      <th>contact</th>\n",
       "      <th>day</th>\n",
       "      <th>...</th>\n",
       "      <th>contact_unknown</th>\n",
       "      <th>poutcome_failure</th>\n",
       "      <th>poutcome_other</th>\n",
       "      <th>poutcome_success</th>\n",
       "      <th>poutcome_unknown</th>\n",
       "      <th>age__1</th>\n",
       "      <th>age__2</th>\n",
       "      <th>age__3</th>\n",
       "      <th>pdays__0</th>\n",
       "      <th>pdays__1</th>\n",
       "    </tr>\n",
       "  </thead>\n",
       "  <tbody>\n",
       "    <tr>\n",
       "      <th>0</th>\n",
       "      <td>58</td>\n",
       "      <td>management</td>\n",
       "      <td>married</td>\n",
       "      <td>tertiary</td>\n",
       "      <td>no</td>\n",
       "      <td>2143</td>\n",
       "      <td>yes</td>\n",
       "      <td>no</td>\n",
       "      <td>unknown</td>\n",
       "      <td>5</td>\n",
       "      <td>...</td>\n",
       "      <td>1</td>\n",
       "      <td>0</td>\n",
       "      <td>0</td>\n",
       "      <td>0</td>\n",
       "      <td>1</td>\n",
       "      <td>0</td>\n",
       "      <td>1</td>\n",
       "      <td>0</td>\n",
       "      <td>1</td>\n",
       "      <td>0</td>\n",
       "    </tr>\n",
       "    <tr>\n",
       "      <th>1</th>\n",
       "      <td>44</td>\n",
       "      <td>technician</td>\n",
       "      <td>single</td>\n",
       "      <td>secondary</td>\n",
       "      <td>no</td>\n",
       "      <td>29</td>\n",
       "      <td>yes</td>\n",
       "      <td>no</td>\n",
       "      <td>unknown</td>\n",
       "      <td>5</td>\n",
       "      <td>...</td>\n",
       "      <td>1</td>\n",
       "      <td>0</td>\n",
       "      <td>0</td>\n",
       "      <td>0</td>\n",
       "      <td>1</td>\n",
       "      <td>0</td>\n",
       "      <td>1</td>\n",
       "      <td>0</td>\n",
       "      <td>1</td>\n",
       "      <td>0</td>\n",
       "    </tr>\n",
       "    <tr>\n",
       "      <th>2</th>\n",
       "      <td>33</td>\n",
       "      <td>entrepreneur</td>\n",
       "      <td>married</td>\n",
       "      <td>secondary</td>\n",
       "      <td>no</td>\n",
       "      <td>2</td>\n",
       "      <td>yes</td>\n",
       "      <td>yes</td>\n",
       "      <td>unknown</td>\n",
       "      <td>5</td>\n",
       "      <td>...</td>\n",
       "      <td>1</td>\n",
       "      <td>0</td>\n",
       "      <td>0</td>\n",
       "      <td>0</td>\n",
       "      <td>1</td>\n",
       "      <td>0</td>\n",
       "      <td>1</td>\n",
       "      <td>0</td>\n",
       "      <td>1</td>\n",
       "      <td>0</td>\n",
       "    </tr>\n",
       "    <tr>\n",
       "      <th>3</th>\n",
       "      <td>47</td>\n",
       "      <td>blue-collar</td>\n",
       "      <td>married</td>\n",
       "      <td>unknown</td>\n",
       "      <td>no</td>\n",
       "      <td>1506</td>\n",
       "      <td>yes</td>\n",
       "      <td>no</td>\n",
       "      <td>unknown</td>\n",
       "      <td>5</td>\n",
       "      <td>...</td>\n",
       "      <td>1</td>\n",
       "      <td>0</td>\n",
       "      <td>0</td>\n",
       "      <td>0</td>\n",
       "      <td>1</td>\n",
       "      <td>0</td>\n",
       "      <td>1</td>\n",
       "      <td>0</td>\n",
       "      <td>1</td>\n",
       "      <td>0</td>\n",
       "    </tr>\n",
       "    <tr>\n",
       "      <th>4</th>\n",
       "      <td>33</td>\n",
       "      <td>unknown</td>\n",
       "      <td>single</td>\n",
       "      <td>unknown</td>\n",
       "      <td>no</td>\n",
       "      <td>1</td>\n",
       "      <td>no</td>\n",
       "      <td>no</td>\n",
       "      <td>unknown</td>\n",
       "      <td>5</td>\n",
       "      <td>...</td>\n",
       "      <td>1</td>\n",
       "      <td>0</td>\n",
       "      <td>0</td>\n",
       "      <td>0</td>\n",
       "      <td>1</td>\n",
       "      <td>0</td>\n",
       "      <td>1</td>\n",
       "      <td>0</td>\n",
       "      <td>1</td>\n",
       "      <td>0</td>\n",
       "    </tr>\n",
       "  </tbody>\n",
       "</table>\n",
       "<p>5 rows × 71 columns</p>\n",
       "</div>"
      ],
      "text/plain": [
       "   age           job  marital  education default  balance housing loan  \\\n",
       "0   58    management  married   tertiary      no     2143     yes   no   \n",
       "1   44    technician   single  secondary      no       29     yes   no   \n",
       "2   33  entrepreneur  married  secondary      no        2     yes  yes   \n",
       "3   47   blue-collar  married    unknown      no     1506     yes   no   \n",
       "4   33       unknown   single    unknown      no        1      no   no   \n",
       "\n",
       "   contact  day    ...    contact_unknown  poutcome_failure  poutcome_other  \\\n",
       "0  unknown    5    ...                  1                 0               0   \n",
       "1  unknown    5    ...                  1                 0               0   \n",
       "2  unknown    5    ...                  1                 0               0   \n",
       "3  unknown    5    ...                  1                 0               0   \n",
       "4  unknown    5    ...                  1                 0               0   \n",
       "\n",
       "   poutcome_success poutcome_unknown age__1  age__2  age__3  pdays__0  \\\n",
       "0                 0                1      0       1       0         1   \n",
       "1                 0                1      0       1       0         1   \n",
       "2                 0                1      0       1       0         1   \n",
       "3                 0                1      0       1       0         1   \n",
       "4                 0                1      0       1       0         1   \n",
       "\n",
       "   pdays__1  \n",
       "0         0  \n",
       "1         0  \n",
       "2         0  \n",
       "3         0  \n",
       "4         0  \n",
       "\n",
       "[5 rows x 71 columns]"
      ]
     },
     "execution_count": 36,
     "metadata": {},
     "output_type": "execute_result"
    }
   ],
   "source": [
    "bank_input.head()"
   ]
  },
  {
   "cell_type": "code",
   "execution_count": 37,
   "metadata": {
    "scrolled": true
   },
   "outputs": [
    {
     "data": {
      "text/html": [
       "<div>\n",
       "<style scoped>\n",
       "    .dataframe tbody tr th:only-of-type {\n",
       "        vertical-align: middle;\n",
       "    }\n",
       "\n",
       "    .dataframe tbody tr th {\n",
       "        vertical-align: top;\n",
       "    }\n",
       "\n",
       "    .dataframe thead th {\n",
       "        text-align: right;\n",
       "    }\n",
       "</style>\n",
       "<table border=\"1\" class=\"dataframe\">\n",
       "  <thead>\n",
       "    <tr style=\"text-align: right;\">\n",
       "      <th></th>\n",
       "      <th>output</th>\n",
       "      <th>pdays_cat</th>\n",
       "      <th>is_prev10</th>\n",
       "      <th>is_camp25</th>\n",
       "      <th>is_day10</th>\n",
       "      <th>job_admin.</th>\n",
       "      <th>job_blue-collar</th>\n",
       "      <th>job_entrepreneur</th>\n",
       "      <th>job_housemaid</th>\n",
       "      <th>job_management</th>\n",
       "      <th>...</th>\n",
       "      <th>contact_cellular</th>\n",
       "      <th>contact_telephone</th>\n",
       "      <th>poutcome_failure</th>\n",
       "      <th>poutcome_other</th>\n",
       "      <th>poutcome_success</th>\n",
       "      <th>age__1</th>\n",
       "      <th>age__2</th>\n",
       "      <th>age__3</th>\n",
       "      <th>pdays__0</th>\n",
       "      <th>pdays__1</th>\n",
       "    </tr>\n",
       "  </thead>\n",
       "  <tbody>\n",
       "    <tr>\n",
       "      <th>0</th>\n",
       "      <td>0</td>\n",
       "      <td>0</td>\n",
       "      <td>1</td>\n",
       "      <td>1</td>\n",
       "      <td>1</td>\n",
       "      <td>0</td>\n",
       "      <td>0</td>\n",
       "      <td>0</td>\n",
       "      <td>0</td>\n",
       "      <td>1</td>\n",
       "      <td>...</td>\n",
       "      <td>0</td>\n",
       "      <td>0</td>\n",
       "      <td>0</td>\n",
       "      <td>0</td>\n",
       "      <td>0</td>\n",
       "      <td>0</td>\n",
       "      <td>1</td>\n",
       "      <td>0</td>\n",
       "      <td>1</td>\n",
       "      <td>0</td>\n",
       "    </tr>\n",
       "    <tr>\n",
       "      <th>1</th>\n",
       "      <td>0</td>\n",
       "      <td>0</td>\n",
       "      <td>1</td>\n",
       "      <td>1</td>\n",
       "      <td>1</td>\n",
       "      <td>0</td>\n",
       "      <td>0</td>\n",
       "      <td>0</td>\n",
       "      <td>0</td>\n",
       "      <td>0</td>\n",
       "      <td>...</td>\n",
       "      <td>0</td>\n",
       "      <td>0</td>\n",
       "      <td>0</td>\n",
       "      <td>0</td>\n",
       "      <td>0</td>\n",
       "      <td>0</td>\n",
       "      <td>1</td>\n",
       "      <td>0</td>\n",
       "      <td>1</td>\n",
       "      <td>0</td>\n",
       "    </tr>\n",
       "    <tr>\n",
       "      <th>2</th>\n",
       "      <td>0</td>\n",
       "      <td>0</td>\n",
       "      <td>1</td>\n",
       "      <td>1</td>\n",
       "      <td>1</td>\n",
       "      <td>0</td>\n",
       "      <td>0</td>\n",
       "      <td>1</td>\n",
       "      <td>0</td>\n",
       "      <td>0</td>\n",
       "      <td>...</td>\n",
       "      <td>0</td>\n",
       "      <td>0</td>\n",
       "      <td>0</td>\n",
       "      <td>0</td>\n",
       "      <td>0</td>\n",
       "      <td>0</td>\n",
       "      <td>1</td>\n",
       "      <td>0</td>\n",
       "      <td>1</td>\n",
       "      <td>0</td>\n",
       "    </tr>\n",
       "    <tr>\n",
       "      <th>3</th>\n",
       "      <td>0</td>\n",
       "      <td>0</td>\n",
       "      <td>1</td>\n",
       "      <td>1</td>\n",
       "      <td>1</td>\n",
       "      <td>0</td>\n",
       "      <td>1</td>\n",
       "      <td>0</td>\n",
       "      <td>0</td>\n",
       "      <td>0</td>\n",
       "      <td>...</td>\n",
       "      <td>0</td>\n",
       "      <td>0</td>\n",
       "      <td>0</td>\n",
       "      <td>0</td>\n",
       "      <td>0</td>\n",
       "      <td>0</td>\n",
       "      <td>1</td>\n",
       "      <td>0</td>\n",
       "      <td>1</td>\n",
       "      <td>0</td>\n",
       "    </tr>\n",
       "    <tr>\n",
       "      <th>4</th>\n",
       "      <td>0</td>\n",
       "      <td>0</td>\n",
       "      <td>1</td>\n",
       "      <td>1</td>\n",
       "      <td>1</td>\n",
       "      <td>0</td>\n",
       "      <td>0</td>\n",
       "      <td>0</td>\n",
       "      <td>0</td>\n",
       "      <td>0</td>\n",
       "      <td>...</td>\n",
       "      <td>0</td>\n",
       "      <td>0</td>\n",
       "      <td>0</td>\n",
       "      <td>0</td>\n",
       "      <td>0</td>\n",
       "      <td>0</td>\n",
       "      <td>1</td>\n",
       "      <td>0</td>\n",
       "      <td>1</td>\n",
       "      <td>0</td>\n",
       "    </tr>\n",
       "  </tbody>\n",
       "</table>\n",
       "<p>5 rows × 46 columns</p>\n",
       "</div>"
      ],
      "text/plain": [
       "   output  pdays_cat  is_prev10  is_camp25  is_day10  job_admin.  \\\n",
       "0       0          0          1          1         1           0   \n",
       "1       0          0          1          1         1           0   \n",
       "2       0          0          1          1         1           0   \n",
       "3       0          0          1          1         1           0   \n",
       "4       0          0          1          1         1           0   \n",
       "\n",
       "   job_blue-collar  job_entrepreneur  job_housemaid  job_management    ...     \\\n",
       "0                0                 0              0               1    ...      \n",
       "1                0                 0              0               0    ...      \n",
       "2                0                 1              0               0    ...      \n",
       "3                1                 0              0               0    ...      \n",
       "4                0                 0              0               0    ...      \n",
       "\n",
       "   contact_cellular  contact_telephone  poutcome_failure  poutcome_other  \\\n",
       "0                 0                  0                 0               0   \n",
       "1                 0                  0                 0               0   \n",
       "2                 0                  0                 0               0   \n",
       "3                 0                  0                 0               0   \n",
       "4                 0                  0                 0               0   \n",
       "\n",
       "   poutcome_success  age__1  age__2  age__3  pdays__0  pdays__1  \n",
       "0                 0       0       1       0         1         0  \n",
       "1                 0       0       1       0         1         0  \n",
       "2                 0       0       1       0         1         0  \n",
       "3                 0       0       1       0         1         0  \n",
       "4                 0       0       1       0         1         0  \n",
       "\n",
       "[5 rows x 46 columns]"
      ]
     },
     "execution_count": 37,
     "metadata": {},
     "output_type": "execute_result"
    }
   ],
   "source": [
    "df= bank_input.drop(['is_sing_ret','job_unknown','poutcome_unknown','contact_unknown','campaign','month_jan','month_feb','month_may','month_jul','month_nov','month_jan','age','day','education','contact','job','pdays','previous','poutcome','balance','marital','default','housing','loan','month','y'],axis=1)\n",
    "df.head()"
   ]
  },
  {
   "cell_type": "code",
   "execution_count": 38,
   "metadata": {},
   "outputs": [],
   "source": [
    "#df.info()"
   ]
  },
  {
   "cell_type": "code",
   "execution_count": 39,
   "metadata": {},
   "outputs": [],
   "source": [
    "#splitting the features and labels\n",
    "\n",
    "X = df.drop('output',axis = 1)\n",
    "y = df['output']"
   ]
  },
  {
   "cell_type": "code",
   "execution_count": null,
   "metadata": {},
   "outputs": [],
   "source": []
  },
  {
   "cell_type": "code",
   "execution_count": 40,
   "metadata": {
    "scrolled": true
   },
   "outputs": [
    {
     "name": "stdout",
     "output_type": "stream",
     "text": [
      "dropping 'pdays__1' at index: 44\n",
      "Remaining variables:\n",
      "Index(['pdays_cat', 'is_prev10', 'is_camp25', 'is_day10', 'job_admin.',\n",
      "       'job_blue-collar', 'job_entrepreneur', 'job_housemaid',\n",
      "       'job_management', 'job_retired', 'job_self-employed', 'job_services',\n",
      "       'job_student', 'job_technician', 'job_unemployed', 'marital_divorced',\n",
      "       'marital_married', 'marital_single', 'crddefault_no', 'crddefault_yes',\n",
      "       'housloan_no', 'housloan_yes', 'perloan_no', 'perloan_yes', 'month_apr',\n",
      "       'month_aug', 'month_dec', 'month_jun', 'month_mar', 'month_oct',\n",
      "       'month_sep', 'education_primary', 'education_secondary',\n",
      "       'education_tertiary', 'education_unknown', 'contact_cellular',\n",
      "       'contact_telephone', 'poutcome_failure', 'poutcome_other',\n",
      "       'poutcome_success', 'age__1', 'age__2', 'age__3', 'pdays__0'],\n",
      "      dtype='object')\n",
      "dropping 'pdays_cat' at index: 0\n",
      "Remaining variables:\n",
      "Index(['is_prev10', 'is_camp25', 'is_day10', 'job_admin.', 'job_blue-collar',\n",
      "       'job_entrepreneur', 'job_housemaid', 'job_management', 'job_retired',\n",
      "       'job_self-employed', 'job_services', 'job_student', 'job_technician',\n",
      "       'job_unemployed', 'marital_divorced', 'marital_married',\n",
      "       'marital_single', 'crddefault_no', 'crddefault_yes', 'housloan_no',\n",
      "       'housloan_yes', 'perloan_no', 'perloan_yes', 'month_apr', 'month_aug',\n",
      "       'month_dec', 'month_jun', 'month_mar', 'month_oct', 'month_sep',\n",
      "       'education_primary', 'education_secondary', 'education_tertiary',\n",
      "       'education_unknown', 'contact_cellular', 'contact_telephone',\n",
      "       'poutcome_failure', 'poutcome_other', 'poutcome_success', 'age__1',\n",
      "       'age__2', 'age__3', 'pdays__0'],\n",
      "      dtype='object')\n",
      "dropping 'marital_divorced' at index: 14\n",
      "Remaining variables:\n",
      "Index(['is_prev10', 'is_camp25', 'is_day10', 'job_admin.', 'job_blue-collar',\n",
      "       'job_entrepreneur', 'job_housemaid', 'job_management', 'job_retired',\n",
      "       'job_self-employed', 'job_services', 'job_student', 'job_technician',\n",
      "       'job_unemployed', 'marital_married', 'marital_single', 'crddefault_no',\n",
      "       'crddefault_yes', 'housloan_no', 'housloan_yes', 'perloan_no',\n",
      "       'perloan_yes', 'month_apr', 'month_aug', 'month_dec', 'month_jun',\n",
      "       'month_mar', 'month_oct', 'month_sep', 'education_primary',\n",
      "       'education_secondary', 'education_tertiary', 'education_unknown',\n",
      "       'contact_cellular', 'contact_telephone', 'poutcome_failure',\n",
      "       'poutcome_other', 'poutcome_success', 'age__1', 'age__2', 'age__3',\n",
      "       'pdays__0'],\n",
      "      dtype='object')\n",
      "dropping 'education_unknown' at index: 32\n",
      "Remaining variables:\n",
      "Index(['is_prev10', 'is_camp25', 'is_day10', 'job_admin.', 'job_blue-collar',\n",
      "       'job_entrepreneur', 'job_housemaid', 'job_management', 'job_retired',\n",
      "       'job_self-employed', 'job_services', 'job_student', 'job_technician',\n",
      "       'job_unemployed', 'marital_married', 'marital_single', 'crddefault_no',\n",
      "       'crddefault_yes', 'housloan_no', 'housloan_yes', 'perloan_no',\n",
      "       'perloan_yes', 'month_apr', 'month_aug', 'month_dec', 'month_jun',\n",
      "       'month_mar', 'month_oct', 'month_sep', 'education_primary',\n",
      "       'education_secondary', 'education_tertiary', 'contact_cellular',\n",
      "       'contact_telephone', 'poutcome_failure', 'poutcome_other',\n",
      "       'poutcome_success', 'age__1', 'age__2', 'age__3', 'pdays__0'],\n",
      "      dtype='object')\n",
      "dropping 'crddefault_yes' at index: 17\n",
      "Remaining variables:\n",
      "Index(['is_prev10', 'is_camp25', 'is_day10', 'job_admin.', 'job_blue-collar',\n",
      "       'job_entrepreneur', 'job_housemaid', 'job_management', 'job_retired',\n",
      "       'job_self-employed', 'job_services', 'job_student', 'job_technician',\n",
      "       'job_unemployed', 'marital_married', 'marital_single', 'crddefault_no',\n",
      "       'housloan_no', 'housloan_yes', 'perloan_no', 'perloan_yes', 'month_apr',\n",
      "       'month_aug', 'month_dec', 'month_jun', 'month_mar', 'month_oct',\n",
      "       'month_sep', 'education_primary', 'education_secondary',\n",
      "       'education_tertiary', 'contact_cellular', 'contact_telephone',\n",
      "       'poutcome_failure', 'poutcome_other', 'poutcome_success', 'age__1',\n",
      "       'age__2', 'age__3', 'pdays__0'],\n",
      "      dtype='object')\n",
      "dropping 'age__3' at index: 38\n",
      "Remaining variables:\n",
      "Index(['is_prev10', 'is_camp25', 'is_day10', 'job_admin.', 'job_blue-collar',\n",
      "       'job_entrepreneur', 'job_housemaid', 'job_management', 'job_retired',\n",
      "       'job_self-employed', 'job_services', 'job_student', 'job_technician',\n",
      "       'job_unemployed', 'marital_married', 'marital_single', 'crddefault_no',\n",
      "       'housloan_no', 'housloan_yes', 'perloan_no', 'perloan_yes', 'month_apr',\n",
      "       'month_aug', 'month_dec', 'month_jun', 'month_mar', 'month_oct',\n",
      "       'month_sep', 'education_primary', 'education_secondary',\n",
      "       'education_tertiary', 'contact_cellular', 'contact_telephone',\n",
      "       'poutcome_failure', 'poutcome_other', 'poutcome_success', 'age__1',\n",
      "       'age__2', 'pdays__0'],\n",
      "      dtype='object')\n"
     ]
    },
    {
     "name": "stderr",
     "output_type": "stream",
     "text": [
      "C:\\Users\\sandeep.rathod\\AppData\\Local\\Continuum\\anaconda3\\lib\\site-packages\\statsmodels\\stats\\outliers_influence.py:181: RuntimeWarning: divide by zero encountered in double_scalars\n",
      "  vif = 1. / (1. - r_squared_i)\n"
     ]
    },
    {
     "name": "stdout",
     "output_type": "stream",
     "text": [
      "dropping 'housloan_no' at index: 17\n",
      "Remaining variables:\n",
      "Index(['is_prev10', 'is_camp25', 'is_day10', 'job_admin.', 'job_blue-collar',\n",
      "       'job_entrepreneur', 'job_housemaid', 'job_management', 'job_retired',\n",
      "       'job_self-employed', 'job_services', 'job_student', 'job_technician',\n",
      "       'job_unemployed', 'marital_married', 'marital_single', 'crddefault_no',\n",
      "       'housloan_yes', 'perloan_no', 'perloan_yes', 'month_apr', 'month_aug',\n",
      "       'month_dec', 'month_jun', 'month_mar', 'month_oct', 'month_sep',\n",
      "       'education_primary', 'education_secondary', 'education_tertiary',\n",
      "       'contact_cellular', 'contact_telephone', 'poutcome_failure',\n",
      "       'poutcome_other', 'poutcome_success', 'age__1', 'age__2', 'pdays__0'],\n",
      "      dtype='object')\n",
      "dropping 'perloan_no' at index: 18\n",
      "Remaining variables:\n",
      "Index(['is_prev10', 'is_camp25', 'is_day10', 'job_admin.', 'job_blue-collar',\n",
      "       'job_entrepreneur', 'job_housemaid', 'job_management', 'job_retired',\n",
      "       'job_self-employed', 'job_services', 'job_student', 'job_technician',\n",
      "       'job_unemployed', 'marital_married', 'marital_single', 'crddefault_no',\n",
      "       'housloan_yes', 'perloan_yes', 'month_apr', 'month_aug', 'month_dec',\n",
      "       'month_jun', 'month_mar', 'month_oct', 'month_sep', 'education_primary',\n",
      "       'education_secondary', 'education_tertiary', 'contact_cellular',\n",
      "       'contact_telephone', 'poutcome_failure', 'poutcome_other',\n",
      "       'poutcome_success', 'age__1', 'age__2', 'pdays__0'],\n",
      "      dtype='object')\n",
      "dropping 'is_camp25' at index: 1\n",
      "Remaining variables:\n",
      "Index(['is_prev10', 'is_day10', 'job_admin.', 'job_blue-collar',\n",
      "       'job_entrepreneur', 'job_housemaid', 'job_management', 'job_retired',\n",
      "       'job_self-employed', 'job_services', 'job_student', 'job_technician',\n",
      "       'job_unemployed', 'marital_married', 'marital_single', 'crddefault_no',\n",
      "       'housloan_yes', 'perloan_yes', 'month_apr', 'month_aug', 'month_dec',\n",
      "       'month_jun', 'month_mar', 'month_oct', 'month_sep', 'education_primary',\n",
      "       'education_secondary', 'education_tertiary', 'contact_cellular',\n",
      "       'contact_telephone', 'poutcome_failure', 'poutcome_other',\n",
      "       'poutcome_success', 'age__1', 'age__2', 'pdays__0'],\n",
      "      dtype='object')\n",
      "dropping 'pdays__0' at index: 35\n",
      "Remaining variables:\n",
      "Index(['is_prev10', 'is_day10', 'job_admin.', 'job_blue-collar',\n",
      "       'job_entrepreneur', 'job_housemaid', 'job_management', 'job_retired',\n",
      "       'job_self-employed', 'job_services', 'job_student', 'job_technician',\n",
      "       'job_unemployed', 'marital_married', 'marital_single', 'crddefault_no',\n",
      "       'housloan_yes', 'perloan_yes', 'month_apr', 'month_aug', 'month_dec',\n",
      "       'month_jun', 'month_mar', 'month_oct', 'month_sep', 'education_primary',\n",
      "       'education_secondary', 'education_tertiary', 'contact_cellular',\n",
      "       'contact_telephone', 'poutcome_failure', 'poutcome_other',\n",
      "       'poutcome_success', 'age__1', 'age__2'],\n",
      "      dtype='object')\n",
      "dropping 'is_prev10' at index: 0\n",
      "Remaining variables:\n",
      "Index(['is_day10', 'job_admin.', 'job_blue-collar', 'job_entrepreneur',\n",
      "       'job_housemaid', 'job_management', 'job_retired', 'job_self-employed',\n",
      "       'job_services', 'job_student', 'job_technician', 'job_unemployed',\n",
      "       'marital_married', 'marital_single', 'crddefault_no', 'housloan_yes',\n",
      "       'perloan_yes', 'month_apr', 'month_aug', 'month_dec', 'month_jun',\n",
      "       'month_mar', 'month_oct', 'month_sep', 'education_primary',\n",
      "       'education_secondary', 'education_tertiary', 'contact_cellular',\n",
      "       'contact_telephone', 'poutcome_failure', 'poutcome_other',\n",
      "       'poutcome_success', 'age__1', 'age__2'],\n",
      "      dtype='object')\n",
      "dropping 'crddefault_no' at index: 14\n",
      "Remaining variables:\n",
      "Index(['is_day10', 'job_admin.', 'job_blue-collar', 'job_entrepreneur',\n",
      "       'job_housemaid', 'job_management', 'job_retired', 'job_self-employed',\n",
      "       'job_services', 'job_student', 'job_technician', 'job_unemployed',\n",
      "       'marital_married', 'marital_single', 'housloan_yes', 'perloan_yes',\n",
      "       'month_apr', 'month_aug', 'month_dec', 'month_jun', 'month_mar',\n",
      "       'month_oct', 'month_sep', 'education_primary', 'education_secondary',\n",
      "       'education_tertiary', 'contact_cellular', 'contact_telephone',\n",
      "       'poutcome_failure', 'poutcome_other', 'poutcome_success', 'age__1',\n",
      "       'age__2'],\n",
      "      dtype='object')\n",
      "dropping 'age__2' at index: 32\n",
      "Remaining variables:\n",
      "Index(['is_day10', 'job_admin.', 'job_blue-collar', 'job_entrepreneur',\n",
      "       'job_housemaid', 'job_management', 'job_retired', 'job_self-employed',\n",
      "       'job_services', 'job_student', 'job_technician', 'job_unemployed',\n",
      "       'marital_married', 'marital_single', 'housloan_yes', 'perloan_yes',\n",
      "       'month_apr', 'month_aug', 'month_dec', 'month_jun', 'month_mar',\n",
      "       'month_oct', 'month_sep', 'education_primary', 'education_secondary',\n",
      "       'education_tertiary', 'contact_cellular', 'contact_telephone',\n",
      "       'poutcome_failure', 'poutcome_other', 'poutcome_success', 'age__1'],\n",
      "      dtype='object')\n",
      "dropping 'education_secondary' at index: 24\n",
      "Remaining variables:\n",
      "Index(['is_day10', 'job_admin.', 'job_blue-collar', 'job_entrepreneur',\n",
      "       'job_housemaid', 'job_management', 'job_retired', 'job_self-employed',\n",
      "       'job_services', 'job_student', 'job_technician', 'job_unemployed',\n",
      "       'marital_married', 'marital_single', 'housloan_yes', 'perloan_yes',\n",
      "       'month_apr', 'month_aug', 'month_dec', 'month_jun', 'month_mar',\n",
      "       'month_oct', 'month_sep', 'education_primary', 'education_tertiary',\n",
      "       'contact_cellular', 'contact_telephone', 'poutcome_failure',\n",
      "       'poutcome_other', 'poutcome_success', 'age__1'],\n",
      "      dtype='object')\n",
      "dropping 'marital_married' at index: 12\n",
      "Remaining variables:\n",
      "Index(['is_day10', 'job_admin.', 'job_blue-collar', 'job_entrepreneur',\n",
      "       'job_housemaid', 'job_management', 'job_retired', 'job_self-employed',\n",
      "       'job_services', 'job_student', 'job_technician', 'job_unemployed',\n",
      "       'marital_single', 'housloan_yes', 'perloan_yes', 'month_apr',\n",
      "       'month_aug', 'month_dec', 'month_jun', 'month_mar', 'month_oct',\n",
      "       'month_sep', 'education_primary', 'education_tertiary',\n",
      "       'contact_cellular', 'contact_telephone', 'poutcome_failure',\n",
      "       'poutcome_other', 'poutcome_success', 'age__1'],\n",
      "      dtype='object')\n",
      "dropping 'contact_cellular' at index: 24\n",
      "Remaining variables:\n",
      "Index(['is_day10', 'job_admin.', 'job_blue-collar', 'job_entrepreneur',\n",
      "       'job_housemaid', 'job_management', 'job_retired', 'job_self-employed',\n",
      "       'job_services', 'job_student', 'job_technician', 'job_unemployed',\n",
      "       'marital_single', 'housloan_yes', 'perloan_yes', 'month_apr',\n",
      "       'month_aug', 'month_dec', 'month_jun', 'month_mar', 'month_oct',\n",
      "       'month_sep', 'education_primary', 'education_tertiary',\n",
      "       'contact_telephone', 'poutcome_failure', 'poutcome_other',\n",
      "       'poutcome_success', 'age__1'],\n",
      "      dtype='object')\n"
     ]
    }
   ],
   "source": [
    "from statsmodels.stats.outliers_influence import variance_inflation_factor    \n",
    "\n",
    "def calculate_vif_(X, thresh=5):\n",
    "    cols = X.columns\n",
    "    variables = np.arange(X.shape[1])\n",
    "    dropped=True\n",
    "    while dropped:\n",
    "        dropped=False\n",
    "        c = X[cols[variables]].values\n",
    "        vif = [variance_inflation_factor(c, ix) for ix in np.arange(c.shape[1])]\n",
    "        \n",
    "        maxloc = vif.index(max(vif))\n",
    "        if max(vif) > thresh:\n",
    "            print('dropping \\'' + X[cols[variables]].columns[maxloc] + '\\' at index: ' + str(maxloc))\n",
    "            variables = np.delete(variables, maxloc)\n",
    "            dropped=True\n",
    "            print('Remaining variables:')\n",
    "            print(X.columns[variables])\n",
    "    return X[cols[variables]]\n",
    "X = calculate_vif_(X,5)"
   ]
  },
  {
   "cell_type": "code",
   "execution_count": 41,
   "metadata": {},
   "outputs": [
    {
     "name": "stderr",
     "output_type": "stream",
     "text": [
      "C:\\Users\\sandeep.rathod\\AppData\\Local\\Continuum\\anaconda3\\lib\\site-packages\\sklearn\\cross_validation.py:41: DeprecationWarning: This module was deprecated in version 0.18 in favor of the model_selection module into which all the refactored classes and functions are moved. Also note that the interface of the new CV iterators are different from that of this module. This module will be removed in 0.20.\n",
      "  \"This module will be removed in 0.20.\", DeprecationWarning)\n"
     ]
    }
   ],
   "source": [
    "# splitting the data into train and test with 70:30 ratio\n",
    "\n",
    "from sklearn.cross_validation import train_test_split\n",
    "x_train, x_test, y_train, y_test = train_test_split(X, y, test_size=0.30, random_state=42)"
   ]
  },
  {
   "cell_type": "code",
   "execution_count": 42,
   "metadata": {},
   "outputs": [],
   "source": [
    "# Building logistic regression model\n",
    "\n",
    "from sklearn.linear_model import LogisticRegression\n",
    "from sklearn import metrics\n",
    "logreg = LogisticRegression(class_weight=\"balanced\",C=1e42) # Set Large C value for low regularization to prevent overfitting"
   ]
  },
  {
   "cell_type": "code",
   "execution_count": 43,
   "metadata": {
    "scrolled": true
   },
   "outputs": [
    {
     "data": {
      "text/plain": [
       "LogisticRegression(C=1e+42, class_weight='balanced', dual=False,\n",
       "          fit_intercept=True, intercept_scaling=1, max_iter=100,\n",
       "          multi_class='ovr', n_jobs=1, penalty='l2', random_state=None,\n",
       "          solver='liblinear', tol=0.0001, verbose=0, warm_start=False)"
      ]
     },
     "execution_count": 43,
     "metadata": {},
     "output_type": "execute_result"
    }
   ],
   "source": [
    "# fitting logistic regression model with x and y attributes of train data\n",
    "\n",
    "logreg.fit(x_train, y_train)"
   ]
  },
  {
   "cell_type": "code",
   "execution_count": 44,
   "metadata": {
    "scrolled": false
   },
   "outputs": [
    {
     "data": {
      "text/html": [
       "<div>\n",
       "<style scoped>\n",
       "    .dataframe tbody tr th:only-of-type {\n",
       "        vertical-align: middle;\n",
       "    }\n",
       "\n",
       "    .dataframe tbody tr th {\n",
       "        vertical-align: top;\n",
       "    }\n",
       "\n",
       "    .dataframe thead th {\n",
       "        text-align: right;\n",
       "    }\n",
       "</style>\n",
       "<table border=\"1\" class=\"dataframe\">\n",
       "  <thead>\n",
       "    <tr style=\"text-align: right;\">\n",
       "      <th></th>\n",
       "      <th>Variables</th>\n",
       "      <th>Co-eff</th>\n",
       "    </tr>\n",
       "  </thead>\n",
       "  <tbody>\n",
       "    <tr>\n",
       "      <th>27</th>\n",
       "      <td>poutcome_success</td>\n",
       "      <td>2.616672</td>\n",
       "    </tr>\n",
       "    <tr>\n",
       "      <th>19</th>\n",
       "      <td>month_mar</td>\n",
       "      <td>1.925530</td>\n",
       "    </tr>\n",
       "    <tr>\n",
       "      <th>20</th>\n",
       "      <td>month_oct</td>\n",
       "      <td>1.619167</td>\n",
       "    </tr>\n",
       "    <tr>\n",
       "      <th>17</th>\n",
       "      <td>month_dec</td>\n",
       "      <td>1.458584</td>\n",
       "    </tr>\n",
       "    <tr>\n",
       "      <th>21</th>\n",
       "      <td>month_sep</td>\n",
       "      <td>1.430462</td>\n",
       "    </tr>\n",
       "    <tr>\n",
       "      <th>6</th>\n",
       "      <td>job_retired</td>\n",
       "      <td>1.056221</td>\n",
       "    </tr>\n",
       "    <tr>\n",
       "      <th>15</th>\n",
       "      <td>month_apr</td>\n",
       "      <td>0.915540</td>\n",
       "    </tr>\n",
       "    <tr>\n",
       "      <th>11</th>\n",
       "      <td>job_unemployed</td>\n",
       "      <td>0.726387</td>\n",
       "    </tr>\n",
       "    <tr>\n",
       "      <th>9</th>\n",
       "      <td>job_student</td>\n",
       "      <td>0.723519</td>\n",
       "    </tr>\n",
       "    <tr>\n",
       "      <th>1</th>\n",
       "      <td>job_admin.</td>\n",
       "      <td>0.577465</td>\n",
       "    </tr>\n",
       "    <tr>\n",
       "      <th>26</th>\n",
       "      <td>poutcome_other</td>\n",
       "      <td>0.528436</td>\n",
       "    </tr>\n",
       "    <tr>\n",
       "      <th>5</th>\n",
       "      <td>job_management</td>\n",
       "      <td>0.482805</td>\n",
       "    </tr>\n",
       "    <tr>\n",
       "      <th>7</th>\n",
       "      <td>job_self-employed</td>\n",
       "      <td>0.451711</td>\n",
       "    </tr>\n",
       "    <tr>\n",
       "      <th>8</th>\n",
       "      <td>job_services</td>\n",
       "      <td>0.434445</td>\n",
       "    </tr>\n",
       "    <tr>\n",
       "      <th>3</th>\n",
       "      <td>job_entrepreneur</td>\n",
       "      <td>0.433809</td>\n",
       "    </tr>\n",
       "    <tr>\n",
       "      <th>10</th>\n",
       "      <td>job_technician</td>\n",
       "      <td>0.422323</td>\n",
       "    </tr>\n",
       "    <tr>\n",
       "      <th>2</th>\n",
       "      <td>job_blue-collar</td>\n",
       "      <td>0.397635</td>\n",
       "    </tr>\n",
       "    <tr>\n",
       "      <th>4</th>\n",
       "      <td>job_housemaid</td>\n",
       "      <td>0.341909</td>\n",
       "    </tr>\n",
       "    <tr>\n",
       "      <th>28</th>\n",
       "      <td>age__1</td>\n",
       "      <td>0.331236</td>\n",
       "    </tr>\n",
       "    <tr>\n",
       "      <th>25</th>\n",
       "      <td>poutcome_failure</td>\n",
       "      <td>0.305186</td>\n",
       "    </tr>\n",
       "    <tr>\n",
       "      <th>12</th>\n",
       "      <td>marital_single</td>\n",
       "      <td>0.263800</td>\n",
       "    </tr>\n",
       "    <tr>\n",
       "      <th>23</th>\n",
       "      <td>education_tertiary</td>\n",
       "      <td>0.222165</td>\n",
       "    </tr>\n",
       "    <tr>\n",
       "      <th>0</th>\n",
       "      <td>is_day10</td>\n",
       "      <td>0.051214</td>\n",
       "    </tr>\n",
       "    <tr>\n",
       "      <th>18</th>\n",
       "      <td>month_jun</td>\n",
       "      <td>-0.027076</td>\n",
       "    </tr>\n",
       "    <tr>\n",
       "      <th>16</th>\n",
       "      <td>month_aug</td>\n",
       "      <td>-0.055797</td>\n",
       "    </tr>\n",
       "    <tr>\n",
       "      <th>24</th>\n",
       "      <td>contact_telephone</td>\n",
       "      <td>-0.061442</td>\n",
       "    </tr>\n",
       "    <tr>\n",
       "      <th>22</th>\n",
       "      <td>education_primary</td>\n",
       "      <td>-0.147721</td>\n",
       "    </tr>\n",
       "    <tr>\n",
       "      <th>14</th>\n",
       "      <td>perloan_yes</td>\n",
       "      <td>-0.390954</td>\n",
       "    </tr>\n",
       "    <tr>\n",
       "      <th>13</th>\n",
       "      <td>housloan_yes</td>\n",
       "      <td>-0.636439</td>\n",
       "    </tr>\n",
       "  </tbody>\n",
       "</table>\n",
       "</div>"
      ],
      "text/plain": [
       "             Variables    Co-eff\n",
       "27    poutcome_success  2.616672\n",
       "19           month_mar  1.925530\n",
       "20           month_oct  1.619167\n",
       "17           month_dec  1.458584\n",
       "21           month_sep  1.430462\n",
       "6          job_retired  1.056221\n",
       "15           month_apr  0.915540\n",
       "11      job_unemployed  0.726387\n",
       "9          job_student  0.723519\n",
       "1           job_admin.  0.577465\n",
       "26      poutcome_other  0.528436\n",
       "5       job_management  0.482805\n",
       "7    job_self-employed  0.451711\n",
       "8         job_services  0.434445\n",
       "3     job_entrepreneur  0.433809\n",
       "10      job_technician  0.422323\n",
       "2      job_blue-collar  0.397635\n",
       "4        job_housemaid  0.341909\n",
       "28              age__1  0.331236\n",
       "25    poutcome_failure  0.305186\n",
       "12      marital_single  0.263800\n",
       "23  education_tertiary  0.222165\n",
       "0             is_day10  0.051214\n",
       "18           month_jun -0.027076\n",
       "16           month_aug -0.055797\n",
       "24   contact_telephone -0.061442\n",
       "22   education_primary -0.147721\n",
       "14         perloan_yes -0.390954\n",
       "13        housloan_yes -0.636439"
      ]
     },
     "execution_count": 44,
     "metadata": {},
     "output_type": "execute_result"
    }
   ],
   "source": [
    "#find key predictors of Term co-efff\n",
    "coeff=pd.concat([pd.DataFrame(X.columns),pd.DataFrame(np.transpose(logreg.coef_))],axis=1)\n",
    "coeff.columns=(\"Variables\",\"Co-eff\")\n",
    "coeff.sort_values(\"Co-eff\",ascending = False)"
   ]
  },
  {
   "cell_type": "code",
   "execution_count": 45,
   "metadata": {
    "scrolled": true
   },
   "outputs": [
    {
     "name": "stdout",
     "output_type": "stream",
     "text": [
      "<class 'pandas.core.frame.DataFrame'>\n",
      "RangeIndex: 45211 entries, 0 to 45210\n",
      "Data columns (total 29 columns):\n",
      "is_day10              45211 non-null int64\n",
      "job_admin.            45211 non-null uint8\n",
      "job_blue-collar       45211 non-null uint8\n",
      "job_entrepreneur      45211 non-null uint8\n",
      "job_housemaid         45211 non-null uint8\n",
      "job_management        45211 non-null uint8\n",
      "job_retired           45211 non-null uint8\n",
      "job_self-employed     45211 non-null uint8\n",
      "job_services          45211 non-null uint8\n",
      "job_student           45211 non-null uint8\n",
      "job_technician        45211 non-null uint8\n",
      "job_unemployed        45211 non-null uint8\n",
      "marital_single        45211 non-null uint8\n",
      "housloan_yes          45211 non-null uint8\n",
      "perloan_yes           45211 non-null uint8\n",
      "month_apr             45211 non-null uint8\n",
      "month_aug             45211 non-null uint8\n",
      "month_dec             45211 non-null uint8\n",
      "month_jun             45211 non-null uint8\n",
      "month_mar             45211 non-null uint8\n",
      "month_oct             45211 non-null uint8\n",
      "month_sep             45211 non-null uint8\n",
      "education_primary     45211 non-null uint8\n",
      "education_tertiary    45211 non-null uint8\n",
      "contact_telephone     45211 non-null uint8\n",
      "poutcome_failure      45211 non-null uint8\n",
      "poutcome_other        45211 non-null uint8\n",
      "poutcome_success      45211 non-null uint8\n",
      "age__1                45211 non-null uint8\n",
      "dtypes: int64(1), uint8(28)\n",
      "memory usage: 1.6 MB\n"
     ]
    }
   ],
   "source": [
    "X.info()"
   ]
  },
  {
   "cell_type": "code",
   "execution_count": 46,
   "metadata": {},
   "outputs": [],
   "source": [
    "# now applying our learnt model on test and also on train data\n",
    "\n",
    "y_pred_test = logreg.predict(x_test)"
   ]
  },
  {
   "cell_type": "markdown",
   "metadata": {
    "colab_type": "text",
    "id": "vRMoDacM2mig"
   },
   "source": [
    "### 5. Metrics for Logistic Regression  <a id='metrics'>"
   ]
  },
  {
   "cell_type": "code",
   "execution_count": 47,
   "metadata": {
    "scrolled": true
   },
   "outputs": [
    {
     "name": "stdout",
     "output_type": "stream",
     "text": [
      "Test Accuracy:  0.7783839575346505\n"
     ]
    }
   ],
   "source": [
    "# comparing the metrics of predicted lebel and real label of test data\n",
    "print(\"Test Accuracy: \", metrics.accuracy_score(y_test, y_pred_test))"
   ]
  },
  {
   "cell_type": "code",
   "execution_count": 48,
   "metadata": {},
   "outputs": [],
   "source": [
    "# creating a confusion matrix to understand the classification\n",
    "conf = metrics.confusion_matrix(y_test, y_pred_test)"
   ]
  },
  {
   "cell_type": "code",
   "execution_count": 49,
   "metadata": {
    "scrolled": true
   },
   "outputs": [
    {
     "data": {
      "text/plain": [
       "array([[0.66289642, 0.33710358],\n",
       "       [0.66709522, 0.33290478],\n",
       "       [0.79221738, 0.20778262],\n",
       "       ...,\n",
       "       [0.05330637, 0.94669363],\n",
       "       [0.61296218, 0.38703782],\n",
       "       [0.45852775, 0.54147225]])"
      ]
     },
     "execution_count": 49,
     "metadata": {},
     "output_type": "execute_result"
    }
   ],
   "source": [
    "# Actual Values of y_train\n",
    "y_train.value_counts()\n",
    "# Visualizing the output of Logistic Regression based on the X inputs and y_pred\n",
    "\n",
    "logreg.predict_proba(X)                               \n"
   ]
  },
  {
   "cell_type": "code",
   "execution_count": 50,
   "metadata": {},
   "outputs": [
    {
     "data": {
      "text/plain": [
       "0    11966\n",
       "1     1598\n",
       "Name: output, dtype: int64"
      ]
     },
     "execution_count": 50,
     "metadata": {},
     "output_type": "execute_result"
    }
   ],
   "source": [
    "# Actual Values of y_test\n",
    "y_test.value_counts()"
   ]
  },
  {
   "cell_type": "code",
   "execution_count": 51,
   "metadata": {
    "scrolled": false
   },
   "outputs": [
    {
     "data": {
      "text/plain": [
       "<matplotlib.axes._subplots.AxesSubplot at 0x71b8137048>"
      ]
     },
     "execution_count": 51,
     "metadata": {},
     "output_type": "execute_result"
    },
    {
     "data": {
      "image/png": "[encoded data removed]",
      "text/plain": [
       "<Figure size 432x288 with 2 Axes>"
      ]
     },
     "metadata": {},
     "output_type": "display_data"
    }
   ],
   "source": [
    "cmap = sns.cubehelix_palette(50, hue=0.05, rot=0, light=0.9, dark=0, as_cmap=True)\n",
    "sns.heatmap(conf,cmap = cmap,xticklabels=['Prediction No','Prediction Yes'],yticklabels=['Actual No','Actual Yes'], annot=True,\n",
    "            fmt='d')"
   ]
  },
  {
   "cell_type": "code",
   "execution_count": 52,
   "metadata": {
    "scrolled": true
   },
   "outputs": [
    {
     "name": "stdout",
     "output_type": "stream",
     "text": [
      "             precision    recall  f1-score   support\n",
      "\n",
      "          0       0.93      0.81      0.87     11966\n",
      "          1       0.28      0.56      0.37      1598\n",
      "\n",
      "avg / total       0.86      0.78      0.81     13564\n",
      "\n"
     ]
    }
   ],
   "source": [
    "# Creating Classification Report\n",
    "\n",
    "cr = metrics.classification_report(y_test, y_pred_test)\n",
    "print(cr)"
   ]
  },
  {
   "cell_type": "markdown",
   "metadata": {
    "colab_type": "text",
    "id": "6Wme-Hcs3ZfX"
   },
   "source": [
    "### 5 Decision Tree <a id='rf'>"
   ]
  },
  {
   "cell_type": "code",
   "execution_count": 53,
   "metadata": {
    "colab": {},
    "colab_type": "code",
    "id": "WT-JmY3t3Zd0",
    "outputId": "b5c003fb-744b-4efe-acec-59a4072422b6",
    "scrolled": false
   },
   "outputs": [
    {
     "data": {
      "text/plain": [
       "DecisionTreeClassifier(class_weight='balanced', criterion='entropy',\n",
       "            max_depth=3, max_features=None, max_leaf_nodes=None,\n",
       "            min_impurity_decrease=0.0, min_impurity_split=None,\n",
       "            min_samples_leaf=1, min_samples_split=2,\n",
       "            min_weight_fraction_leaf=0.0, presort=False, random_state=42,\n",
       "            splitter='best')"
      ]
     },
     "execution_count": 53,
     "metadata": {},
     "output_type": "execute_result"
    }
   ],
   "source": [
    "# Importing the packages for Decision Tree Classifier\n",
    "\n",
    "from sklearn import tree\n",
    "my_tree_one = tree.DecisionTreeClassifier(class_weight=\"balanced\",criterion=\"entropy\", max_depth=3, random_state=42)\n",
    "my_tree_one"
   ]
  },
  {
   "cell_type": "markdown",
   "metadata": {
    "colab_type": "text",
    "id": "nli08qA93Zd5"
   },
   "source": [
    "This shows all the hyperparameters of Decision Tree model"
   ]
  },
  {
   "cell_type": "markdown",
   "metadata": {
    "colab_type": "text",
    "id": "7urZ2rVy3Zd6"
   },
   "source": [
    "### 5.1 Training Decision Tree Model  <a id='tdt'>"
   ]
  },
  {
   "cell_type": "code",
   "execution_count": 54,
   "metadata": {},
   "outputs": [],
   "source": [
    "# splitting the data into train and test with 70:30 ratio\n",
    "\n",
    "Xd = df.drop('output',axis = 1)\n",
    "yd = df['output']\n",
    "\n",
    "from sklearn.cross_validation import train_test_split\n",
    "xd_train, xd_test, yd_train, yd_test = train_test_split(Xd, yd, test_size=0.30, random_state=42)"
   ]
  },
  {
   "cell_type": "code",
   "execution_count": 55,
   "metadata": {
    "colab": {},
    "colab_type": "code",
    "id": "eU3kwXxy3Zd7"
   },
   "outputs": [],
   "source": [
    "# Fit the decision tree model on your features and label\n",
    "\n",
    "my_tree_one = my_tree_one.fit(xd_train, yd_train)"
   ]
  },
  {
   "cell_type": "code",
   "execution_count": 56,
   "metadata": {
    "colab": {},
    "colab_type": "code",
    "id": "aWc_ntrA3Zd-",
    "outputId": "2792e77a-38fc-4df0-984e-43a1df89dd9d"
   },
   "outputs": [
    {
     "data": {
      "text/plain": [
       "[('pdays_cat', 0.0),\n",
       " ('is_prev10', 0.0),\n",
       " ('is_camp25', 0.0),\n",
       " ('is_day10', 0.0),\n",
       " ('job_admin.', 0.0),\n",
       " ('job_blue-collar', 0.0),\n",
       " ('job_entrepreneur', 0.0019463878371225132),\n",
       " ('job_housemaid', 0.0),\n",
       " ('job_management', 0.0),\n",
       " ('job_retired', 0.0),\n",
       " ('job_self-employed', 0.0),\n",
       " ('job_services', 0.0),\n",
       " ('job_student', 0.0),\n",
       " ('job_technician', 0.0),\n",
       " ('job_unemployed', 0.0005922687600584745),\n",
       " ('marital_divorced', 0.0),\n",
       " ('marital_married', 0.0),\n",
       " ('marital_single', 0.0),\n",
       " ('crddefault_no', 0.0),\n",
       " ('crddefault_yes', 0.0),\n",
       " ('housloan_no', 0.003719785894236718),\n",
       " ('housloan_yes', 0.0),\n",
       " ('perloan_no', 0.0),\n",
       " ('perloan_yes', 0.0),\n",
       " ('month_apr', 0.0),\n",
       " ('month_aug', 0.0),\n",
       " ('month_dec', 0.0),\n",
       " ('month_jun', 0.0),\n",
       " ('month_mar', 0.0),\n",
       " ('month_oct', 0.0),\n",
       " ('month_sep', 0.0),\n",
       " ('education_primary', 0.0),\n",
       " ('education_secondary', 0.0),\n",
       " ('education_tertiary', 0.0),\n",
       " ('education_unknown', 0.0),\n",
       " ('contact_cellular', 0.2215318656754989),\n",
       " ('contact_telephone', 0.09438669039295491),\n",
       " ('poutcome_failure', 0.0),\n",
       " ('poutcome_other', 0.0),\n",
       " ('poutcome_success', 0.5656985610810594),\n",
       " ('age__1', 0.0),\n",
       " ('age__2', 0.11212444035906906),\n",
       " ('age__3', 0.0),\n",
       " ('pdays__0', 0.0),\n",
       " ('pdays__1', 0.0)]"
      ]
     },
     "execution_count": 56,
     "metadata": {},
     "output_type": "execute_result"
    }
   ],
   "source": [
    "# The feature_importances_ attribute make it simple to interpret the significance of the predictors you include\n",
    "\n",
    "list(zip(Xd.columns,my_tree_one.feature_importances_))"
   ]
  },
  {
   "cell_type": "code",
   "execution_count": 57,
   "metadata": {
    "colab": {},
    "colab_type": "code",
    "id": "qO0Tw06p3ZeD",
    "outputId": "bf54f43c-4ddc-415b-b685-9be4d13613db"
   },
   "outputs": [
    {
     "name": "stdout",
     "output_type": "stream",
     "text": [
      "0.7744493948873511\n"
     ]
    }
   ],
   "source": [
    "# The accuracy of the model\n",
    "\n",
    "print(my_tree_one.score(xd_train, yd_train))"
   ]
  },
  {
   "cell_type": "code",
   "execution_count": 58,
   "metadata": {
    "colab": {},
    "colab_type": "code",
    "id": "sFXTI6lD3ZeH",
    "outputId": "dd233403-414e-4465-b22c-cf90dc5e7c05"
   },
   "outputs": [
    {
     "data": {
      "image/svg+xml": [
       "<?xml version=\"1.0\" encoding=\"UTF-8\" standalone=\"no\"?>\r\n",
       "<!DOCTYPE svg PUBLIC \"-//W3C//DTD SVG 1.1//EN\"\r\n",
       " \"http://www.w3.org/Graphics/SVG/1.1/DTD/svg11.dtd\">\r\n",
       "<!-- Generated by graphviz version 2.38.0 (20140413.2041)\r\n",
       " -->\r\n",
       "<!-- Title: Tree Pages: 1 -->\r\n",
       "<svg width=\"1416pt\" height=\"373pt\"\r\n",
       " viewBox=\"0.00 0.00 1416.00 373.00\" xmlns=\"http://www.w3.org/2000/svg\" xmlns:xlink=\"http://www.w3.org/1999/xlink\">\r\n",
       "<g id=\"graph0\" class=\"graph\" transform=\"scale(1 1) rotate(0) translate(4 369)\">\r\n",
       "<title>Tree</title>\r\n",
       "<polygon fill=\"white\" stroke=\"none\" points=\"-4,4 -4,-369 1412,-369 1412,4 -4,4\"/>\r\n",
       "<!-- 0 -->\r\n",
       "<g id=\"node1\" class=\"node\"><title>0</title>\r\n",
       "<polygon fill=\"none\" stroke=\"black\" points=\"822,-365 656,-365 656,-297 822,-297 822,-365\"/>\r\n",
       "<text text-anchor=\"middle\" x=\"739\" y=\"-349.8\" font-family=\"Times New Roman,serif\" font-size=\"14.00\">poutcome_success &lt;= 0.5</text>\r\n",
       "<text text-anchor=\"middle\" x=\"739\" y=\"-334.8\" font-family=\"Times New Roman,serif\" font-size=\"14.00\">entropy = 1.0</text>\r\n",
       "<text text-anchor=\"middle\" x=\"739\" y=\"-319.8\" font-family=\"Times New Roman,serif\" font-size=\"14.00\">samples = 31647</text>\r\n",
       "<text text-anchor=\"middle\" x=\"739\" y=\"-304.8\" font-family=\"Times New Roman,serif\" font-size=\"14.00\">value = [15823.5, 15823.5]</text>\r\n",
       "</g>\r\n",
       "<!-- 1 -->\r\n",
       "<g id=\"node2\" class=\"node\"><title>1</title>\r\n",
       "<polygon fill=\"#e58139\" fill-opacity=\"0.172549\" stroke=\"black\" points=\"694.5,-261 501.5,-261 501.5,-193 694.5,-193 694.5,-261\"/>\r\n",
       "<text text-anchor=\"middle\" x=\"598\" y=\"-245.8\" font-family=\"Times New Roman,serif\" font-size=\"14.00\">contact_cellular &lt;= 0.5</text>\r\n",
       "<text text-anchor=\"middle\" x=\"598\" y=\"-230.8\" font-family=\"Times New Roman,serif\" font-size=\"14.00\">entropy = 0.994</text>\r\n",
       "<text text-anchor=\"middle\" x=\"598\" y=\"-215.8\" font-family=\"Times New Roman,serif\" font-size=\"14.00\">samples = 30599</text>\r\n",
       "<text text-anchor=\"middle\" x=\"598\" y=\"-200.8\" font-family=\"Times New Roman,serif\" font-size=\"14.00\">value = [15614.641, 12912.593]</text>\r\n",
       "</g>\r\n",
       "<!-- 0&#45;&gt;1 -->\r\n",
       "<g id=\"edge1\" class=\"edge\"><title>0&#45;&gt;1</title>\r\n",
       "<path fill=\"none\" stroke=\"black\" d=\"M693.221,-296.884C680.169,-287.442 665.823,-277.064 652.315,-267.292\"/>\r\n",
       "<polygon fill=\"black\" stroke=\"black\" points=\"654.185,-264.325 644.031,-261.299 650.082,-269.996 654.185,-264.325\"/>\r\n",
       "<text text-anchor=\"middle\" x=\"647.993\" y=\"-282.283\" font-family=\"Times New Roman,serif\" font-size=\"14.00\">True</text>\r\n",
       "</g>\r\n",
       "<!-- 8 -->\r\n",
       "<g id=\"node9\" class=\"node\"><title>8</title>\r\n",
       "<polygon fill=\"#399de5\" fill-opacity=\"0.929412\" stroke=\"black\" points=\"967.5,-261 794.5,-261 794.5,-193 967.5,-193 967.5,-261\"/>\r\n",
       "<text text-anchor=\"middle\" x=\"881\" y=\"-245.8\" font-family=\"Times New Roman,serif\" font-size=\"14.00\">housloan_no &lt;= 0.5</text>\r\n",
       "<text text-anchor=\"middle\" x=\"881\" y=\"-230.8\" font-family=\"Times New Roman,serif\" font-size=\"14.00\">entropy = 0.354</text>\r\n",
       "<text text-anchor=\"middle\" x=\"881\" y=\"-215.8\" font-family=\"Times New Roman,serif\" font-size=\"14.00\">samples = 1048</text>\r\n",
       "<text text-anchor=\"middle\" x=\"881\" y=\"-200.8\" font-family=\"Times New Roman,serif\" font-size=\"14.00\">value = [208.859, 2910.907]</text>\r\n",
       "</g>\r\n",
       "<!-- 0&#45;&gt;8 -->\r\n",
       "<g id=\"edge8\" class=\"edge\"><title>0&#45;&gt;8</title>\r\n",
       "<path fill=\"none\" stroke=\"black\" d=\"M785.103,-296.884C798.248,-287.442 812.696,-277.064 826.3,-267.292\"/>\r\n",
       "<polygon fill=\"black\" stroke=\"black\" points=\"828.562,-269.976 834.642,-261.299 824.478,-264.291 828.562,-269.976\"/>\r\n",
       "<text text-anchor=\"middle\" x=\"830.598\" y=\"-282.27\" font-family=\"Times New Roman,serif\" font-size=\"14.00\">False</text>\r\n",
       "</g>\r\n",
       "<!-- 2 -->\r\n",
       "<g id=\"node3\" class=\"node\"><title>2</title>\r\n",
       "<polygon fill=\"#e58139\" fill-opacity=\"0.576471\" stroke=\"black\" points=\"356.5,-157 177.5,-157 177.5,-89 356.5,-89 356.5,-157\"/>\r\n",
       "<text text-anchor=\"middle\" x=\"267\" y=\"-141.8\" font-family=\"Times New Roman,serif\" font-size=\"14.00\">contact_telephone &lt;= 0.5</text>\r\n",
       "<text text-anchor=\"middle\" x=\"267\" y=\"-126.8\" font-family=\"Times New Roman,serif\" font-size=\"14.00\">entropy = 0.878</text>\r\n",
       "<text text-anchor=\"middle\" x=\"267\" y=\"-111.8\" font-family=\"Times New Roman,serif\" font-size=\"14.00\">samples = 11015</text>\r\n",
       "<text text-anchor=\"middle\" x=\"267\" y=\"-96.8\" font-family=\"Times New Roman,serif\" font-size=\"14.00\">value = [5905.229, 2495.063]</text>\r\n",
       "</g>\r\n",
       "<!-- 1&#45;&gt;2 -->\r\n",
       "<g id=\"edge2\" class=\"edge\"><title>1&#45;&gt;2</title>\r\n",
       "<path fill=\"none\" stroke=\"black\" d=\"M501.371,-196.223C458.884,-183.13 409.025,-167.766 366.242,-154.582\"/>\r\n",
       "<polygon fill=\"black\" stroke=\"black\" points=\"367.25,-151.23 356.663,-151.63 365.189,-157.92 367.25,-151.23\"/>\r\n",
       "</g>\r\n",
       "<!-- 5 -->\r\n",
       "<g id=\"node6\" class=\"node\"><title>5</title>\r\n",
       "<polygon fill=\"#399de5\" fill-opacity=\"0.066667\" stroke=\"black\" points=\"687.5,-157 508.5,-157 508.5,-89 687.5,-89 687.5,-157\"/>\r\n",
       "<text text-anchor=\"middle\" x=\"598\" y=\"-141.8\" font-family=\"Times New Roman,serif\" font-size=\"14.00\">age__2 &lt;= 0.5</text>\r\n",
       "<text text-anchor=\"middle\" x=\"598\" y=\"-126.8\" font-family=\"Times New Roman,serif\" font-size=\"14.00\">entropy = 0.999</text>\r\n",
       "<text text-anchor=\"middle\" x=\"598\" y=\"-111.8\" font-family=\"Times New Roman,serif\" font-size=\"14.00\">samples = 19584</text>\r\n",
       "<text text-anchor=\"middle\" x=\"598\" y=\"-96.8\" font-family=\"Times New Roman,serif\" font-size=\"14.00\">value = [9709.412, 10417.53]</text>\r\n",
       "</g>\r\n",
       "<!-- 1&#45;&gt;5 -->\r\n",
       "<g id=\"edge5\" class=\"edge\"><title>1&#45;&gt;5</title>\r\n",
       "<path fill=\"none\" stroke=\"black\" d=\"M598,-192.884C598,-184.778 598,-175.982 598,-167.472\"/>\r\n",
       "<polygon fill=\"black\" stroke=\"black\" points=\"601.5,-167.299 598,-157.299 594.5,-167.299 601.5,-167.299\"/>\r\n",
       "</g>\r\n",
       "<!-- 3 -->\r\n",
       "<g id=\"node4\" class=\"node\"><title>3</title>\r\n",
       "<polygon fill=\"#e58139\" fill-opacity=\"0.698039\" stroke=\"black\" points=\"166,-53 0,-53 0,-0 166,-0 166,-53\"/>\r\n",
       "<text text-anchor=\"middle\" x=\"83\" y=\"-37.8\" font-family=\"Times New Roman,serif\" font-size=\"14.00\">entropy = 0.783</text>\r\n",
       "<text text-anchor=\"middle\" x=\"83\" y=\"-22.8\" font-family=\"Times New Roman,serif\" font-size=\"14.00\">samples = 9058</text>\r\n",
       "<text text-anchor=\"middle\" x=\"83\" y=\"-7.8\" font-family=\"Times New Roman,serif\" font-size=\"14.00\">value = [4929.42, 1496.18]</text>\r\n",
       "</g>\r\n",
       "<!-- 2&#45;&gt;3 -->\r\n",
       "<g id=\"edge3\" class=\"edge\"><title>2&#45;&gt;3</title>\r\n",
       "<path fill=\"none\" stroke=\"black\" d=\"M202.646,-88.9485C182.874,-78.794 161.224,-67.675 141.842,-57.7203\"/>\r\n",
       "<polygon fill=\"black\" stroke=\"black\" points=\"143.314,-54.5419 132.82,-53.0867 140.116,-60.7687 143.314,-54.5419\"/>\r\n",
       "</g>\r\n",
       "<!-- 4 -->\r\n",
       "<g id=\"node5\" class=\"node\"><title>4</title>\r\n",
       "<polygon fill=\"#399de5\" fill-opacity=\"0.023529\" stroke=\"black\" points=\"350,-53 184,-53 184,-0 350,-0 350,-53\"/>\r\n",
       "<text text-anchor=\"middle\" x=\"267\" y=\"-37.8\" font-family=\"Times New Roman,serif\" font-size=\"14.00\">entropy = 1.0</text>\r\n",
       "<text text-anchor=\"middle\" x=\"267\" y=\"-22.8\" font-family=\"Times New Roman,serif\" font-size=\"14.00\">samples = 1957</text>\r\n",
       "<text text-anchor=\"middle\" x=\"267\" y=\"-7.8\" font-family=\"Times New Roman,serif\" font-size=\"14.00\">value = [975.809, 998.883]</text>\r\n",
       "</g>\r\n",
       "<!-- 2&#45;&gt;4 -->\r\n",
       "<g id=\"edge4\" class=\"edge\"><title>2&#45;&gt;4</title>\r\n",
       "<path fill=\"none\" stroke=\"black\" d=\"M267,-88.9485C267,-80.7153 267,-71.848 267,-63.4814\"/>\r\n",
       "<polygon fill=\"black\" stroke=\"black\" points=\"270.5,-63.2367 267,-53.2367 263.5,-63.2367 270.5,-63.2367\"/>\r\n",
       "</g>\r\n",
       "<!-- 6 -->\r\n",
       "<g id=\"node7\" class=\"node\"><title>6</title>\r\n",
       "<polygon fill=\"#399de5\" fill-opacity=\"0.494118\" stroke=\"black\" points=\"541.5,-53 368.5,-53 368.5,-0 541.5,-0 541.5,-53\"/>\r\n",
       "<text text-anchor=\"middle\" x=\"455\" y=\"-37.8\" font-family=\"Times New Roman,serif\" font-size=\"14.00\">entropy = 0.921</text>\r\n",
       "<text text-anchor=\"middle\" x=\"455\" y=\"-22.8\" font-family=\"Times New Roman,serif\" font-size=\"14.00\">samples = 3870</text>\r\n",
       "<text text-anchor=\"middle\" x=\"455\" y=\"-7.8\" font-family=\"Times New Roman,serif\" font-size=\"14.00\">value = [1737.664, 3429.64]</text>\r\n",
       "</g>\r\n",
       "<!-- 5&#45;&gt;6 -->\r\n",
       "<g id=\"edge6\" class=\"edge\"><title>5&#45;&gt;6</title>\r\n",
       "<path fill=\"none\" stroke=\"black\" d=\"M547.986,-88.9485C533.174,-79.1601 517.005,-68.4756 502.366,-58.8015\"/>\r\n",
       "<polygon fill=\"black\" stroke=\"black\" points=\"504.218,-55.83 493.945,-53.2367 500.359,-61.6701 504.218,-55.83\"/>\r\n",
       "</g>\r\n",
       "<!-- 7 -->\r\n",
       "<g id=\"node8\" class=\"node\"><title>7</title>\r\n",
       "<polygon fill=\"#e58139\" fill-opacity=\"0.121569\" stroke=\"black\" points=\"738.5,-53 559.5,-53 559.5,-0 738.5,-0 738.5,-53\"/>\r\n",
       "<text text-anchor=\"middle\" x=\"649\" y=\"-37.8\" font-family=\"Times New Roman,serif\" font-size=\"14.00\">entropy = 0.997</text>\r\n",
       "<text text-anchor=\"middle\" x=\"649\" y=\"-22.8\" font-family=\"Times New Roman,serif\" font-size=\"14.00\">samples = 15714</text>\r\n",
       "<text text-anchor=\"middle\" x=\"649\" y=\"-7.8\" font-family=\"Times New Roman,serif\" font-size=\"14.00\">value = [7971.748, 6987.891]</text>\r\n",
       "</g>\r\n",
       "<!-- 5&#45;&gt;7 -->\r\n",
       "<g id=\"edge7\" class=\"edge\"><title>5&#45;&gt;7</title>\r\n",
       "<path fill=\"none\" stroke=\"black\" d=\"M615.837,-88.9485C620.527,-80.2579 625.599,-70.8608 630.331,-62.0917\"/>\r\n",
       "<polygon fill=\"black\" stroke=\"black\" points=\"633.441,-63.6992 635.11,-53.2367 627.281,-60.3747 633.441,-63.6992\"/>\r\n",
       "</g>\r\n",
       "<!-- 9 -->\r\n",
       "<g id=\"node10\" class=\"node\"><title>9</title>\r\n",
       "<polygon fill=\"#399de5\" fill-opacity=\"0.890196\" stroke=\"black\" points=\"960.5,-157 801.5,-157 801.5,-89 960.5,-89 960.5,-157\"/>\r\n",
       "<text text-anchor=\"middle\" x=\"881\" y=\"-141.8\" font-family=\"Times New Roman,serif\" font-size=\"14.00\">job_entrepreneur &lt;= 0.5</text>\r\n",
       "<text text-anchor=\"middle\" x=\"881\" y=\"-126.8\" font-family=\"Times New Roman,serif\" font-size=\"14.00\">entropy = 0.468</text>\r\n",
       "<text text-anchor=\"middle\" x=\"881\" y=\"-111.8\" font-family=\"Times New Roman,serif\" font-size=\"14.00\">samples = 344</text>\r\n",
       "<text text-anchor=\"middle\" x=\"881\" y=\"-96.8\" font-family=\"Times New Roman,serif\" font-size=\"14.00\">value = [88.864, 801.678]</text>\r\n",
       "</g>\r\n",
       "<!-- 8&#45;&gt;9 -->\r\n",
       "<g id=\"edge9\" class=\"edge\"><title>8&#45;&gt;9</title>\r\n",
       "<path fill=\"none\" stroke=\"black\" d=\"M881,-192.884C881,-184.778 881,-175.982 881,-167.472\"/>\r\n",
       "<polygon fill=\"black\" stroke=\"black\" points=\"884.5,-167.299 881,-157.299 877.5,-167.299 884.5,-167.299\"/>\r\n",
       "</g>\r\n",
       "<!-- 12 -->\r\n",
       "<g id=\"node13\" class=\"node\"><title>12</title>\r\n",
       "<polygon fill=\"#399de5\" fill-opacity=\"0.941176\" stroke=\"black\" points=\"1237.5,-157 1064.5,-157 1064.5,-89 1237.5,-89 1237.5,-157\"/>\r\n",
       "<text text-anchor=\"middle\" x=\"1151\" y=\"-141.8\" font-family=\"Times New Roman,serif\" font-size=\"14.00\">job_unemployed &lt;= 0.5</text>\r\n",
       "<text text-anchor=\"middle\" x=\"1151\" y=\"-126.8\" font-family=\"Times New Roman,serif\" font-size=\"14.00\">entropy = 0.302</text>\r\n",
       "<text text-anchor=\"middle\" x=\"1151\" y=\"-111.8\" font-family=\"Times New Roman,serif\" font-size=\"14.00\">samples = 704</text>\r\n",
       "<text text-anchor=\"middle\" x=\"1151\" y=\"-96.8\" font-family=\"Times New Roman,serif\" font-size=\"14.00\">value = [119.995, 2109.228]</text>\r\n",
       "</g>\r\n",
       "<!-- 8&#45;&gt;12 -->\r\n",
       "<g id=\"edge12\" class=\"edge\"><title>8&#45;&gt;12</title>\r\n",
       "<path fill=\"none\" stroke=\"black\" d=\"M967.544,-193.306C995.398,-182.783 1026.43,-171.061 1054.92,-160.295\"/>\r\n",
       "<polygon fill=\"black\" stroke=\"black\" points=\"1056.37,-163.492 1064.48,-156.684 1053.89,-156.944 1056.37,-163.492\"/>\r\n",
       "</g>\r\n",
       "<!-- 10 -->\r\n",
       "<g id=\"node11\" class=\"node\"><title>10</title>\r\n",
       "<polygon fill=\"#399de5\" fill-opacity=\"0.890196\" stroke=\"black\" points=\"903,-53 757,-53 757,-0 903,-0 903,-53\"/>\r\n",
       "<text text-anchor=\"middle\" x=\"830\" y=\"-37.8\" font-family=\"Times New Roman,serif\" font-size=\"14.00\">entropy = 0.461</text>\r\n",
       "<text text-anchor=\"middle\" x=\"830\" y=\"-22.8\" font-family=\"Times New Roman,serif\" font-size=\"14.00\">samples = 340</text>\r\n",
       "<text text-anchor=\"middle\" x=\"830\" y=\"-7.8\" font-family=\"Times New Roman,serif\" font-size=\"14.00\">value = [86.6, 801.678]</text>\r\n",
       "</g>\r\n",
       "<!-- 9&#45;&gt;10 -->\r\n",
       "<g id=\"edge10\" class=\"edge\"><title>9&#45;&gt;10</title>\r\n",
       "<path fill=\"none\" stroke=\"black\" d=\"M863.163,-88.9485C858.473,-80.2579 853.401,-70.8608 848.669,-62.0917\"/>\r\n",
       "<polygon fill=\"black\" stroke=\"black\" points=\"851.719,-60.3747 843.89,-53.2367 845.559,-63.6992 851.719,-60.3747\"/>\r\n",
       "</g>\r\n",
       "<!-- 11 -->\r\n",
       "<g id=\"node12\" class=\"node\"><title>11</title>\r\n",
       "<polygon fill=\"#e58139\" stroke=\"black\" points=\"1046.5,-53 921.5,-53 921.5,-0 1046.5,-0 1046.5,-53\"/>\r\n",
       "<text text-anchor=\"middle\" x=\"984\" y=\"-37.8\" font-family=\"Times New Roman,serif\" font-size=\"14.00\">entropy = 0.0</text>\r\n",
       "<text text-anchor=\"middle\" x=\"984\" y=\"-22.8\" font-family=\"Times New Roman,serif\" font-size=\"14.00\">samples = 4</text>\r\n",
       "<text text-anchor=\"middle\" x=\"984\" y=\"-7.8\" font-family=\"Times New Roman,serif\" font-size=\"14.00\">value = [2.264, 0.0]</text>\r\n",
       "</g>\r\n",
       "<!-- 9&#45;&gt;11 -->\r\n",
       "<g id=\"edge11\" class=\"edge\"><title>9&#45;&gt;11</title>\r\n",
       "<path fill=\"none\" stroke=\"black\" d=\"M917.024,-88.9485C927.195,-79.6175 938.253,-69.4722 948.398,-60.1641\"/>\r\n",
       "<polygon fill=\"black\" stroke=\"black\" points=\"950.946,-62.5762 955.948,-53.2367 946.214,-57.4182 950.946,-62.5762\"/>\r\n",
       "</g>\r\n",
       "<!-- 13 -->\r\n",
       "<g id=\"node14\" class=\"node\"><title>13</title>\r\n",
       "<polygon fill=\"#399de5\" fill-opacity=\"0.941176\" stroke=\"black\" points=\"1237.5,-53 1064.5,-53 1064.5,-0 1237.5,-0 1237.5,-53\"/>\r\n",
       "<text text-anchor=\"middle\" x=\"1151\" y=\"-37.8\" font-family=\"Times New Roman,serif\" font-size=\"14.00\">entropy = 0.311</text>\r\n",
       "<text text-anchor=\"middle\" x=\"1151\" y=\"-22.8\" font-family=\"Times New Roman,serif\" font-size=\"14.00\">samples = 666</text>\r\n",
       "<text text-anchor=\"middle\" x=\"1151\" y=\"-7.8\" font-family=\"Times New Roman,serif\" font-size=\"14.00\">value = [116.599, 1972.043]</text>\r\n",
       "</g>\r\n",
       "<!-- 12&#45;&gt;13 -->\r\n",
       "<g id=\"edge13\" class=\"edge\"><title>12&#45;&gt;13</title>\r\n",
       "<path fill=\"none\" stroke=\"black\" d=\"M1151,-88.9485C1151,-80.7153 1151,-71.848 1151,-63.4814\"/>\r\n",
       "<polygon fill=\"black\" stroke=\"black\" points=\"1154.5,-63.2367 1151,-53.2367 1147.5,-63.2367 1154.5,-63.2367\"/>\r\n",
       "</g>\r\n",
       "<!-- 14 -->\r\n",
       "<g id=\"node15\" class=\"node\"><title>14</title>\r\n",
       "<polygon fill=\"#399de5\" fill-opacity=\"0.976471\" stroke=\"black\" points=\"1408,-53 1256,-53 1256,-0 1408,-0 1408,-53\"/>\r\n",
       "<text text-anchor=\"middle\" x=\"1332\" y=\"-37.8\" font-family=\"Times New Roman,serif\" font-size=\"14.00\">entropy = 0.164</text>\r\n",
       "<text text-anchor=\"middle\" x=\"1332\" y=\"-22.8\" font-family=\"Times New Roman,serif\" font-size=\"14.00\">samples = 38</text>\r\n",
       "<text text-anchor=\"middle\" x=\"1332\" y=\"-7.8\" font-family=\"Times New Roman,serif\" font-size=\"14.00\">value = [3.396, 137.186]</text>\r\n",
       "</g>\r\n",
       "<!-- 12&#45;&gt;14 -->\r\n",
       "<g id=\"edge14\" class=\"edge\"><title>12&#45;&gt;14</title>\r\n",
       "<path fill=\"none\" stroke=\"black\" d=\"M1214.31,-88.9485C1233.75,-78.794 1255.05,-67.675 1274.12,-57.7203\"/>\r\n",
       "<polygon fill=\"black\" stroke=\"black\" points=\"1275.75,-60.8175 1282.99,-53.0867 1272.51,-54.6123 1275.75,-60.8175\"/>\r\n",
       "</g>\r\n",
       "</g>\r\n",
       "</svg>\r\n"
      ],
      "text/plain": [
       "<graphviz.files.Source at 0x71b8580550>"
      ]
     },
     "execution_count": 58,
     "metadata": {},
     "output_type": "execute_result"
    }
   ],
   "source": [
    "# Visualize the decision tree graph\n",
    "\n",
    "with open('tree.dot','w') as dotfile:\n",
    "    tree.export_graphviz(my_tree_one, out_file=dotfile, feature_names=Xd.columns, filled=True)\n",
    "    dotfile.close()\n",
    "    \n",
    "# You may have to install graphviz package using \n",
    "# conda install graphviz\n",
    "# conda install python-graphviz\n",
    "\n",
    "from graphviz import Source\n",
    "\n",
    "with open('tree.dot','r') as f:\n",
    "    text=f.read()\n",
    "    plot=Source(text)\n",
    "plot   "
   ]
  },
  {
   "cell_type": "markdown",
   "metadata": {
    "colab_type": "text",
    "id": "lht0NcF83ZeM"
   },
   "source": [
    "### 5.2 Predictions from Decision Tree Model   <a id='pdt'>"
   ]
  },
  {
   "cell_type": "code",
   "execution_count": 59,
   "metadata": {
    "colab": {},
    "colab_type": "code",
    "id": "bU0vPTsM3ZeN",
    "outputId": "5ddc3c7d-94ae-404a-da3b-c871cdf6e7db"
   },
   "outputs": [
    {
     "data": {
      "text/html": [
       "<div>\n",
       "<style scoped>\n",
       "    .dataframe tbody tr th:only-of-type {\n",
       "        vertical-align: middle;\n",
       "    }\n",
       "\n",
       "    .dataframe tbody tr th {\n",
       "        vertical-align: top;\n",
       "    }\n",
       "\n",
       "    .dataframe thead th {\n",
       "        text-align: right;\n",
       "    }\n",
       "</style>\n",
       "<table border=\"1\" class=\"dataframe\">\n",
       "  <thead>\n",
       "    <tr style=\"text-align: right;\">\n",
       "      <th></th>\n",
       "      <th>pdays_cat</th>\n",
       "      <th>is_prev10</th>\n",
       "      <th>is_camp25</th>\n",
       "      <th>is_day10</th>\n",
       "      <th>job_admin.</th>\n",
       "      <th>job_blue-collar</th>\n",
       "      <th>job_entrepreneur</th>\n",
       "      <th>job_housemaid</th>\n",
       "      <th>job_management</th>\n",
       "      <th>job_retired</th>\n",
       "      <th>...</th>\n",
       "      <th>contact_cellular</th>\n",
       "      <th>contact_telephone</th>\n",
       "      <th>poutcome_failure</th>\n",
       "      <th>poutcome_other</th>\n",
       "      <th>poutcome_success</th>\n",
       "      <th>age__1</th>\n",
       "      <th>age__2</th>\n",
       "      <th>age__3</th>\n",
       "      <th>pdays__0</th>\n",
       "      <th>pdays__1</th>\n",
       "    </tr>\n",
       "  </thead>\n",
       "  <tbody>\n",
       "    <tr>\n",
       "      <th>3776</th>\n",
       "      <td>0</td>\n",
       "      <td>1</td>\n",
       "      <td>1</td>\n",
       "      <td>0</td>\n",
       "      <td>0</td>\n",
       "      <td>1</td>\n",
       "      <td>0</td>\n",
       "      <td>0</td>\n",
       "      <td>0</td>\n",
       "      <td>0</td>\n",
       "      <td>...</td>\n",
       "      <td>0</td>\n",
       "      <td>0</td>\n",
       "      <td>0</td>\n",
       "      <td>0</td>\n",
       "      <td>0</td>\n",
       "      <td>0</td>\n",
       "      <td>1</td>\n",
       "      <td>0</td>\n",
       "      <td>1</td>\n",
       "      <td>0</td>\n",
       "    </tr>\n",
       "    <tr>\n",
       "      <th>9928</th>\n",
       "      <td>0</td>\n",
       "      <td>1</td>\n",
       "      <td>1</td>\n",
       "      <td>1</td>\n",
       "      <td>0</td>\n",
       "      <td>0</td>\n",
       "      <td>0</td>\n",
       "      <td>0</td>\n",
       "      <td>0</td>\n",
       "      <td>0</td>\n",
       "      <td>...</td>\n",
       "      <td>0</td>\n",
       "      <td>0</td>\n",
       "      <td>0</td>\n",
       "      <td>0</td>\n",
       "      <td>0</td>\n",
       "      <td>0</td>\n",
       "      <td>1</td>\n",
       "      <td>0</td>\n",
       "      <td>1</td>\n",
       "      <td>0</td>\n",
       "    </tr>\n",
       "    <tr>\n",
       "      <th>33409</th>\n",
       "      <td>0</td>\n",
       "      <td>1</td>\n",
       "      <td>1</td>\n",
       "      <td>0</td>\n",
       "      <td>0</td>\n",
       "      <td>0</td>\n",
       "      <td>0</td>\n",
       "      <td>0</td>\n",
       "      <td>0</td>\n",
       "      <td>0</td>\n",
       "      <td>...</td>\n",
       "      <td>1</td>\n",
       "      <td>0</td>\n",
       "      <td>0</td>\n",
       "      <td>0</td>\n",
       "      <td>0</td>\n",
       "      <td>1</td>\n",
       "      <td>0</td>\n",
       "      <td>0</td>\n",
       "      <td>1</td>\n",
       "      <td>0</td>\n",
       "    </tr>\n",
       "    <tr>\n",
       "      <th>31885</th>\n",
       "      <td>0</td>\n",
       "      <td>1</td>\n",
       "      <td>1</td>\n",
       "      <td>1</td>\n",
       "      <td>0</td>\n",
       "      <td>0</td>\n",
       "      <td>0</td>\n",
       "      <td>0</td>\n",
       "      <td>1</td>\n",
       "      <td>0</td>\n",
       "      <td>...</td>\n",
       "      <td>1</td>\n",
       "      <td>0</td>\n",
       "      <td>1</td>\n",
       "      <td>0</td>\n",
       "      <td>0</td>\n",
       "      <td>0</td>\n",
       "      <td>1</td>\n",
       "      <td>0</td>\n",
       "      <td>1</td>\n",
       "      <td>0</td>\n",
       "    </tr>\n",
       "    <tr>\n",
       "      <th>15738</th>\n",
       "      <td>0</td>\n",
       "      <td>1</td>\n",
       "      <td>1</td>\n",
       "      <td>0</td>\n",
       "      <td>0</td>\n",
       "      <td>0</td>\n",
       "      <td>0</td>\n",
       "      <td>0</td>\n",
       "      <td>1</td>\n",
       "      <td>0</td>\n",
       "      <td>...</td>\n",
       "      <td>1</td>\n",
       "      <td>0</td>\n",
       "      <td>0</td>\n",
       "      <td>0</td>\n",
       "      <td>0</td>\n",
       "      <td>0</td>\n",
       "      <td>1</td>\n",
       "      <td>0</td>\n",
       "      <td>1</td>\n",
       "      <td>0</td>\n",
       "    </tr>\n",
       "  </tbody>\n",
       "</table>\n",
       "<p>5 rows × 45 columns</p>\n",
       "</div>"
      ],
      "text/plain": [
       "       pdays_cat  is_prev10  is_camp25  is_day10  job_admin.  job_blue-collar  \\\n",
       "3776           0          1          1         0           0                1   \n",
       "9928           0          1          1         1           0                0   \n",
       "33409          0          1          1         0           0                0   \n",
       "31885          0          1          1         1           0                0   \n",
       "15738          0          1          1         0           0                0   \n",
       "\n",
       "       job_entrepreneur  job_housemaid  job_management  job_retired    ...     \\\n",
       "3776                  0              0               0            0    ...      \n",
       "9928                  0              0               0            0    ...      \n",
       "33409                 0              0               0            0    ...      \n",
       "31885                 0              0               1            0    ...      \n",
       "15738                 0              0               1            0    ...      \n",
       "\n",
       "       contact_cellular  contact_telephone  poutcome_failure  poutcome_other  \\\n",
       "3776                  0                  0                 0               0   \n",
       "9928                  0                  0                 0               0   \n",
       "33409                 1                  0                 0               0   \n",
       "31885                 1                  0                 1               0   \n",
       "15738                 1                  0                 0               0   \n",
       "\n",
       "       poutcome_success  age__1  age__2  age__3  pdays__0  pdays__1  \n",
       "3776                  0       0       1       0         1         0  \n",
       "9928                  0       0       1       0         1         0  \n",
       "33409                 0       1       0       0         1         0  \n",
       "31885                 0       0       1       0         1         0  \n",
       "15738                 0       0       1       0         1         0  \n",
       "\n",
       "[5 rows x 45 columns]"
      ]
     },
     "execution_count": 59,
     "metadata": {},
     "output_type": "execute_result"
    }
   ],
   "source": [
    "#This is the test dataset where we are going to predict who will take term deposit.\n",
    "\n",
    "xd_test.head()"
   ]
  },
  {
   "cell_type": "code",
   "execution_count": 60,
   "metadata": {
    "colab": {},
    "colab_type": "code",
    "id": "t5yGoy_33Zeg"
   },
   "outputs": [],
   "source": [
    "# Predictions from Decision Tree Model\n",
    "\n",
    "yd_pred = my_tree_one.predict(xd_test)"
   ]
  },
  {
   "cell_type": "markdown",
   "metadata": {
    "colab_type": "text",
    "id": "_m-TINkH3Zej"
   },
   "source": [
    "### 5.3 Evaluating the Decision Tree Model  <a id='edt'>"
   ]
  },
  {
   "cell_type": "code",
   "execution_count": 61,
   "metadata": {
    "colab": {},
    "colab_type": "code",
    "id": "LT0cql7l3Zek",
    "outputId": "e0d5ef8f-69f9-4d1a-ccf6-f7a886e4169d"
   },
   "outputs": [
    {
     "data": {
      "text/plain": [
       "array([[9748, 2218],\n",
       "       [ 901,  697]], dtype=int64)"
      ]
     },
     "execution_count": 61,
     "metadata": {},
     "output_type": "execute_result"
    }
   ],
   "source": [
    "#Print Confusion matrix on test Data\n",
    "from sklearn import metrics\n",
    "\n",
    "df_confusion = metrics.confusion_matrix(yd_test, yd_pred)\n",
    "df_confusion"
   ]
  },
  {
   "cell_type": "code",
   "execution_count": 62,
   "metadata": {
    "colab": {},
    "colab_type": "code",
    "id": "DYDp4u6X3Zev",
    "outputId": "b70d6c57-14d4-4d13-c38e-5342099ec6d6",
    "scrolled": false
   },
   "outputs": [
    {
     "data": {
      "text/plain": [
       "<matplotlib.axes._subplots.AxesSubplot at 0x71b3d9ff28>"
      ]
     },
     "execution_count": 62,
     "metadata": {},
     "output_type": "execute_result"
    },
    {
     "data": {
      "image/png": "[encoded data removed]",
      "text/plain": [
       "<Figure size 432x288 with 2 Axes>"
      ]
     },
     "metadata": {},
     "output_type": "display_data"
    }
   ],
   "source": [
    "cmap = sns.cubehelix_palette(50, hue=0.05, rot=0, light=0.9, dark=0, as_cmap=True)\n",
    "sns.heatmap(df_confusion,cmap = cmap,xticklabels=['Prediction No','Prediction Yes'],yticklabels=['Actual No','Actual Yes'], annot=True,\n",
    "            fmt='d')"
   ]
  },
  {
   "cell_type": "code",
   "execution_count": 63,
   "metadata": {
    "scrolled": true
   },
   "outputs": [
    {
     "name": "stdout",
     "output_type": "stream",
     "text": [
      "             precision    recall  f1-score   support\n",
      "\n",
      "          0       0.92      0.81      0.86     11966\n",
      "          1       0.24      0.44      0.31      1598\n",
      "\n",
      "avg / total       0.84      0.77      0.80     13564\n",
      "\n"
     ]
    }
   ],
   "source": [
    "# Creating Classification Report for DT\n",
    "\n",
    "cr = metrics.classification_report(yd_test, yd_pred)\n",
    "print(cr)"
   ]
  },
  {
   "cell_type": "markdown",
   "metadata": {
    "colab_type": "text",
    "collapsed": true,
    "id": "97tf9VJe3ZgE"
   },
   "source": [
    "### 5.4. Fine tuning Hyper parameters  <a id = 'appendix'>\n",
    "\n",
    "** Grid Search **\n",
    "\n",
    "Grid-searching is the process of scanning the data to configure optimal parameters for a given model.  <br>\n",
    "Let's apply Grid Search on a Decision Tree Model. It has many parameters like tree depth, criterion... etc. We will build different models with different combinations of these parameters and come up with the best model. \n"
   ]
  },
  {
   "cell_type": "code",
   "execution_count": 64,
   "metadata": {
    "colab": {},
    "colab_type": "code",
    "id": "-7nDi-1s3ZgG"
   },
   "outputs": [],
   "source": [
    "# Different parameters we want to test\n",
    "\n",
    "max_depth = [5,10,15] \n",
    "criterion = ['gini', 'entropy']"
   ]
  },
  {
   "cell_type": "code",
   "execution_count": 65,
   "metadata": {
    "colab": {},
    "colab_type": "code",
    "id": "WRMdtqRJ3ZgJ"
   },
   "outputs": [
    {
     "name": "stderr",
     "output_type": "stream",
     "text": [
      "C:\\Users\\sandeep.rathod\\AppData\\Local\\Continuum\\anaconda3\\lib\\site-packages\\sklearn\\grid_search.py:42: DeprecationWarning: This module was deprecated in version 0.18 in favor of the model_selection module into which all the refactored classes and functions are moved. This module will be removed in 0.20.\n",
      "  DeprecationWarning)\n"
     ]
    }
   ],
   "source": [
    "# Importing GridSearch\n",
    "\n",
    "from sklearn.grid_search import GridSearchCV"
   ]
  },
  {
   "cell_type": "code",
   "execution_count": 66,
   "metadata": {
    "colab": {},
    "colab_type": "code",
    "id": "LtriakTF3ZgP"
   },
   "outputs": [],
   "source": [
    "# Building the model\n",
    "\n",
    "my_tree_three = tree.DecisionTreeClassifier()\n",
    "\n",
    "# Cross-validation tells how well a model performs on a dataset using multiple samples of train data\n",
    "grid = GridSearchCV(estimator = my_tree_three, cv=3, \n",
    "                    param_grid = dict(max_depth = max_depth, criterion = criterion))"
   ]
  },
  {
   "cell_type": "code",
   "execution_count": 67,
   "metadata": {
    "colab": {},
    "colab_type": "code",
    "id": "Mi3rE_ZK3ZgS",
    "outputId": "0ff7d432-7014-433f-9230-fa564a4f0287"
   },
   "outputs": [
    {
     "data": {
      "text/plain": [
       "GridSearchCV(cv=3, error_score='raise',\n",
       "       estimator=DecisionTreeClassifier(class_weight=None, criterion='gini', max_depth=None,\n",
       "            max_features=None, max_leaf_nodes=None,\n",
       "            min_impurity_decrease=0.0, min_impurity_split=None,\n",
       "            min_samples_leaf=1, min_samples_split=2,\n",
       "            min_weight_fraction_leaf=0.0, presort=False, random_state=None,\n",
       "            splitter='best'),\n",
       "       fit_params={}, iid=True, n_jobs=1,\n",
       "       param_grid={'max_depth': [5, 10, 15], 'criterion': ['gini', 'entropy']},\n",
       "       pre_dispatch='2*n_jobs', refit=True, scoring=None, verbose=0)"
      ]
     },
     "execution_count": 67,
     "metadata": {},
     "output_type": "execute_result"
    }
   ],
   "source": [
    "grid.fit(xd_train,yd_train)"
   ]
  },
  {
   "cell_type": "code",
   "execution_count": 68,
   "metadata": {
    "colab": {},
    "colab_type": "code",
    "id": "AccBJDCC3ZgW",
    "outputId": "24ea23be-9104-4a35-85b9-e65d6a893434"
   },
   "outputs": [
    {
     "data": {
      "text/plain": [
       "0.8907953360508105"
      ]
     },
     "execution_count": 68,
     "metadata": {},
     "output_type": "execute_result"
    }
   ],
   "source": [
    "# Best accuracy score\n",
    "\n",
    "grid.best_score_"
   ]
  },
  {
   "cell_type": "code",
   "execution_count": 69,
   "metadata": {
    "colab": {},
    "colab_type": "code",
    "id": "1TMkA1Kz3ZgY",
    "outputId": "8f637c39-a979-49e5-9e4a-15bdd8da3d00"
   },
   "outputs": [
    {
     "data": {
      "text/plain": [
       "{'criterion': 'gini', 'max_depth': 5}"
      ]
     },
     "execution_count": 69,
     "metadata": {},
     "output_type": "execute_result"
    }
   ],
   "source": [
    "# Best parameters for the model\n",
    "\n",
    "grid.best_params_"
   ]
  },
  {
   "cell_type": "code",
   "execution_count": 71,
   "metadata": {
    "colab": {},
    "colab_type": "code",
    "id": "TSRkOH_F3Zge"
   },
   "outputs": [],
   "source": [
    "# Building the model based on new parameters\n",
    "\n",
    "my_tree_three = tree.DecisionTreeClassifier(class_weight=\"balanced\",criterion= 'entropy', max_depth= 10, random_state=42)"
   ]
  },
  {
   "cell_type": "code",
   "execution_count": 72,
   "metadata": {
    "colab": {},
    "colab_type": "code",
    "id": "u4mPjHco3Zgg",
    "outputId": "5e24c87e-5837-432f-db8f-22d5023d43ed"
   },
   "outputs": [
    {
     "data": {
      "text/plain": [
       "DecisionTreeClassifier(class_weight='balanced', criterion='entropy',\n",
       "            max_depth=10, max_features=None, max_leaf_nodes=None,\n",
       "            min_impurity_decrease=0.0, min_impurity_split=None,\n",
       "            min_samples_leaf=1, min_samples_split=2,\n",
       "            min_weight_fraction_leaf=0.0, presort=False, random_state=42,\n",
       "            splitter='best')"
      ]
     },
     "execution_count": 72,
     "metadata": {},
     "output_type": "execute_result"
    }
   ],
   "source": [
    "my_tree_three.fit(xd_train,yd_train)"
   ]
  },
  {
   "cell_type": "code",
   "execution_count": 73,
   "metadata": {
    "colab": {},
    "colab_type": "code",
    "id": "YBPFfs0y3Zgj",
    "outputId": "c970b81c-07b0-44bf-b0cf-72e2df2da4fe"
   },
   "outputs": [
    {
     "data": {
      "text/plain": [
       "0.8349922583499226"
      ]
     },
     "execution_count": 73,
     "metadata": {},
     "output_type": "execute_result"
    }
   ],
   "source": [
    "# Accuracy Score for new model\n",
    "\n",
    "my_tree_three.score(xd_train,yd_train)"
   ]
  },
  {
   "cell_type": "markdown",
   "metadata": {
    "colab_type": "text",
    "id": "n-TgaJM03Zgn"
   },
   "source": [
    "**Observation: **Our accuracy score improve from 0.89 to 0.89.47 "
   ]
  },
  {
   "cell_type": "code",
   "execution_count": 74,
   "metadata": {
    "colab": {},
    "colab_type": "code",
    "id": "t5yGoy_33Zeg"
   },
   "outputs": [],
   "source": [
    "# Predictions from Decision Tree Model\n",
    "\n",
    "yd_pred = my_tree_three.predict(xd_test)"
   ]
  },
  {
   "cell_type": "markdown",
   "metadata": {
    "colab_type": "text",
    "id": "_m-TINkH3Zej"
   },
   "source": [
    "### 5.3 Evaluating the Decision Tree Model after fine tuning <a id='edt'>"
   ]
  },
  {
   "cell_type": "code",
   "execution_count": 75,
   "metadata": {
    "colab": {},
    "colab_type": "code",
    "id": "LT0cql7l3Zek",
    "outputId": "e0d5ef8f-69f9-4d1a-ccf6-f7a886e4169d"
   },
   "outputs": [
    {
     "data": {
      "text/plain": [
       "array([[10343,  1623],\n",
       "       [  806,   792]], dtype=int64)"
      ]
     },
     "execution_count": 75,
     "metadata": {},
     "output_type": "execute_result"
    }
   ],
   "source": [
    "#Print Confusion matrix on test Data\n",
    "from sklearn import metrics\n",
    "\n",
    "df_confusion = metrics.confusion_matrix(yd_test, yd_pred)\n",
    "df_confusion"
   ]
  },
  {
   "cell_type": "code",
   "execution_count": 76,
   "metadata": {
    "colab": {},
    "colab_type": "code",
    "id": "DYDp4u6X3Zev",
    "outputId": "b70d6c57-14d4-4d13-c38e-5342099ec6d6",
    "scrolled": false
   },
   "outputs": [
    {
     "data": {
      "text/plain": [
       "<matplotlib.axes._subplots.AxesSubplot at 0x71b86b2940>"
      ]
     },
     "execution_count": 76,
     "metadata": {},
     "output_type": "execute_result"
    },
    {
     "data": {
      "image/png": "[encoded data removed]",
      "text/plain": [
       "<Figure size 432x288 with 2 Axes>"
      ]
     },
     "metadata": {},
     "output_type": "display_data"
    }
   ],
   "source": [
    "cmap = sns.cubehelix_palette(50, hue=0.05, rot=0, light=0.9, dark=0, as_cmap=True)\n",
    "sns.heatmap(df_confusion,cmap = cmap,xticklabels=['Prediction No','Prediction Yes'],yticklabels=['Actual No','Actual Yes'], annot=True,\n",
    "            fmt='d')"
   ]
  },
  {
   "cell_type": "code",
   "execution_count": 77,
   "metadata": {
    "scrolled": true
   },
   "outputs": [
    {
     "name": "stdout",
     "output_type": "stream",
     "text": [
      "             precision    recall  f1-score   support\n",
      "\n",
      "          0       0.93      0.86      0.89     11966\n",
      "          1       0.33      0.50      0.39      1598\n",
      "\n",
      "avg / total       0.86      0.82      0.84     13564\n",
      "\n"
     ]
    }
   ],
   "source": [
    "# Creating Classification Report for DT after fine tuning hyper parameters\n",
    "\n",
    "cr = metrics.classification_report(yd_test, yd_pred)\n",
    "print(cr)"
   ]
  },
  {
   "cell_type": "markdown",
   "metadata": {
    "colab_type": "text",
    "id": "6Wme-Hcs3ZfX"
   },
   "source": [
    "### 6. Random Forest  <a id='rf'>"
   ]
  },
  {
   "cell_type": "code",
   "execution_count": 78,
   "metadata": {
    "colab": {},
    "colab_type": "code",
    "id": "WCs9o0xt3Zfi"
   },
   "outputs": [
    {
     "data": {
      "text/plain": [
       "RandomForestClassifier(bootstrap=True, class_weight='balanced',\n",
       "            criterion='gini', max_depth=10, max_features='auto',\n",
       "            max_leaf_nodes=None, min_impurity_decrease=0.0,\n",
       "            min_impurity_split=None, min_samples_leaf=1,\n",
       "            min_samples_split=2, min_weight_fraction_leaf=0.0,\n",
       "            n_estimators=100, n_jobs=1, oob_score=False, random_state=1,\n",
       "            verbose=0, warm_start=False)"
      ]
     },
     "execution_count": 78,
     "metadata": {},
     "output_type": "execute_result"
    }
   ],
   "source": [
    "# Building and fitting Random Forest\n",
    "\n",
    "from sklearn.ensemble import RandomForestClassifier\n",
    "\n",
    "forest = RandomForestClassifier(class_weight=\"balanced\",max_depth = 10, n_estimators = 100, random_state = 1)\n",
    "forest"
   ]
  },
  {
   "cell_type": "markdown",
   "metadata": {
    "colab_type": "text",
    "id": "eRGRjIaG3Zfo"
   },
   "source": [
    "### 6.1 Training Random Forest Model  <a id='trf'>"
   ]
  },
  {
   "cell_type": "code",
   "execution_count": 79,
   "metadata": {
    "colab": {},
    "colab_type": "code",
    "id": "57y8Kb563Zfp"
   },
   "outputs": [],
   "source": [
    "# Fitting the model on Train Data\n",
    "\n",
    "my_forest = forest.fit(xd_train, yd_train)"
   ]
  },
  {
   "cell_type": "code",
   "execution_count": 80,
   "metadata": {
    "colab": {},
    "colab_type": "code",
    "id": "3NBizrtm3Zfs",
    "outputId": "74621811-1013-465f-f8b8-d4c98bc90317"
   },
   "outputs": [
    {
     "name": "stdout",
     "output_type": "stream",
     "text": [
      "0.8075962966473915\n"
     ]
    }
   ],
   "source": [
    "# Print the accuracy score of the fitted random forest\n",
    "\n",
    "print(my_forest.score(xd_train, yd_train))"
   ]
  },
  {
   "cell_type": "markdown",
   "metadata": {
    "colab_type": "text",
    "id": "d89WRX0B3Zfw"
   },
   "source": [
    " ### 6.2 Predictions from Random Forest Model   <a id='prf'>"
   ]
  },
  {
   "cell_type": "code",
   "execution_count": 81,
   "metadata": {
    "colab": {},
    "colab_type": "code",
    "id": "PCh-N_vf3Zfy"
   },
   "outputs": [],
   "source": [
    "# Making predictions\n",
    "\n",
    "yr_pred = my_forest.predict(xd_test)"
   ]
  },
  {
   "cell_type": "markdown",
   "metadata": {
    "colab_type": "text",
    "id": "DPsbC3zV3Zf4"
   },
   "source": [
    "### 6.3 Evaluating the Random Forest Model   <a id='erf'>"
   ]
  },
  {
   "cell_type": "code",
   "execution_count": 82,
   "metadata": {
    "colab": {},
    "colab_type": "code",
    "id": "TujR8jua3Zf5",
    "outputId": "f2042fdf-f91c-44c5-8a00-ed47f8df973c"
   },
   "outputs": [
    {
     "data": {
      "text/plain": [
       "array([[9883, 2083],\n",
       "       [ 678,  920]], dtype=int64)"
      ]
     },
     "execution_count": 82,
     "metadata": {},
     "output_type": "execute_result"
    }
   ],
   "source": [
    "df_confusion_rf = metrics.confusion_matrix(yd_test,yr_pred)\n",
    "df_confusion_rf"
   ]
  },
  {
   "cell_type": "code",
   "execution_count": 83,
   "metadata": {
    "colab": {},
    "colab_type": "code",
    "id": "KPGj5Zo53Zf9",
    "outputId": "a73a84af-3574-4413-f98f-925e609e74c0",
    "scrolled": false
   },
   "outputs": [
    {
     "data": {
      "text/plain": [
       "<matplotlib.axes._subplots.AxesSubplot at 0x71b8677e10>"
      ]
     },
     "execution_count": 83,
     "metadata": {},
     "output_type": "execute_result"
    },
    {
     "data": {
      "image/png": "[encoded data removed]",
      "text/plain": [
       "<Figure size 432x288 with 2 Axes>"
      ]
     },
     "metadata": {},
     "output_type": "display_data"
    }
   ],
   "source": [
    "cmap = sns.cubehelix_palette(50, hue=0.05, rot=0, light=0.9, dark=0, as_cmap=True)\n",
    "sns.heatmap(df_confusion_rf, cmap = cmap,xticklabels=['Prediction No','Prediction Yes'],yticklabels=['Actual No','Actual Yes'], annot=True,\n",
    "            fmt='d')"
   ]
  },
  {
   "cell_type": "code",
   "execution_count": 84,
   "metadata": {
    "scrolled": false
   },
   "outputs": [
    {
     "name": "stdout",
     "output_type": "stream",
     "text": [
      "             precision    recall  f1-score   support\n",
      "\n",
      "          0       0.94      0.83      0.88     11966\n",
      "          1       0.31      0.58      0.40      1598\n",
      "\n",
      "avg / total       0.86      0.80      0.82     13564\n",
      "\n"
     ]
    }
   ],
   "source": [
    "# Creating Classification Report\n",
    "\n",
    "cr = metrics.classification_report(yd_test, yr_pred)\n",
    "print(cr)"
   ]
  },
  {
   "cell_type": "markdown",
   "metadata": {
    "colab_type": "text",
    "collapsed": true,
    "id": "wEzsc58X3Zgo"
   },
   "source": [
    "**Randomized Search**\n",
    "\n",
    "Using Randomized Search, we can define a grid of hyperparameters and randomly sample from the grid to get the best combination of values. <br>\n",
    "Lets apply Randomized search on Random Forest model. This model has plenty of parameters like number of trees, depth of trees...etc. We will evaluate models with different parameters and come up with the best model."
   ]
  },
  {
   "cell_type": "code",
   "execution_count": 85,
   "metadata": {
    "colab": {},
    "colab_type": "code",
    "id": "1XPZQaPi3Zgp"
   },
   "outputs": [],
   "source": [
    "# Different parameters we want to test\n",
    "\n",
    "# Number of trees in random forest\n",
    "n_estimators = [int(x) for x in np.linspace(start = 200, stop = 500, num = 10)]\n",
    "# Number of features to consider at every split\n",
    "max_features = ['auto', 'sqrt']\n",
    "# Maximum number of levels in tree\n",
    "max_depth = [int(x) for x in np.linspace(10, 110, num = 11)]\n",
    "max_depth.append(None)\n",
    "# Minimum number of samples required to split a node\n",
    "min_samples_split = [2, 5, 10]\n",
    "# Minimum number of samples required at each leaf node\n",
    "min_samples_leaf = [1, 2, 4]\n",
    "# Method of selecting samples for training each tree\n",
    "bootstrap = [True, False]"
   ]
  },
  {
   "cell_type": "code",
   "execution_count": 86,
   "metadata": {
    "colab": {},
    "colab_type": "code",
    "id": "A_F--4ic3Zgs"
   },
   "outputs": [],
   "source": [
    "random_grid = {'n_estimators': n_estimators,\n",
    "               'max_features': max_features,\n",
    "               'max_depth': max_depth,\n",
    "               'min_samples_split': min_samples_split,\n",
    "               'min_samples_leaf': min_samples_leaf,\n",
    "               'bootstrap': bootstrap}"
   ]
  },
  {
   "cell_type": "code",
   "execution_count": 87,
   "metadata": {
    "colab": {},
    "colab_type": "code",
    "id": "8JyRt0Dn3Zgu"
   },
   "outputs": [],
   "source": [
    "# Importing RandomizedSearchCV\n",
    "\n",
    "from sklearn.grid_search import RandomizedSearchCV"
   ]
  },
  {
   "cell_type": "code",
   "execution_count": 88,
   "metadata": {
    "colab": {},
    "colab_type": "code",
    "id": "bzds47ZZ3Zgx"
   },
   "outputs": [],
   "source": [
    "forest_two = RandomForestClassifier()\n",
    "\n",
    "# Fitting 3 folds for each of 100 candidates, totalling 300 fits\n",
    "rf_random = RandomizedSearchCV(estimator = forest_two, param_distributions = random_grid, \n",
    "                               n_iter = 100, cv = 3, verbose=2, random_state=42)"
   ]
  },
  {
   "cell_type": "code",
   "execution_count": 193,
   "metadata": {
    "colab": {},
    "colab_type": "code",
    "id": "Nd8z2bvK3Zg4",
    "outputId": "00a625f5-eb4f-40e6-e4d8-4bce7a280027",
    "scrolled": true
   },
   "outputs": [
    {
     "name": "stdout",
     "output_type": "stream",
     "text": [
      "Fitting 3 folds for each of 100 candidates, totalling 300 fits\n",
      "[CV] n_estimators=233, min_samples_split=5, min_samples_leaf=1, max_features=sqrt, max_depth=30, bootstrap=True \n",
      "[CV]  n_estimators=233, min_samples_split=5, min_samples_leaf=1, max_features=sqrt, max_depth=30, bootstrap=True -  10.1s\n",
      "[CV] n_estimators=233, min_samples_split=5, min_samples_leaf=1, max_features=sqrt, max_depth=30, bootstrap=True \n"
     ]
    },
    {
     "name": "stderr",
     "output_type": "stream",
     "text": [
      "[Parallel(n_jobs=1)]: Done   1 out of   1 | elapsed:   10.1s remaining:    0.0s\n"
     ]
    },
    {
     "name": "stdout",
     "output_type": "stream",
     "text": [
      "[CV]  n_estimators=233, min_samples_split=5, min_samples_leaf=1, max_features=sqrt, max_depth=30, bootstrap=True -  10.4s\n",
      "[CV] n_estimators=233, min_samples_split=5, min_samples_leaf=1, max_features=sqrt, max_depth=30, bootstrap=True \n",
      "[CV]  n_estimators=233, min_samples_split=5, min_samples_leaf=1, max_features=sqrt, max_depth=30, bootstrap=True -  11.2s\n",
      "[CV] n_estimators=500, min_samples_split=5, min_samples_leaf=1, max_features=sqrt, max_depth=10, bootstrap=True \n",
      "[CV]  n_estimators=500, min_samples_split=5, min_samples_leaf=1, max_features=sqrt, max_depth=10, bootstrap=True -  12.0s\n",
      "[CV] n_estimators=500, min_samples_split=5, min_samples_leaf=1, max_features=sqrt, max_depth=10, bootstrap=True \n",
      "[CV]  n_estimators=500, min_samples_split=5, min_samples_leaf=1, max_features=sqrt, max_depth=10, bootstrap=True -  11.3s\n",
      "[CV] n_estimators=500, min_samples_split=5, min_samples_leaf=1, max_features=sqrt, max_depth=10, bootstrap=True \n",
      "[CV]  n_estimators=500, min_samples_split=5, min_samples_leaf=1, max_features=sqrt, max_depth=10, bootstrap=True -  11.0s\n",
      "[CV] n_estimators=366, min_samples_split=5, min_samples_leaf=2, max_features=sqrt, max_depth=10, bootstrap=False \n",
      "[CV]  n_estimators=366, min_samples_split=5, min_samples_leaf=2, max_features=sqrt, max_depth=10, bootstrap=False -   9.4s\n",
      "[CV] n_estimators=366, min_samples_split=5, min_samples_leaf=2, max_features=sqrt, max_depth=10, bootstrap=False \n",
      "[CV]  n_estimators=366, min_samples_split=5, min_samples_leaf=2, max_features=sqrt, max_depth=10, bootstrap=False -   9.5s\n",
      "[CV] n_estimators=366, min_samples_split=5, min_samples_leaf=2, max_features=sqrt, max_depth=10, bootstrap=False \n",
      "[CV]  n_estimators=366, min_samples_split=5, min_samples_leaf=2, max_features=sqrt, max_depth=10, bootstrap=False -   9.2s\n",
      "[CV] n_estimators=500, min_samples_split=2, min_samples_leaf=4, max_features=auto, max_depth=30, bootstrap=False \n",
      "[CV]  n_estimators=500, min_samples_split=2, min_samples_leaf=4, max_features=auto, max_depth=30, bootstrap=False -  21.8s\n",
      "[CV] n_estimators=500, min_samples_split=2, min_samples_leaf=4, max_features=auto, max_depth=30, bootstrap=False \n",
      "[CV]  n_estimators=500, min_samples_split=2, min_samples_leaf=4, max_features=auto, max_depth=30, bootstrap=False -  21.9s\n",
      "[CV] n_estimators=500, min_samples_split=2, min_samples_leaf=4, max_features=auto, max_depth=30, bootstrap=False \n",
      "[CV]  n_estimators=500, min_samples_split=2, min_samples_leaf=4, max_features=auto, max_depth=30, bootstrap=False -  24.2s\n",
      "[CV] n_estimators=433, min_samples_split=2, min_samples_leaf=4, max_features=sqrt, max_depth=10, bootstrap=True \n",
      "[CV]  n_estimators=433, min_samples_split=2, min_samples_leaf=4, max_features=sqrt, max_depth=10, bootstrap=True -   9.7s\n",
      "[CV] n_estimators=433, min_samples_split=2, min_samples_leaf=4, max_features=sqrt, max_depth=10, bootstrap=True \n",
      "[CV]  n_estimators=433, min_samples_split=2, min_samples_leaf=4, max_features=sqrt, max_depth=10, bootstrap=True -   9.4s\n",
      "[CV] n_estimators=433, min_samples_split=2, min_samples_leaf=4, max_features=sqrt, max_depth=10, bootstrap=True \n",
      "[CV]  n_estimators=433, min_samples_split=2, min_samples_leaf=4, max_features=sqrt, max_depth=10, bootstrap=True -   9.9s\n",
      "[CV] n_estimators=300, min_samples_split=5, min_samples_leaf=4, max_features=sqrt, max_depth=30, bootstrap=False \n",
      "[CV]  n_estimators=300, min_samples_split=5, min_samples_leaf=4, max_features=sqrt, max_depth=30, bootstrap=False -  12.9s\n",
      "[CV] n_estimators=300, min_samples_split=5, min_samples_leaf=4, max_features=sqrt, max_depth=30, bootstrap=False \n",
      "[CV]  n_estimators=300, min_samples_split=5, min_samples_leaf=4, max_features=sqrt, max_depth=30, bootstrap=False -  13.8s\n",
      "[CV] n_estimators=300, min_samples_split=5, min_samples_leaf=4, max_features=sqrt, max_depth=30, bootstrap=False \n",
      "[CV]  n_estimators=300, min_samples_split=5, min_samples_leaf=4, max_features=sqrt, max_depth=30, bootstrap=False -  12.9s\n",
      "[CV] n_estimators=333, min_samples_split=5, min_samples_leaf=2, max_features=sqrt, max_depth=100, bootstrap=False \n",
      "[CV]  n_estimators=333, min_samples_split=5, min_samples_leaf=2, max_features=sqrt, max_depth=100, bootstrap=False -  15.9s\n",
      "[CV] n_estimators=333, min_samples_split=5, min_samples_leaf=2, max_features=sqrt, max_depth=100, bootstrap=False \n",
      "[CV]  n_estimators=333, min_samples_split=5, min_samples_leaf=2, max_features=sqrt, max_depth=100, bootstrap=False -  16.0s\n",
      "[CV] n_estimators=333, min_samples_split=5, min_samples_leaf=2, max_features=sqrt, max_depth=100, bootstrap=False \n",
      "[CV]  n_estimators=333, min_samples_split=5, min_samples_leaf=2, max_features=sqrt, max_depth=100, bootstrap=False -  16.1s\n",
      "[CV] n_estimators=266, min_samples_split=5, min_samples_leaf=1, max_features=sqrt, max_depth=60, bootstrap=False \n",
      "[CV]  n_estimators=266, min_samples_split=5, min_samples_leaf=1, max_features=sqrt, max_depth=60, bootstrap=False -  15.0s\n",
      "[CV] n_estimators=266, min_samples_split=5, min_samples_leaf=1, max_features=sqrt, max_depth=60, bootstrap=False \n",
      "[CV]  n_estimators=266, min_samples_split=5, min_samples_leaf=1, max_features=sqrt, max_depth=60, bootstrap=False -  14.8s\n",
      "[CV] n_estimators=266, min_samples_split=5, min_samples_leaf=1, max_features=sqrt, max_depth=60, bootstrap=False \n",
      "[CV]  n_estimators=266, min_samples_split=5, min_samples_leaf=1, max_features=sqrt, max_depth=60, bootstrap=False -  15.2s\n",
      "[CV] n_estimators=333, min_samples_split=2, min_samples_leaf=1, max_features=auto, max_depth=50, bootstrap=False \n",
      "[CV]  n_estimators=333, min_samples_split=2, min_samples_leaf=1, max_features=auto, max_depth=50, bootstrap=False -  20.4s\n",
      "[CV] n_estimators=333, min_samples_split=2, min_samples_leaf=1, max_features=auto, max_depth=50, bootstrap=False \n",
      "[CV]  n_estimators=333, min_samples_split=2, min_samples_leaf=1, max_features=auto, max_depth=50, bootstrap=False -  19.9s\n",
      "[CV] n_estimators=333, min_samples_split=2, min_samples_leaf=1, max_features=auto, max_depth=50, bootstrap=False \n",
      "[CV]  n_estimators=333, min_samples_split=2, min_samples_leaf=1, max_features=auto, max_depth=50, bootstrap=False -  18.8s\n",
      "[CV] n_estimators=466, min_samples_split=5, min_samples_leaf=4, max_features=auto, max_depth=10, bootstrap=False \n",
      "[CV]  n_estimators=466, min_samples_split=5, min_samples_leaf=4, max_features=auto, max_depth=10, bootstrap=False -  11.7s\n",
      "[CV] n_estimators=466, min_samples_split=5, min_samples_leaf=4, max_features=auto, max_depth=10, bootstrap=False \n",
      "[CV]  n_estimators=466, min_samples_split=5, min_samples_leaf=4, max_features=auto, max_depth=10, bootstrap=False -  12.0s\n",
      "[CV] n_estimators=466, min_samples_split=5, min_samples_leaf=4, max_features=auto, max_depth=10, bootstrap=False \n",
      "[CV]  n_estimators=466, min_samples_split=5, min_samples_leaf=4, max_features=auto, max_depth=10, bootstrap=False -  11.7s\n",
      "[CV] n_estimators=233, min_samples_split=10, min_samples_leaf=4, max_features=auto, max_depth=70, bootstrap=True \n",
      "[CV]  n_estimators=233, min_samples_split=10, min_samples_leaf=4, max_features=auto, max_depth=70, bootstrap=True -   7.9s\n",
      "[CV] n_estimators=233, min_samples_split=10, min_samples_leaf=4, max_features=auto, max_depth=70, bootstrap=True \n",
      "[CV]  n_estimators=233, min_samples_split=10, min_samples_leaf=4, max_features=auto, max_depth=70, bootstrap=True -   7.8s\n",
      "[CV] n_estimators=233, min_samples_split=10, min_samples_leaf=4, max_features=auto, max_depth=70, bootstrap=True \n",
      "[CV]  n_estimators=233, min_samples_split=10, min_samples_leaf=4, max_features=auto, max_depth=70, bootstrap=True -   7.6s\n",
      "[CV] n_estimators=300, min_samples_split=5, min_samples_leaf=1, max_features=sqrt, max_depth=90, bootstrap=False \n",
      "[CV]  n_estimators=300, min_samples_split=5, min_samples_leaf=1, max_features=sqrt, max_depth=90, bootstrap=False -  18.1s\n",
      "[CV] n_estimators=300, min_samples_split=5, min_samples_leaf=1, max_features=sqrt, max_depth=90, bootstrap=False \n",
      "[CV]  n_estimators=300, min_samples_split=5, min_samples_leaf=1, max_features=sqrt, max_depth=90, bootstrap=False -  16.7s\n",
      "[CV] n_estimators=300, min_samples_split=5, min_samples_leaf=1, max_features=sqrt, max_depth=90, bootstrap=False \n",
      "[CV]  n_estimators=300, min_samples_split=5, min_samples_leaf=1, max_features=sqrt, max_depth=90, bootstrap=False -  16.4s\n",
      "[CV] n_estimators=500, min_samples_split=10, min_samples_leaf=1, max_features=sqrt, max_depth=10, bootstrap=False \n"
     ]
    },
    {
     "name": "stdout",
     "output_type": "stream",
     "text": [
      "[CV]  n_estimators=500, min_samples_split=10, min_samples_leaf=1, max_features=sqrt, max_depth=10, bootstrap=False -  12.6s\n",
      "[CV] n_estimators=500, min_samples_split=10, min_samples_leaf=1, max_features=sqrt, max_depth=10, bootstrap=False \n",
      "[CV]  n_estimators=500, min_samples_split=10, min_samples_leaf=1, max_features=sqrt, max_depth=10, bootstrap=False -  15.3s\n",
      "[CV] n_estimators=500, min_samples_split=10, min_samples_leaf=1, max_features=sqrt, max_depth=10, bootstrap=False \n",
      "[CV]  n_estimators=500, min_samples_split=10, min_samples_leaf=1, max_features=sqrt, max_depth=10, bootstrap=False -  12.9s\n",
      "[CV] n_estimators=433, min_samples_split=5, min_samples_leaf=2, max_features=sqrt, max_depth=10, bootstrap=False \n",
      "[CV]  n_estimators=433, min_samples_split=5, min_samples_leaf=2, max_features=sqrt, max_depth=10, bootstrap=False -  11.2s\n",
      "[CV] n_estimators=433, min_samples_split=5, min_samples_leaf=2, max_features=sqrt, max_depth=10, bootstrap=False \n",
      "[CV]  n_estimators=433, min_samples_split=5, min_samples_leaf=2, max_features=sqrt, max_depth=10, bootstrap=False -  11.4s\n",
      "[CV] n_estimators=433, min_samples_split=5, min_samples_leaf=2, max_features=sqrt, max_depth=10, bootstrap=False \n",
      "[CV]  n_estimators=433, min_samples_split=5, min_samples_leaf=2, max_features=sqrt, max_depth=10, bootstrap=False -  10.9s\n",
      "[CV] n_estimators=300, min_samples_split=10, min_samples_leaf=2, max_features=sqrt, max_depth=30, bootstrap=False \n",
      "[CV]  n_estimators=300, min_samples_split=10, min_samples_leaf=2, max_features=sqrt, max_depth=30, bootstrap=False -  14.9s\n",
      "[CV] n_estimators=300, min_samples_split=10, min_samples_leaf=2, max_features=sqrt, max_depth=30, bootstrap=False \n",
      "[CV]  n_estimators=300, min_samples_split=10, min_samples_leaf=2, max_features=sqrt, max_depth=30, bootstrap=False -  14.5s\n",
      "[CV] n_estimators=300, min_samples_split=10, min_samples_leaf=2, max_features=sqrt, max_depth=30, bootstrap=False \n",
      "[CV]  n_estimators=300, min_samples_split=10, min_samples_leaf=2, max_features=sqrt, max_depth=30, bootstrap=False -  13.9s\n",
      "[CV] n_estimators=466, min_samples_split=2, min_samples_leaf=4, max_features=auto, max_depth=50, bootstrap=False \n",
      "[CV]  n_estimators=466, min_samples_split=2, min_samples_leaf=4, max_features=auto, max_depth=50, bootstrap=False -  23.9s\n",
      "[CV] n_estimators=466, min_samples_split=2, min_samples_leaf=4, max_features=auto, max_depth=50, bootstrap=False \n",
      "[CV]  n_estimators=466, min_samples_split=2, min_samples_leaf=4, max_features=auto, max_depth=50, bootstrap=False -  21.8s\n",
      "[CV] n_estimators=466, min_samples_split=2, min_samples_leaf=4, max_features=auto, max_depth=50, bootstrap=False \n",
      "[CV]  n_estimators=466, min_samples_split=2, min_samples_leaf=4, max_features=auto, max_depth=50, bootstrap=False -  20.3s\n",
      "[CV] n_estimators=266, min_samples_split=5, min_samples_leaf=2, max_features=auto, max_depth=70, bootstrap=False \n",
      "[CV]  n_estimators=266, min_samples_split=5, min_samples_leaf=2, max_features=auto, max_depth=70, bootstrap=False -  13.3s\n",
      "[CV] n_estimators=266, min_samples_split=5, min_samples_leaf=2, max_features=auto, max_depth=70, bootstrap=False \n",
      "[CV]  n_estimators=266, min_samples_split=5, min_samples_leaf=2, max_features=auto, max_depth=70, bootstrap=False -  13.1s\n",
      "[CV] n_estimators=266, min_samples_split=5, min_samples_leaf=2, max_features=auto, max_depth=70, bootstrap=False \n",
      "[CV]  n_estimators=266, min_samples_split=5, min_samples_leaf=2, max_features=auto, max_depth=70, bootstrap=False -  12.7s\n",
      "[CV] n_estimators=333, min_samples_split=2, min_samples_leaf=1, max_features=sqrt, max_depth=20, bootstrap=True \n",
      "[CV]  n_estimators=333, min_samples_split=2, min_samples_leaf=1, max_features=sqrt, max_depth=20, bootstrap=True -  12.3s\n",
      "[CV] n_estimators=333, min_samples_split=2, min_samples_leaf=1, max_features=sqrt, max_depth=20, bootstrap=True \n",
      "[CV]  n_estimators=333, min_samples_split=2, min_samples_leaf=1, max_features=sqrt, max_depth=20, bootstrap=True -  12.7s\n",
      "[CV] n_estimators=333, min_samples_split=2, min_samples_leaf=1, max_features=sqrt, max_depth=20, bootstrap=True \n",
      "[CV]  n_estimators=333, min_samples_split=2, min_samples_leaf=1, max_features=sqrt, max_depth=20, bootstrap=True -  12.0s\n",
      "[CV] n_estimators=466, min_samples_split=10, min_samples_leaf=2, max_features=auto, max_depth=110, bootstrap=False \n",
      "[CV]  n_estimators=466, min_samples_split=10, min_samples_leaf=2, max_features=auto, max_depth=110, bootstrap=False -  21.7s\n",
      "[CV] n_estimators=466, min_samples_split=10, min_samples_leaf=2, max_features=auto, max_depth=110, bootstrap=False \n",
      "[CV]  n_estimators=466, min_samples_split=10, min_samples_leaf=2, max_features=auto, max_depth=110, bootstrap=False -  21.8s\n",
      "[CV] n_estimators=466, min_samples_split=10, min_samples_leaf=2, max_features=auto, max_depth=110, bootstrap=False \n",
      "[CV]  n_estimators=466, min_samples_split=10, min_samples_leaf=2, max_features=auto, max_depth=110, bootstrap=False -  21.5s\n",
      "[CV] n_estimators=266, min_samples_split=5, min_samples_leaf=1, max_features=auto, max_depth=80, bootstrap=True \n",
      "[CV]  n_estimators=266, min_samples_split=5, min_samples_leaf=1, max_features=auto, max_depth=80, bootstrap=True -  10.7s\n",
      "[CV] n_estimators=266, min_samples_split=5, min_samples_leaf=1, max_features=auto, max_depth=80, bootstrap=True \n",
      "[CV]  n_estimators=266, min_samples_split=5, min_samples_leaf=1, max_features=auto, max_depth=80, bootstrap=True -  11.0s\n",
      "[CV] n_estimators=266, min_samples_split=5, min_samples_leaf=1, max_features=auto, max_depth=80, bootstrap=True \n",
      "[CV]  n_estimators=266, min_samples_split=5, min_samples_leaf=1, max_features=auto, max_depth=80, bootstrap=True -  10.5s\n",
      "[CV] n_estimators=466, min_samples_split=10, min_samples_leaf=1, max_features=sqrt, max_depth=30, bootstrap=False \n",
      "[CV]  n_estimators=466, min_samples_split=10, min_samples_leaf=1, max_features=sqrt, max_depth=30, bootstrap=False -  23.7s\n",
      "[CV] n_estimators=466, min_samples_split=10, min_samples_leaf=1, max_features=sqrt, max_depth=30, bootstrap=False \n",
      "[CV]  n_estimators=466, min_samples_split=10, min_samples_leaf=1, max_features=sqrt, max_depth=30, bootstrap=False -  24.0s\n",
      "[CV] n_estimators=466, min_samples_split=10, min_samples_leaf=1, max_features=sqrt, max_depth=30, bootstrap=False \n",
      "[CV]  n_estimators=466, min_samples_split=10, min_samples_leaf=1, max_features=sqrt, max_depth=30, bootstrap=False -  23.8s\n",
      "[CV] n_estimators=433, min_samples_split=5, min_samples_leaf=1, max_features=sqrt, max_depth=70, bootstrap=False \n",
      "[CV]  n_estimators=433, min_samples_split=5, min_samples_leaf=1, max_features=sqrt, max_depth=70, bootstrap=False -  23.3s\n",
      "[CV] n_estimators=433, min_samples_split=5, min_samples_leaf=1, max_features=sqrt, max_depth=70, bootstrap=False \n",
      "[CV]  n_estimators=433, min_samples_split=5, min_samples_leaf=1, max_features=sqrt, max_depth=70, bootstrap=False -  24.5s\n",
      "[CV] n_estimators=433, min_samples_split=5, min_samples_leaf=1, max_features=sqrt, max_depth=70, bootstrap=False \n",
      "[CV]  n_estimators=433, min_samples_split=5, min_samples_leaf=1, max_features=sqrt, max_depth=70, bootstrap=False -  23.7s\n",
      "[CV] n_estimators=400, min_samples_split=5, min_samples_leaf=4, max_features=sqrt, max_depth=80, bootstrap=True \n",
      "[CV]  n_estimators=400, min_samples_split=5, min_samples_leaf=4, max_features=sqrt, max_depth=80, bootstrap=True -  12.9s\n",
      "[CV] n_estimators=400, min_samples_split=5, min_samples_leaf=4, max_features=sqrt, max_depth=80, bootstrap=True \n",
      "[CV]  n_estimators=400, min_samples_split=5, min_samples_leaf=4, max_features=sqrt, max_depth=80, bootstrap=True -  13.0s\n",
      "[CV] n_estimators=400, min_samples_split=5, min_samples_leaf=4, max_features=sqrt, max_depth=80, bootstrap=True \n",
      "[CV]  n_estimators=400, min_samples_split=5, min_samples_leaf=4, max_features=sqrt, max_depth=80, bootstrap=True -  13.3s\n",
      "[CV] n_estimators=466, min_samples_split=2, min_samples_leaf=2, max_features=auto, max_depth=None, bootstrap=True \n",
      "[CV]  n_estimators=466, min_samples_split=2, min_samples_leaf=2, max_features=auto, max_depth=None, bootstrap=True -  16.6s\n",
      "[CV] n_estimators=466, min_samples_split=2, min_samples_leaf=2, max_features=auto, max_depth=None, bootstrap=True \n",
      "[CV]  n_estimators=466, min_samples_split=2, min_samples_leaf=2, max_features=auto, max_depth=None, bootstrap=True -  18.2s\n",
      "[CV] n_estimators=466, min_samples_split=2, min_samples_leaf=2, max_features=auto, max_depth=None, bootstrap=True \n"
     ]
    },
    {
     "name": "stdout",
     "output_type": "stream",
     "text": [
      "[CV]  n_estimators=466, min_samples_split=2, min_samples_leaf=2, max_features=auto, max_depth=None, bootstrap=True -  17.5s\n",
      "[CV] n_estimators=400, min_samples_split=5, min_samples_leaf=1, max_features=sqrt, max_depth=80, bootstrap=False \n",
      "[CV]  n_estimators=400, min_samples_split=5, min_samples_leaf=1, max_features=sqrt, max_depth=80, bootstrap=False -  23.2s\n",
      "[CV] n_estimators=400, min_samples_split=5, min_samples_leaf=1, max_features=sqrt, max_depth=80, bootstrap=False \n",
      "[CV]  n_estimators=400, min_samples_split=5, min_samples_leaf=1, max_features=sqrt, max_depth=80, bootstrap=False -  22.6s\n",
      "[CV] n_estimators=400, min_samples_split=5, min_samples_leaf=1, max_features=sqrt, max_depth=80, bootstrap=False \n",
      "[CV]  n_estimators=400, min_samples_split=5, min_samples_leaf=1, max_features=sqrt, max_depth=80, bootstrap=False -  22.4s\n",
      "[CV] n_estimators=233, min_samples_split=2, min_samples_leaf=1, max_features=sqrt, max_depth=None, bootstrap=False \n",
      "[CV]  n_estimators=233, min_samples_split=2, min_samples_leaf=1, max_features=sqrt, max_depth=None, bootstrap=False -  13.0s\n",
      "[CV] n_estimators=233, min_samples_split=2, min_samples_leaf=1, max_features=sqrt, max_depth=None, bootstrap=False \n",
      "[CV]  n_estimators=233, min_samples_split=2, min_samples_leaf=1, max_features=sqrt, max_depth=None, bootstrap=False -  13.0s\n",
      "[CV] n_estimators=233, min_samples_split=2, min_samples_leaf=1, max_features=sqrt, max_depth=None, bootstrap=False \n",
      "[CV]  n_estimators=233, min_samples_split=2, min_samples_leaf=1, max_features=sqrt, max_depth=None, bootstrap=False -  13.0s\n",
      "[CV] n_estimators=400, min_samples_split=2, min_samples_leaf=1, max_features=auto, max_depth=40, bootstrap=False \n",
      "[CV]  n_estimators=400, min_samples_split=2, min_samples_leaf=1, max_features=auto, max_depth=40, bootstrap=False -  24.6s\n",
      "[CV] n_estimators=400, min_samples_split=2, min_samples_leaf=1, max_features=auto, max_depth=40, bootstrap=False \n",
      "[CV]  n_estimators=400, min_samples_split=2, min_samples_leaf=1, max_features=auto, max_depth=40, bootstrap=False -  25.7s\n",
      "[CV] n_estimators=400, min_samples_split=2, min_samples_leaf=1, max_features=auto, max_depth=40, bootstrap=False \n",
      "[CV]  n_estimators=400, min_samples_split=2, min_samples_leaf=1, max_features=auto, max_depth=40, bootstrap=False -  25.1s\n",
      "[CV] n_estimators=333, min_samples_split=5, min_samples_leaf=2, max_features=sqrt, max_depth=20, bootstrap=True \n",
      "[CV]  n_estimators=333, min_samples_split=5, min_samples_leaf=2, max_features=sqrt, max_depth=20, bootstrap=True -  11.6s\n",
      "[CV] n_estimators=333, min_samples_split=5, min_samples_leaf=2, max_features=sqrt, max_depth=20, bootstrap=True \n",
      "[CV]  n_estimators=333, min_samples_split=5, min_samples_leaf=2, max_features=sqrt, max_depth=20, bootstrap=True -  11.5s\n",
      "[CV] n_estimators=333, min_samples_split=5, min_samples_leaf=2, max_features=sqrt, max_depth=20, bootstrap=True \n",
      "[CV]  n_estimators=333, min_samples_split=5, min_samples_leaf=2, max_features=sqrt, max_depth=20, bootstrap=True -  11.5s\n",
      "[CV] n_estimators=500, min_samples_split=10, min_samples_leaf=4, max_features=auto, max_depth=100, bootstrap=False \n",
      "[CV]  n_estimators=500, min_samples_split=10, min_samples_leaf=4, max_features=auto, max_depth=100, bootstrap=False -  22.4s\n",
      "[CV] n_estimators=500, min_samples_split=10, min_samples_leaf=4, max_features=auto, max_depth=100, bootstrap=False \n",
      "[CV]  n_estimators=500, min_samples_split=10, min_samples_leaf=4, max_features=auto, max_depth=100, bootstrap=False -  22.7s\n",
      "[CV] n_estimators=500, min_samples_split=10, min_samples_leaf=4, max_features=auto, max_depth=100, bootstrap=False \n",
      "[CV]  n_estimators=500, min_samples_split=10, min_samples_leaf=4, max_features=auto, max_depth=100, bootstrap=False -  22.0s\n",
      "[CV] n_estimators=366, min_samples_split=2, min_samples_leaf=2, max_features=sqrt, max_depth=20, bootstrap=True \n",
      "[CV]  n_estimators=366, min_samples_split=2, min_samples_leaf=2, max_features=sqrt, max_depth=20, bootstrap=True -  12.8s\n",
      "[CV] n_estimators=366, min_samples_split=2, min_samples_leaf=2, max_features=sqrt, max_depth=20, bootstrap=True \n",
      "[CV]  n_estimators=366, min_samples_split=2, min_samples_leaf=2, max_features=sqrt, max_depth=20, bootstrap=True -  13.0s\n",
      "[CV] n_estimators=366, min_samples_split=2, min_samples_leaf=2, max_features=sqrt, max_depth=20, bootstrap=True \n",
      "[CV]  n_estimators=366, min_samples_split=2, min_samples_leaf=2, max_features=sqrt, max_depth=20, bootstrap=True -  12.6s\n",
      "[CV] n_estimators=366, min_samples_split=10, min_samples_leaf=4, max_features=sqrt, max_depth=20, bootstrap=False \n",
      "[CV]  n_estimators=366, min_samples_split=10, min_samples_leaf=4, max_features=sqrt, max_depth=20, bootstrap=False -  15.6s\n",
      "[CV] n_estimators=366, min_samples_split=10, min_samples_leaf=4, max_features=sqrt, max_depth=20, bootstrap=False \n",
      "[CV]  n_estimators=366, min_samples_split=10, min_samples_leaf=4, max_features=sqrt, max_depth=20, bootstrap=False -  15.2s\n",
      "[CV] n_estimators=366, min_samples_split=10, min_samples_leaf=4, max_features=sqrt, max_depth=20, bootstrap=False \n",
      "[CV]  n_estimators=366, min_samples_split=10, min_samples_leaf=4, max_features=sqrt, max_depth=20, bootstrap=False -  15.2s\n",
      "[CV] n_estimators=300, min_samples_split=2, min_samples_leaf=2, max_features=sqrt, max_depth=50, bootstrap=False \n",
      "[CV]  n_estimators=300, min_samples_split=2, min_samples_leaf=2, max_features=sqrt, max_depth=50, bootstrap=False -  15.0s\n",
      "[CV] n_estimators=300, min_samples_split=2, min_samples_leaf=2, max_features=sqrt, max_depth=50, bootstrap=False \n",
      "[CV]  n_estimators=300, min_samples_split=2, min_samples_leaf=2, max_features=sqrt, max_depth=50, bootstrap=False -  15.2s\n",
      "[CV] n_estimators=300, min_samples_split=2, min_samples_leaf=2, max_features=sqrt, max_depth=50, bootstrap=False \n",
      "[CV]  n_estimators=300, min_samples_split=2, min_samples_leaf=2, max_features=sqrt, max_depth=50, bootstrap=False -  15.3s\n",
      "[CV] n_estimators=300, min_samples_split=5, min_samples_leaf=1, max_features=sqrt, max_depth=100, bootstrap=False \n",
      "[CV]  n_estimators=300, min_samples_split=5, min_samples_leaf=1, max_features=sqrt, max_depth=100, bootstrap=False -  16.9s\n",
      "[CV] n_estimators=300, min_samples_split=5, min_samples_leaf=1, max_features=sqrt, max_depth=100, bootstrap=False \n",
      "[CV]  n_estimators=300, min_samples_split=5, min_samples_leaf=1, max_features=sqrt, max_depth=100, bootstrap=False -  16.8s\n",
      "[CV] n_estimators=300, min_samples_split=5, min_samples_leaf=1, max_features=sqrt, max_depth=100, bootstrap=False \n",
      "[CV]  n_estimators=300, min_samples_split=5, min_samples_leaf=1, max_features=sqrt, max_depth=100, bootstrap=False -  18.0s\n",
      "[CV] n_estimators=300, min_samples_split=10, min_samples_leaf=4, max_features=sqrt, max_depth=50, bootstrap=True \n",
      "[CV]  n_estimators=300, min_samples_split=10, min_samples_leaf=4, max_features=sqrt, max_depth=50, bootstrap=True -  10.2s\n",
      "[CV] n_estimators=300, min_samples_split=10, min_samples_leaf=4, max_features=sqrt, max_depth=50, bootstrap=True \n",
      "[CV]  n_estimators=300, min_samples_split=10, min_samples_leaf=4, max_features=sqrt, max_depth=50, bootstrap=True -   9.6s\n",
      "[CV] n_estimators=300, min_samples_split=10, min_samples_leaf=4, max_features=sqrt, max_depth=50, bootstrap=True \n",
      "[CV]  n_estimators=300, min_samples_split=10, min_samples_leaf=4, max_features=sqrt, max_depth=50, bootstrap=True -  10.0s\n",
      "[CV] n_estimators=466, min_samples_split=2, min_samples_leaf=4, max_features=sqrt, max_depth=90, bootstrap=True \n",
      "[CV]  n_estimators=466, min_samples_split=2, min_samples_leaf=4, max_features=sqrt, max_depth=90, bootstrap=True -  15.2s\n",
      "[CV] n_estimators=466, min_samples_split=2, min_samples_leaf=4, max_features=sqrt, max_depth=90, bootstrap=True \n",
      "[CV]  n_estimators=466, min_samples_split=2, min_samples_leaf=4, max_features=sqrt, max_depth=90, bootstrap=True -  15.1s\n",
      "[CV] n_estimators=466, min_samples_split=2, min_samples_leaf=4, max_features=sqrt, max_depth=90, bootstrap=True \n",
      "[CV]  n_estimators=466, min_samples_split=2, min_samples_leaf=4, max_features=sqrt, max_depth=90, bootstrap=True -  15.5s\n",
      "[CV] n_estimators=300, min_samples_split=10, min_samples_leaf=2, max_features=sqrt, max_depth=20, bootstrap=False \n",
      "[CV]  n_estimators=300, min_samples_split=10, min_samples_leaf=2, max_features=sqrt, max_depth=20, bootstrap=False -  12.4s\n",
      "[CV] n_estimators=300, min_samples_split=10, min_samples_leaf=2, max_features=sqrt, max_depth=20, bootstrap=False \n"
     ]
    },
    {
     "name": "stdout",
     "output_type": "stream",
     "text": [
      "[CV]  n_estimators=300, min_samples_split=10, min_samples_leaf=2, max_features=sqrt, max_depth=20, bootstrap=False -  12.1s\n",
      "[CV] n_estimators=300, min_samples_split=10, min_samples_leaf=2, max_features=sqrt, max_depth=20, bootstrap=False \n",
      "[CV]  n_estimators=300, min_samples_split=10, min_samples_leaf=2, max_features=sqrt, max_depth=20, bootstrap=False -  12.2s\n",
      "[CV] n_estimators=366, min_samples_split=5, min_samples_leaf=2, max_features=sqrt, max_depth=20, bootstrap=True \n",
      "[CV]  n_estimators=366, min_samples_split=5, min_samples_leaf=2, max_features=sqrt, max_depth=20, bootstrap=True -  11.9s\n",
      "[CV] n_estimators=366, min_samples_split=5, min_samples_leaf=2, max_features=sqrt, max_depth=20, bootstrap=True \n",
      "[CV]  n_estimators=366, min_samples_split=5, min_samples_leaf=2, max_features=sqrt, max_depth=20, bootstrap=True -  11.9s\n",
      "[CV] n_estimators=366, min_samples_split=5, min_samples_leaf=2, max_features=sqrt, max_depth=20, bootstrap=True \n",
      "[CV]  n_estimators=366, min_samples_split=5, min_samples_leaf=2, max_features=sqrt, max_depth=20, bootstrap=True -  12.1s\n",
      "[CV] n_estimators=300, min_samples_split=2, min_samples_leaf=1, max_features=auto, max_depth=100, bootstrap=True \n",
      "[CV]  n_estimators=300, min_samples_split=2, min_samples_leaf=1, max_features=auto, max_depth=100, bootstrap=True -  13.0s\n",
      "[CV] n_estimators=300, min_samples_split=2, min_samples_leaf=1, max_features=auto, max_depth=100, bootstrap=True \n",
      "[CV]  n_estimators=300, min_samples_split=2, min_samples_leaf=1, max_features=auto, max_depth=100, bootstrap=True -  12.6s\n",
      "[CV] n_estimators=300, min_samples_split=2, min_samples_leaf=1, max_features=auto, max_depth=100, bootstrap=True \n",
      "[CV]  n_estimators=300, min_samples_split=2, min_samples_leaf=1, max_features=auto, max_depth=100, bootstrap=True -  12.8s\n",
      "[CV] n_estimators=300, min_samples_split=5, min_samples_leaf=2, max_features=auto, max_depth=None, bootstrap=True \n",
      "[CV]  n_estimators=300, min_samples_split=5, min_samples_leaf=2, max_features=auto, max_depth=None, bootstrap=True -  10.7s\n",
      "[CV] n_estimators=300, min_samples_split=5, min_samples_leaf=2, max_features=auto, max_depth=None, bootstrap=True \n",
      "[CV]  n_estimators=300, min_samples_split=5, min_samples_leaf=2, max_features=auto, max_depth=None, bootstrap=True -  11.0s\n",
      "[CV] n_estimators=300, min_samples_split=5, min_samples_leaf=2, max_features=auto, max_depth=None, bootstrap=True \n",
      "[CV]  n_estimators=300, min_samples_split=5, min_samples_leaf=2, max_features=auto, max_depth=None, bootstrap=True -  10.7s\n",
      "[CV] n_estimators=333, min_samples_split=2, min_samples_leaf=2, max_features=sqrt, max_depth=60, bootstrap=True \n",
      "[CV]  n_estimators=333, min_samples_split=2, min_samples_leaf=2, max_features=sqrt, max_depth=60, bootstrap=True -  11.9s\n",
      "[CV] n_estimators=333, min_samples_split=2, min_samples_leaf=2, max_features=sqrt, max_depth=60, bootstrap=True \n",
      "[CV]  n_estimators=333, min_samples_split=2, min_samples_leaf=2, max_features=sqrt, max_depth=60, bootstrap=True -  12.5s\n",
      "[CV] n_estimators=333, min_samples_split=2, min_samples_leaf=2, max_features=sqrt, max_depth=60, bootstrap=True \n",
      "[CV]  n_estimators=333, min_samples_split=2, min_samples_leaf=2, max_features=sqrt, max_depth=60, bootstrap=True -  12.6s\n",
      "[CV] n_estimators=200, min_samples_split=5, min_samples_leaf=4, max_features=auto, max_depth=10, bootstrap=True \n",
      "[CV]  n_estimators=200, min_samples_split=5, min_samples_leaf=4, max_features=auto, max_depth=10, bootstrap=True -   4.3s\n",
      "[CV] n_estimators=200, min_samples_split=5, min_samples_leaf=4, max_features=auto, max_depth=10, bootstrap=True \n",
      "[CV]  n_estimators=200, min_samples_split=5, min_samples_leaf=4, max_features=auto, max_depth=10, bootstrap=True -   4.4s\n",
      "[CV] n_estimators=200, min_samples_split=5, min_samples_leaf=4, max_features=auto, max_depth=10, bootstrap=True \n",
      "[CV]  n_estimators=200, min_samples_split=5, min_samples_leaf=4, max_features=auto, max_depth=10, bootstrap=True -   4.1s\n",
      "[CV] n_estimators=266, min_samples_split=10, min_samples_leaf=2, max_features=sqrt, max_depth=60, bootstrap=True \n",
      "[CV]  n_estimators=266, min_samples_split=10, min_samples_leaf=2, max_features=sqrt, max_depth=60, bootstrap=True -   9.2s\n",
      "[CV] n_estimators=266, min_samples_split=10, min_samples_leaf=2, max_features=sqrt, max_depth=60, bootstrap=True \n",
      "[CV]  n_estimators=266, min_samples_split=10, min_samples_leaf=2, max_features=sqrt, max_depth=60, bootstrap=True -   9.4s\n",
      "[CV] n_estimators=266, min_samples_split=10, min_samples_leaf=2, max_features=sqrt, max_depth=60, bootstrap=True \n",
      "[CV]  n_estimators=266, min_samples_split=10, min_samples_leaf=2, max_features=sqrt, max_depth=60, bootstrap=True -   9.3s\n",
      "[CV] n_estimators=300, min_samples_split=2, min_samples_leaf=4, max_features=sqrt, max_depth=90, bootstrap=True \n",
      "[CV]  n_estimators=300, min_samples_split=2, min_samples_leaf=4, max_features=sqrt, max_depth=90, bootstrap=True -   9.9s\n",
      "[CV] n_estimators=300, min_samples_split=2, min_samples_leaf=4, max_features=sqrt, max_depth=90, bootstrap=True \n",
      "[CV]  n_estimators=300, min_samples_split=2, min_samples_leaf=4, max_features=sqrt, max_depth=90, bootstrap=True -   9.5s\n",
      "[CV] n_estimators=300, min_samples_split=2, min_samples_leaf=4, max_features=sqrt, max_depth=90, bootstrap=True \n",
      "[CV]  n_estimators=300, min_samples_split=2, min_samples_leaf=4, max_features=sqrt, max_depth=90, bootstrap=True -   9.6s\n",
      "[CV] n_estimators=233, min_samples_split=10, min_samples_leaf=4, max_features=sqrt, max_depth=90, bootstrap=True \n",
      "[CV]  n_estimators=233, min_samples_split=10, min_samples_leaf=4, max_features=sqrt, max_depth=90, bootstrap=True -   7.5s\n",
      "[CV] n_estimators=233, min_samples_split=10, min_samples_leaf=4, max_features=sqrt, max_depth=90, bootstrap=True \n",
      "[CV]  n_estimators=233, min_samples_split=10, min_samples_leaf=4, max_features=sqrt, max_depth=90, bootstrap=True -   7.7s\n",
      "[CV] n_estimators=233, min_samples_split=10, min_samples_leaf=4, max_features=sqrt, max_depth=90, bootstrap=True \n",
      "[CV]  n_estimators=233, min_samples_split=10, min_samples_leaf=4, max_features=sqrt, max_depth=90, bootstrap=True -   7.6s\n",
      "[CV] n_estimators=200, min_samples_split=5, min_samples_leaf=2, max_features=auto, max_depth=90, bootstrap=False \n",
      "[CV]  n_estimators=200, min_samples_split=5, min_samples_leaf=2, max_features=auto, max_depth=90, bootstrap=False -   9.5s\n",
      "[CV] n_estimators=200, min_samples_split=5, min_samples_leaf=2, max_features=auto, max_depth=90, bootstrap=False \n",
      "[CV]  n_estimators=200, min_samples_split=5, min_samples_leaf=2, max_features=auto, max_depth=90, bootstrap=False -   9.4s\n",
      "[CV] n_estimators=200, min_samples_split=5, min_samples_leaf=2, max_features=auto, max_depth=90, bootstrap=False \n",
      "[CV]  n_estimators=200, min_samples_split=5, min_samples_leaf=2, max_features=auto, max_depth=90, bootstrap=False -   9.4s\n",
      "[CV] n_estimators=333, min_samples_split=2, min_samples_leaf=1, max_features=sqrt, max_depth=110, bootstrap=True \n",
      "[CV]  n_estimators=333, min_samples_split=2, min_samples_leaf=1, max_features=sqrt, max_depth=110, bootstrap=True -  14.1s\n",
      "[CV] n_estimators=333, min_samples_split=2, min_samples_leaf=1, max_features=sqrt, max_depth=110, bootstrap=True \n",
      "[CV]  n_estimators=333, min_samples_split=2, min_samples_leaf=1, max_features=sqrt, max_depth=110, bootstrap=True -  17.9s\n",
      "[CV] n_estimators=333, min_samples_split=2, min_samples_leaf=1, max_features=sqrt, max_depth=110, bootstrap=True \n",
      "[CV]  n_estimators=333, min_samples_split=2, min_samples_leaf=1, max_features=sqrt, max_depth=110, bootstrap=True -  16.7s\n",
      "[CV] n_estimators=500, min_samples_split=2, min_samples_leaf=2, max_features=auto, max_depth=90, bootstrap=True \n",
      "[CV]  n_estimators=500, min_samples_split=2, min_samples_leaf=2, max_features=auto, max_depth=90, bootstrap=True -  22.6s\n",
      "[CV] n_estimators=500, min_samples_split=2, min_samples_leaf=2, max_features=auto, max_depth=90, bootstrap=True \n",
      "[CV]  n_estimators=500, min_samples_split=2, min_samples_leaf=2, max_features=auto, max_depth=90, bootstrap=True -  20.1s\n",
      "[CV] n_estimators=500, min_samples_split=2, min_samples_leaf=2, max_features=auto, max_depth=90, bootstrap=True \n",
      "[CV]  n_estimators=500, min_samples_split=2, min_samples_leaf=2, max_features=auto, max_depth=90, bootstrap=True -  18.8s\n",
      "[CV] n_estimators=233, min_samples_split=10, min_samples_leaf=4, max_features=sqrt, max_depth=80, bootstrap=False \n"
     ]
    },
    {
     "name": "stdout",
     "output_type": "stream",
     "text": [
      "[CV]  n_estimators=233, min_samples_split=10, min_samples_leaf=4, max_features=sqrt, max_depth=80, bootstrap=False -   9.9s\n",
      "[CV] n_estimators=233, min_samples_split=10, min_samples_leaf=4, max_features=sqrt, max_depth=80, bootstrap=False \n",
      "[CV]  n_estimators=233, min_samples_split=10, min_samples_leaf=4, max_features=sqrt, max_depth=80, bootstrap=False -  10.5s\n",
      "[CV] n_estimators=233, min_samples_split=10, min_samples_leaf=4, max_features=sqrt, max_depth=80, bootstrap=False \n",
      "[CV]  n_estimators=233, min_samples_split=10, min_samples_leaf=4, max_features=sqrt, max_depth=80, bootstrap=False -   9.9s\n",
      "[CV] n_estimators=366, min_samples_split=2, min_samples_leaf=4, max_features=sqrt, max_depth=70, bootstrap=False \n",
      "[CV]  n_estimators=366, min_samples_split=2, min_samples_leaf=4, max_features=sqrt, max_depth=70, bootstrap=False -  15.8s\n",
      "[CV] n_estimators=366, min_samples_split=2, min_samples_leaf=4, max_features=sqrt, max_depth=70, bootstrap=False \n",
      "[CV]  n_estimators=366, min_samples_split=2, min_samples_leaf=4, max_features=sqrt, max_depth=70, bootstrap=False -  16.5s\n",
      "[CV] n_estimators=366, min_samples_split=2, min_samples_leaf=4, max_features=sqrt, max_depth=70, bootstrap=False \n",
      "[CV]  n_estimators=366, min_samples_split=2, min_samples_leaf=4, max_features=sqrt, max_depth=70, bootstrap=False -  16.0s\n",
      "[CV] n_estimators=266, min_samples_split=2, min_samples_leaf=2, max_features=sqrt, max_depth=110, bootstrap=False \n",
      "[CV]  n_estimators=266, min_samples_split=2, min_samples_leaf=2, max_features=sqrt, max_depth=110, bootstrap=False -  12.9s\n",
      "[CV] n_estimators=266, min_samples_split=2, min_samples_leaf=2, max_features=sqrt, max_depth=110, bootstrap=False \n",
      "[CV]  n_estimators=266, min_samples_split=2, min_samples_leaf=2, max_features=sqrt, max_depth=110, bootstrap=False -  13.0s\n",
      "[CV] n_estimators=266, min_samples_split=2, min_samples_leaf=2, max_features=sqrt, max_depth=110, bootstrap=False \n",
      "[CV]  n_estimators=266, min_samples_split=2, min_samples_leaf=2, max_features=sqrt, max_depth=110, bootstrap=False -  14.4s\n",
      "[CV] n_estimators=466, min_samples_split=2, min_samples_leaf=1, max_features=auto, max_depth=20, bootstrap=False \n",
      "[CV]  n_estimators=466, min_samples_split=2, min_samples_leaf=1, max_features=auto, max_depth=20, bootstrap=False -  23.0s\n",
      "[CV] n_estimators=466, min_samples_split=2, min_samples_leaf=1, max_features=auto, max_depth=20, bootstrap=False \n",
      "[CV]  n_estimators=466, min_samples_split=2, min_samples_leaf=1, max_features=auto, max_depth=20, bootstrap=False -  22.3s\n",
      "[CV] n_estimators=466, min_samples_split=2, min_samples_leaf=1, max_features=auto, max_depth=20, bootstrap=False \n",
      "[CV]  n_estimators=466, min_samples_split=2, min_samples_leaf=1, max_features=auto, max_depth=20, bootstrap=False -  22.8s\n",
      "[CV] n_estimators=500, min_samples_split=10, min_samples_leaf=2, max_features=auto, max_depth=50, bootstrap=False \n",
      "[CV]  n_estimators=500, min_samples_split=10, min_samples_leaf=2, max_features=auto, max_depth=50, bootstrap=False -  24.1s\n",
      "[CV] n_estimators=500, min_samples_split=10, min_samples_leaf=2, max_features=auto, max_depth=50, bootstrap=False \n",
      "[CV]  n_estimators=500, min_samples_split=10, min_samples_leaf=2, max_features=auto, max_depth=50, bootstrap=False -  24.5s\n",
      "[CV] n_estimators=500, min_samples_split=10, min_samples_leaf=2, max_features=auto, max_depth=50, bootstrap=False \n",
      "[CV]  n_estimators=500, min_samples_split=10, min_samples_leaf=2, max_features=auto, max_depth=50, bootstrap=False -  26.6s\n",
      "[CV] n_estimators=333, min_samples_split=10, min_samples_leaf=4, max_features=auto, max_depth=50, bootstrap=False \n",
      "[CV]  n_estimators=333, min_samples_split=10, min_samples_leaf=4, max_features=auto, max_depth=50, bootstrap=False -  14.9s\n",
      "[CV] n_estimators=333, min_samples_split=10, min_samples_leaf=4, max_features=auto, max_depth=50, bootstrap=False \n",
      "[CV]  n_estimators=333, min_samples_split=10, min_samples_leaf=4, max_features=auto, max_depth=50, bootstrap=False -  15.5s\n",
      "[CV] n_estimators=333, min_samples_split=10, min_samples_leaf=4, max_features=auto, max_depth=50, bootstrap=False \n",
      "[CV]  n_estimators=333, min_samples_split=10, min_samples_leaf=4, max_features=auto, max_depth=50, bootstrap=False -  14.8s\n",
      "[CV] n_estimators=333, min_samples_split=5, min_samples_leaf=4, max_features=auto, max_depth=30, bootstrap=False \n",
      "[CV]  n_estimators=333, min_samples_split=5, min_samples_leaf=4, max_features=auto, max_depth=30, bootstrap=False -  14.7s\n",
      "[CV] n_estimators=333, min_samples_split=5, min_samples_leaf=4, max_features=auto, max_depth=30, bootstrap=False \n",
      "[CV]  n_estimators=333, min_samples_split=5, min_samples_leaf=4, max_features=auto, max_depth=30, bootstrap=False -  14.9s\n",
      "[CV] n_estimators=333, min_samples_split=5, min_samples_leaf=4, max_features=auto, max_depth=30, bootstrap=False \n",
      "[CV]  n_estimators=333, min_samples_split=5, min_samples_leaf=4, max_features=auto, max_depth=30, bootstrap=False -  16.9s\n",
      "[CV] n_estimators=400, min_samples_split=5, min_samples_leaf=2, max_features=sqrt, max_depth=None, bootstrap=False \n",
      "[CV]  n_estimators=400, min_samples_split=5, min_samples_leaf=2, max_features=sqrt, max_depth=None, bootstrap=False -  19.9s\n",
      "[CV] n_estimators=400, min_samples_split=5, min_samples_leaf=2, max_features=sqrt, max_depth=None, bootstrap=False \n",
      "[CV]  n_estimators=400, min_samples_split=5, min_samples_leaf=2, max_features=sqrt, max_depth=None, bootstrap=False -  19.6s\n",
      "[CV] n_estimators=400, min_samples_split=5, min_samples_leaf=2, max_features=sqrt, max_depth=None, bootstrap=False \n",
      "[CV]  n_estimators=400, min_samples_split=5, min_samples_leaf=2, max_features=sqrt, max_depth=None, bootstrap=False -  19.6s\n",
      "[CV] n_estimators=266, min_samples_split=2, min_samples_leaf=4, max_features=sqrt, max_depth=60, bootstrap=False \n",
      "[CV]  n_estimators=266, min_samples_split=2, min_samples_leaf=4, max_features=sqrt, max_depth=60, bootstrap=False -  11.4s\n",
      "[CV] n_estimators=266, min_samples_split=2, min_samples_leaf=4, max_features=sqrt, max_depth=60, bootstrap=False \n",
      "[CV]  n_estimators=266, min_samples_split=2, min_samples_leaf=4, max_features=sqrt, max_depth=60, bootstrap=False -  11.4s\n",
      "[CV] n_estimators=266, min_samples_split=2, min_samples_leaf=4, max_features=sqrt, max_depth=60, bootstrap=False \n",
      "[CV]  n_estimators=266, min_samples_split=2, min_samples_leaf=4, max_features=sqrt, max_depth=60, bootstrap=False -  11.1s\n",
      "[CV] n_estimators=433, min_samples_split=5, min_samples_leaf=1, max_features=auto, max_depth=10, bootstrap=True \n",
      "[CV]  n_estimators=433, min_samples_split=5, min_samples_leaf=1, max_features=auto, max_depth=10, bootstrap=True -   9.3s\n",
      "[CV] n_estimators=433, min_samples_split=5, min_samples_leaf=1, max_features=auto, max_depth=10, bootstrap=True \n",
      "[CV]  n_estimators=433, min_samples_split=5, min_samples_leaf=1, max_features=auto, max_depth=10, bootstrap=True -   9.3s\n",
      "[CV] n_estimators=433, min_samples_split=5, min_samples_leaf=1, max_features=auto, max_depth=10, bootstrap=True \n",
      "[CV]  n_estimators=433, min_samples_split=5, min_samples_leaf=1, max_features=auto, max_depth=10, bootstrap=True -   9.2s\n",
      "[CV] n_estimators=466, min_samples_split=2, min_samples_leaf=2, max_features=auto, max_depth=80, bootstrap=True \n",
      "[CV]  n_estimators=466, min_samples_split=2, min_samples_leaf=2, max_features=auto, max_depth=80, bootstrap=True -  16.8s\n",
      "[CV] n_estimators=466, min_samples_split=2, min_samples_leaf=2, max_features=auto, max_depth=80, bootstrap=True \n",
      "[CV]  n_estimators=466, min_samples_split=2, min_samples_leaf=2, max_features=auto, max_depth=80, bootstrap=True -  17.0s\n",
      "[CV] n_estimators=466, min_samples_split=2, min_samples_leaf=2, max_features=auto, max_depth=80, bootstrap=True \n",
      "[CV]  n_estimators=466, min_samples_split=2, min_samples_leaf=2, max_features=auto, max_depth=80, bootstrap=True -  16.9s\n",
      "[CV] n_estimators=400, min_samples_split=2, min_samples_leaf=1, max_features=auto, max_depth=100, bootstrap=True \n",
      "[CV]  n_estimators=400, min_samples_split=2, min_samples_leaf=1, max_features=auto, max_depth=100, bootstrap=True -  16.7s\n",
      "[CV] n_estimators=400, min_samples_split=2, min_samples_leaf=1, max_features=auto, max_depth=100, bootstrap=True \n",
      "[CV]  n_estimators=400, min_samples_split=2, min_samples_leaf=1, max_features=auto, max_depth=100, bootstrap=True -  17.1s\n",
      "[CV] n_estimators=400, min_samples_split=2, min_samples_leaf=1, max_features=auto, max_depth=100, bootstrap=True \n"
     ]
    },
    {
     "name": "stdout",
     "output_type": "stream",
     "text": [
      "[CV]  n_estimators=400, min_samples_split=2, min_samples_leaf=1, max_features=auto, max_depth=100, bootstrap=True -  16.7s\n",
      "[CV] n_estimators=400, min_samples_split=10, min_samples_leaf=2, max_features=sqrt, max_depth=80, bootstrap=True \n",
      "[CV]  n_estimators=400, min_samples_split=10, min_samples_leaf=2, max_features=sqrt, max_depth=80, bootstrap=True -  16.8s\n",
      "[CV] n_estimators=400, min_samples_split=10, min_samples_leaf=2, max_features=sqrt, max_depth=80, bootstrap=True \n",
      "[CV]  n_estimators=400, min_samples_split=10, min_samples_leaf=2, max_features=sqrt, max_depth=80, bootstrap=True -  14.4s\n",
      "[CV] n_estimators=400, min_samples_split=10, min_samples_leaf=2, max_features=sqrt, max_depth=80, bootstrap=True \n",
      "[CV]  n_estimators=400, min_samples_split=10, min_samples_leaf=2, max_features=sqrt, max_depth=80, bootstrap=True -  14.2s\n",
      "[CV] n_estimators=200, min_samples_split=2, min_samples_leaf=1, max_features=sqrt, max_depth=50, bootstrap=True \n",
      "[CV]  n_estimators=200, min_samples_split=2, min_samples_leaf=1, max_features=sqrt, max_depth=50, bootstrap=True -   8.5s\n",
      "[CV] n_estimators=200, min_samples_split=2, min_samples_leaf=1, max_features=sqrt, max_depth=50, bootstrap=True \n",
      "[CV]  n_estimators=200, min_samples_split=2, min_samples_leaf=1, max_features=sqrt, max_depth=50, bootstrap=True -   8.6s\n",
      "[CV] n_estimators=200, min_samples_split=2, min_samples_leaf=1, max_features=sqrt, max_depth=50, bootstrap=True \n",
      "[CV]  n_estimators=200, min_samples_split=2, min_samples_leaf=1, max_features=sqrt, max_depth=50, bootstrap=True -   8.9s\n",
      "[CV] n_estimators=233, min_samples_split=2, min_samples_leaf=4, max_features=sqrt, max_depth=10, bootstrap=True \n",
      "[CV]  n_estimators=233, min_samples_split=2, min_samples_leaf=4, max_features=sqrt, max_depth=10, bootstrap=True -   5.3s\n",
      "[CV] n_estimators=233, min_samples_split=2, min_samples_leaf=4, max_features=sqrt, max_depth=10, bootstrap=True \n",
      "[CV]  n_estimators=233, min_samples_split=2, min_samples_leaf=4, max_features=sqrt, max_depth=10, bootstrap=True -   5.1s\n",
      "[CV] n_estimators=233, min_samples_split=2, min_samples_leaf=4, max_features=sqrt, max_depth=10, bootstrap=True \n",
      "[CV]  n_estimators=233, min_samples_split=2, min_samples_leaf=4, max_features=sqrt, max_depth=10, bootstrap=True -   4.9s\n",
      "[CV] n_estimators=333, min_samples_split=10, min_samples_leaf=4, max_features=auto, max_depth=80, bootstrap=False \n",
      "[CV]  n_estimators=333, min_samples_split=10, min_samples_leaf=4, max_features=auto, max_depth=80, bootstrap=False -  14.5s\n",
      "[CV] n_estimators=333, min_samples_split=10, min_samples_leaf=4, max_features=auto, max_depth=80, bootstrap=False \n",
      "[CV]  n_estimators=333, min_samples_split=10, min_samples_leaf=4, max_features=auto, max_depth=80, bootstrap=False -  14.2s\n",
      "[CV] n_estimators=333, min_samples_split=10, min_samples_leaf=4, max_features=auto, max_depth=80, bootstrap=False \n",
      "[CV]  n_estimators=333, min_samples_split=10, min_samples_leaf=4, max_features=auto, max_depth=80, bootstrap=False -  14.3s\n",
      "[CV] n_estimators=366, min_samples_split=10, min_samples_leaf=2, max_features=auto, max_depth=None, bootstrap=False \n",
      "[CV]  n_estimators=366, min_samples_split=10, min_samples_leaf=2, max_features=auto, max_depth=None, bootstrap=False -  18.1s\n",
      "[CV] n_estimators=366, min_samples_split=10, min_samples_leaf=2, max_features=auto, max_depth=None, bootstrap=False \n",
      "[CV]  n_estimators=366, min_samples_split=10, min_samples_leaf=2, max_features=auto, max_depth=None, bootstrap=False -  17.2s\n",
      "[CV] n_estimators=366, min_samples_split=10, min_samples_leaf=2, max_features=auto, max_depth=None, bootstrap=False \n",
      "[CV]  n_estimators=366, min_samples_split=10, min_samples_leaf=2, max_features=auto, max_depth=None, bootstrap=False -  17.0s\n",
      "[CV] n_estimators=433, min_samples_split=10, min_samples_leaf=1, max_features=sqrt, max_depth=20, bootstrap=True \n",
      "[CV]  n_estimators=433, min_samples_split=10, min_samples_leaf=1, max_features=sqrt, max_depth=20, bootstrap=True -  15.1s\n",
      "[CV] n_estimators=433, min_samples_split=10, min_samples_leaf=1, max_features=sqrt, max_depth=20, bootstrap=True \n",
      "[CV]  n_estimators=433, min_samples_split=10, min_samples_leaf=1, max_features=sqrt, max_depth=20, bootstrap=True -  14.9s\n",
      "[CV] n_estimators=433, min_samples_split=10, min_samples_leaf=1, max_features=sqrt, max_depth=20, bootstrap=True \n",
      "[CV]  n_estimators=433, min_samples_split=10, min_samples_leaf=1, max_features=sqrt, max_depth=20, bootstrap=True -  14.8s\n",
      "[CV] n_estimators=433, min_samples_split=10, min_samples_leaf=2, max_features=auto, max_depth=None, bootstrap=True \n",
      "[CV]  n_estimators=433, min_samples_split=10, min_samples_leaf=2, max_features=auto, max_depth=None, bootstrap=True -  15.8s\n",
      "[CV] n_estimators=433, min_samples_split=10, min_samples_leaf=2, max_features=auto, max_depth=None, bootstrap=True \n",
      "[CV]  n_estimators=433, min_samples_split=10, min_samples_leaf=2, max_features=auto, max_depth=None, bootstrap=True -  17.3s\n",
      "[CV] n_estimators=433, min_samples_split=10, min_samples_leaf=2, max_features=auto, max_depth=None, bootstrap=True \n",
      "[CV]  n_estimators=433, min_samples_split=10, min_samples_leaf=2, max_features=auto, max_depth=None, bootstrap=True -  15.2s\n",
      "[CV] n_estimators=466, min_samples_split=2, min_samples_leaf=4, max_features=auto, max_depth=10, bootstrap=False \n",
      "[CV]  n_estimators=466, min_samples_split=2, min_samples_leaf=4, max_features=auto, max_depth=10, bootstrap=False -  12.0s\n",
      "[CV] n_estimators=466, min_samples_split=2, min_samples_leaf=4, max_features=auto, max_depth=10, bootstrap=False \n",
      "[CV]  n_estimators=466, min_samples_split=2, min_samples_leaf=4, max_features=auto, max_depth=10, bootstrap=False -  11.9s\n",
      "[CV] n_estimators=466, min_samples_split=2, min_samples_leaf=4, max_features=auto, max_depth=10, bootstrap=False \n",
      "[CV]  n_estimators=466, min_samples_split=2, min_samples_leaf=4, max_features=auto, max_depth=10, bootstrap=False -  12.1s\n",
      "[CV] n_estimators=400, min_samples_split=2, min_samples_leaf=2, max_features=auto, max_depth=70, bootstrap=True \n",
      "[CV]  n_estimators=400, min_samples_split=2, min_samples_leaf=2, max_features=auto, max_depth=70, bootstrap=True -  14.5s\n",
      "[CV] n_estimators=400, min_samples_split=2, min_samples_leaf=2, max_features=auto, max_depth=70, bootstrap=True \n",
      "[CV]  n_estimators=400, min_samples_split=2, min_samples_leaf=2, max_features=auto, max_depth=70, bootstrap=True -  14.7s\n",
      "[CV] n_estimators=400, min_samples_split=2, min_samples_leaf=2, max_features=auto, max_depth=70, bootstrap=True \n",
      "[CV]  n_estimators=400, min_samples_split=2, min_samples_leaf=2, max_features=auto, max_depth=70, bootstrap=True -  14.4s\n",
      "[CV] n_estimators=333, min_samples_split=10, min_samples_leaf=1, max_features=sqrt, max_depth=80, bootstrap=False \n",
      "[CV]  n_estimators=333, min_samples_split=10, min_samples_leaf=1, max_features=sqrt, max_depth=80, bootstrap=False -  17.8s\n",
      "[CV] n_estimators=333, min_samples_split=10, min_samples_leaf=1, max_features=sqrt, max_depth=80, bootstrap=False \n",
      "[CV]  n_estimators=333, min_samples_split=10, min_samples_leaf=1, max_features=sqrt, max_depth=80, bootstrap=False -  17.5s\n",
      "[CV] n_estimators=333, min_samples_split=10, min_samples_leaf=1, max_features=sqrt, max_depth=80, bootstrap=False \n",
      "[CV]  n_estimators=333, min_samples_split=10, min_samples_leaf=1, max_features=sqrt, max_depth=80, bootstrap=False -  17.4s\n",
      "[CV] n_estimators=500, min_samples_split=10, min_samples_leaf=2, max_features=auto, max_depth=60, bootstrap=False \n",
      "[CV]  n_estimators=500, min_samples_split=10, min_samples_leaf=2, max_features=auto, max_depth=60, bootstrap=False -  24.6s\n",
      "[CV] n_estimators=500, min_samples_split=10, min_samples_leaf=2, max_features=auto, max_depth=60, bootstrap=False \n",
      "[CV]  n_estimators=500, min_samples_split=10, min_samples_leaf=2, max_features=auto, max_depth=60, bootstrap=False -  24.6s\n",
      "[CV] n_estimators=500, min_samples_split=10, min_samples_leaf=2, max_features=auto, max_depth=60, bootstrap=False \n",
      "[CV]  n_estimators=500, min_samples_split=10, min_samples_leaf=2, max_features=auto, max_depth=60, bootstrap=False -  23.7s\n",
      "[CV] n_estimators=400, min_samples_split=2, min_samples_leaf=4, max_features=sqrt, max_depth=80, bootstrap=False \n",
      "[CV]  n_estimators=400, min_samples_split=2, min_samples_leaf=4, max_features=sqrt, max_depth=80, bootstrap=False -  17.1s\n",
      "[CV] n_estimators=400, min_samples_split=2, min_samples_leaf=4, max_features=sqrt, max_depth=80, bootstrap=False \n"
     ]
    },
    {
     "name": "stdout",
     "output_type": "stream",
     "text": [
      "[CV]  n_estimators=400, min_samples_split=2, min_samples_leaf=4, max_features=sqrt, max_depth=80, bootstrap=False -  17.2s\n",
      "[CV] n_estimators=400, min_samples_split=2, min_samples_leaf=4, max_features=sqrt, max_depth=80, bootstrap=False \n",
      "[CV]  n_estimators=400, min_samples_split=2, min_samples_leaf=4, max_features=sqrt, max_depth=80, bootstrap=False -  17.2s\n",
      "[CV] n_estimators=300, min_samples_split=2, min_samples_leaf=4, max_features=sqrt, max_depth=20, bootstrap=False \n",
      "[CV]  n_estimators=300, min_samples_split=2, min_samples_leaf=4, max_features=sqrt, max_depth=20, bootstrap=False -  12.1s\n",
      "[CV] n_estimators=300, min_samples_split=2, min_samples_leaf=4, max_features=sqrt, max_depth=20, bootstrap=False \n",
      "[CV]  n_estimators=300, min_samples_split=2, min_samples_leaf=4, max_features=sqrt, max_depth=20, bootstrap=False -  12.0s\n",
      "[CV] n_estimators=300, min_samples_split=2, min_samples_leaf=4, max_features=sqrt, max_depth=20, bootstrap=False \n",
      "[CV]  n_estimators=300, min_samples_split=2, min_samples_leaf=4, max_features=sqrt, max_depth=20, bootstrap=False -  11.9s\n",
      "[CV] n_estimators=466, min_samples_split=5, min_samples_leaf=2, max_features=sqrt, max_depth=60, bootstrap=True \n",
      "[CV]  n_estimators=466, min_samples_split=5, min_samples_leaf=2, max_features=sqrt, max_depth=60, bootstrap=True -  17.1s\n",
      "[CV] n_estimators=466, min_samples_split=5, min_samples_leaf=2, max_features=sqrt, max_depth=60, bootstrap=True \n",
      "[CV]  n_estimators=466, min_samples_split=5, min_samples_leaf=2, max_features=sqrt, max_depth=60, bootstrap=True -  17.1s\n",
      "[CV] n_estimators=466, min_samples_split=5, min_samples_leaf=2, max_features=sqrt, max_depth=60, bootstrap=True \n",
      "[CV]  n_estimators=466, min_samples_split=5, min_samples_leaf=2, max_features=sqrt, max_depth=60, bootstrap=True -  16.8s\n",
      "[CV] n_estimators=233, min_samples_split=5, min_samples_leaf=1, max_features=auto, max_depth=90, bootstrap=False \n",
      "[CV]  n_estimators=233, min_samples_split=5, min_samples_leaf=1, max_features=auto, max_depth=90, bootstrap=False -  13.2s\n",
      "[CV] n_estimators=233, min_samples_split=5, min_samples_leaf=1, max_features=auto, max_depth=90, bootstrap=False \n",
      "[CV]  n_estimators=233, min_samples_split=5, min_samples_leaf=1, max_features=auto, max_depth=90, bootstrap=False -  13.2s\n",
      "[CV] n_estimators=233, min_samples_split=5, min_samples_leaf=1, max_features=auto, max_depth=90, bootstrap=False \n",
      "[CV]  n_estimators=233, min_samples_split=5, min_samples_leaf=1, max_features=auto, max_depth=90, bootstrap=False -  13.1s\n",
      "[CV] n_estimators=433, min_samples_split=5, min_samples_leaf=1, max_features=auto, max_depth=90, bootstrap=True \n",
      "[CV]  n_estimators=433, min_samples_split=5, min_samples_leaf=1, max_features=auto, max_depth=90, bootstrap=True -  18.8s\n",
      "[CV] n_estimators=433, min_samples_split=5, min_samples_leaf=1, max_features=auto, max_depth=90, bootstrap=True \n",
      "[CV]  n_estimators=433, min_samples_split=5, min_samples_leaf=1, max_features=auto, max_depth=90, bootstrap=True -  18.4s\n",
      "[CV] n_estimators=433, min_samples_split=5, min_samples_leaf=1, max_features=auto, max_depth=90, bootstrap=True \n",
      "[CV]  n_estimators=433, min_samples_split=5, min_samples_leaf=1, max_features=auto, max_depth=90, bootstrap=True -  18.6s\n",
      "[CV] n_estimators=233, min_samples_split=10, min_samples_leaf=2, max_features=sqrt, max_depth=90, bootstrap=False \n",
      "[CV]  n_estimators=233, min_samples_split=10, min_samples_leaf=2, max_features=sqrt, max_depth=90, bootstrap=False -  11.5s\n",
      "[CV] n_estimators=233, min_samples_split=10, min_samples_leaf=2, max_features=sqrt, max_depth=90, bootstrap=False \n",
      "[CV]  n_estimators=233, min_samples_split=10, min_samples_leaf=2, max_features=sqrt, max_depth=90, bootstrap=False -  12.3s\n",
      "[CV] n_estimators=233, min_samples_split=10, min_samples_leaf=2, max_features=sqrt, max_depth=90, bootstrap=False \n",
      "[CV]  n_estimators=233, min_samples_split=10, min_samples_leaf=2, max_features=sqrt, max_depth=90, bootstrap=False -  11.4s\n",
      "[CV] n_estimators=433, min_samples_split=10, min_samples_leaf=1, max_features=sqrt, max_depth=None, bootstrap=True \n",
      "[CV]  n_estimators=433, min_samples_split=10, min_samples_leaf=1, max_features=sqrt, max_depth=None, bootstrap=True -  17.7s\n",
      "[CV] n_estimators=433, min_samples_split=10, min_samples_leaf=1, max_features=sqrt, max_depth=None, bootstrap=True \n",
      "[CV]  n_estimators=433, min_samples_split=10, min_samples_leaf=1, max_features=sqrt, max_depth=None, bootstrap=True -  18.7s\n",
      "[CV] n_estimators=433, min_samples_split=10, min_samples_leaf=1, max_features=sqrt, max_depth=None, bootstrap=True \n",
      "[CV]  n_estimators=433, min_samples_split=10, min_samples_leaf=1, max_features=sqrt, max_depth=None, bootstrap=True -  18.6s\n",
      "[CV] n_estimators=500, min_samples_split=5, min_samples_leaf=1, max_features=sqrt, max_depth=100, bootstrap=True \n",
      "[CV]  n_estimators=500, min_samples_split=5, min_samples_leaf=1, max_features=sqrt, max_depth=100, bootstrap=True -  20.7s\n",
      "[CV] n_estimators=500, min_samples_split=5, min_samples_leaf=1, max_features=sqrt, max_depth=100, bootstrap=True \n",
      "[CV]  n_estimators=500, min_samples_split=5, min_samples_leaf=1, max_features=sqrt, max_depth=100, bootstrap=True -  21.5s\n",
      "[CV] n_estimators=500, min_samples_split=5, min_samples_leaf=1, max_features=sqrt, max_depth=100, bootstrap=True \n",
      "[CV]  n_estimators=500, min_samples_split=5, min_samples_leaf=1, max_features=sqrt, max_depth=100, bootstrap=True -  20.1s\n",
      "[CV] n_estimators=333, min_samples_split=5, min_samples_leaf=2, max_features=sqrt, max_depth=10, bootstrap=True \n",
      "[CV]  n_estimators=333, min_samples_split=5, min_samples_leaf=2, max_features=sqrt, max_depth=10, bootstrap=True -   7.0s\n",
      "[CV] n_estimators=333, min_samples_split=5, min_samples_leaf=2, max_features=sqrt, max_depth=10, bootstrap=True \n",
      "[CV]  n_estimators=333, min_samples_split=5, min_samples_leaf=2, max_features=sqrt, max_depth=10, bootstrap=True -   7.3s\n",
      "[CV] n_estimators=333, min_samples_split=5, min_samples_leaf=2, max_features=sqrt, max_depth=10, bootstrap=True \n",
      "[CV]  n_estimators=333, min_samples_split=5, min_samples_leaf=2, max_features=sqrt, max_depth=10, bootstrap=True -   7.0s\n",
      "[CV] n_estimators=200, min_samples_split=5, min_samples_leaf=4, max_features=auto, max_depth=80, bootstrap=True \n",
      "[CV]  n_estimators=200, min_samples_split=5, min_samples_leaf=4, max_features=auto, max_depth=80, bootstrap=True -   6.5s\n",
      "[CV] n_estimators=200, min_samples_split=5, min_samples_leaf=4, max_features=auto, max_depth=80, bootstrap=True \n",
      "[CV]  n_estimators=200, min_samples_split=5, min_samples_leaf=4, max_features=auto, max_depth=80, bootstrap=True -   6.9s\n",
      "[CV] n_estimators=200, min_samples_split=5, min_samples_leaf=4, max_features=auto, max_depth=80, bootstrap=True \n",
      "[CV]  n_estimators=200, min_samples_split=5, min_samples_leaf=4, max_features=auto, max_depth=80, bootstrap=True -   6.4s\n",
      "[CV] n_estimators=500, min_samples_split=2, min_samples_leaf=4, max_features=auto, max_depth=60, bootstrap=False \n",
      "[CV]  n_estimators=500, min_samples_split=2, min_samples_leaf=4, max_features=auto, max_depth=60, bootstrap=False -  21.7s\n",
      "[CV] n_estimators=500, min_samples_split=2, min_samples_leaf=4, max_features=auto, max_depth=60, bootstrap=False \n",
      "[CV]  n_estimators=500, min_samples_split=2, min_samples_leaf=4, max_features=auto, max_depth=60, bootstrap=False -  21.5s\n",
      "[CV] n_estimators=500, min_samples_split=2, min_samples_leaf=4, max_features=auto, max_depth=60, bootstrap=False \n",
      "[CV]  n_estimators=500, min_samples_split=2, min_samples_leaf=4, max_features=auto, max_depth=60, bootstrap=False -  21.2s\n",
      "[CV] n_estimators=266, min_samples_split=10, min_samples_leaf=2, max_features=auto, max_depth=100, bootstrap=True \n",
      "[CV]  n_estimators=266, min_samples_split=10, min_samples_leaf=2, max_features=auto, max_depth=100, bootstrap=True -   9.2s\n",
      "[CV] n_estimators=266, min_samples_split=10, min_samples_leaf=2, max_features=auto, max_depth=100, bootstrap=True \n",
      "[CV]  n_estimators=266, min_samples_split=10, min_samples_leaf=2, max_features=auto, max_depth=100, bootstrap=True -   9.2s\n",
      "[CV] n_estimators=266, min_samples_split=10, min_samples_leaf=2, max_features=auto, max_depth=100, bootstrap=True \n",
      "[CV]  n_estimators=266, min_samples_split=10, min_samples_leaf=2, max_features=auto, max_depth=100, bootstrap=True -   9.3s\n",
      "[CV] n_estimators=333, min_samples_split=5, min_samples_leaf=4, max_features=auto, max_depth=100, bootstrap=True \n"
     ]
    },
    {
     "name": "stdout",
     "output_type": "stream",
     "text": [
      "[CV]  n_estimators=333, min_samples_split=5, min_samples_leaf=4, max_features=auto, max_depth=100, bootstrap=True -  11.0s\n",
      "[CV] n_estimators=333, min_samples_split=5, min_samples_leaf=4, max_features=auto, max_depth=100, bootstrap=True \n",
      "[CV]  n_estimators=333, min_samples_split=5, min_samples_leaf=4, max_features=auto, max_depth=100, bootstrap=True -  11.3s\n",
      "[CV] n_estimators=333, min_samples_split=5, min_samples_leaf=4, max_features=auto, max_depth=100, bootstrap=True \n",
      "[CV]  n_estimators=333, min_samples_split=5, min_samples_leaf=4, max_features=auto, max_depth=100, bootstrap=True -  10.9s\n",
      "[CV] n_estimators=300, min_samples_split=10, min_samples_leaf=2, max_features=auto, max_depth=None, bootstrap=False \n",
      "[CV]  n_estimators=300, min_samples_split=10, min_samples_leaf=2, max_features=auto, max_depth=None, bootstrap=False -  14.0s\n",
      "[CV] n_estimators=300, min_samples_split=10, min_samples_leaf=2, max_features=auto, max_depth=None, bootstrap=False \n",
      "[CV]  n_estimators=300, min_samples_split=10, min_samples_leaf=2, max_features=auto, max_depth=None, bootstrap=False -  14.2s\n",
      "[CV] n_estimators=300, min_samples_split=10, min_samples_leaf=2, max_features=auto, max_depth=None, bootstrap=False \n",
      "[CV]  n_estimators=300, min_samples_split=10, min_samples_leaf=2, max_features=auto, max_depth=None, bootstrap=False -  14.0s\n",
      "[CV] n_estimators=300, min_samples_split=5, min_samples_leaf=4, max_features=sqrt, max_depth=70, bootstrap=False \n",
      "[CV]  n_estimators=300, min_samples_split=5, min_samples_leaf=4, max_features=sqrt, max_depth=70, bootstrap=False -  12.9s\n",
      "[CV] n_estimators=300, min_samples_split=5, min_samples_leaf=4, max_features=sqrt, max_depth=70, bootstrap=False \n",
      "[CV]  n_estimators=300, min_samples_split=5, min_samples_leaf=4, max_features=sqrt, max_depth=70, bootstrap=False -  12.8s\n",
      "[CV] n_estimators=300, min_samples_split=5, min_samples_leaf=4, max_features=sqrt, max_depth=70, bootstrap=False \n",
      "[CV]  n_estimators=300, min_samples_split=5, min_samples_leaf=4, max_features=sqrt, max_depth=70, bootstrap=False -  12.8s\n",
      "[CV] n_estimators=266, min_samples_split=10, min_samples_leaf=1, max_features=sqrt, max_depth=40, bootstrap=False \n",
      "[CV]  n_estimators=266, min_samples_split=10, min_samples_leaf=1, max_features=sqrt, max_depth=40, bootstrap=False -  14.1s\n",
      "[CV] n_estimators=266, min_samples_split=10, min_samples_leaf=1, max_features=sqrt, max_depth=40, bootstrap=False \n",
      "[CV]  n_estimators=266, min_samples_split=10, min_samples_leaf=1, max_features=sqrt, max_depth=40, bootstrap=False -  14.6s\n",
      "[CV] n_estimators=266, min_samples_split=10, min_samples_leaf=1, max_features=sqrt, max_depth=40, bootstrap=False \n",
      "[CV]  n_estimators=266, min_samples_split=10, min_samples_leaf=1, max_features=sqrt, max_depth=40, bootstrap=False -  13.8s\n",
      "[CV] n_estimators=233, min_samples_split=5, min_samples_leaf=1, max_features=sqrt, max_depth=100, bootstrap=True \n",
      "[CV]  n_estimators=233, min_samples_split=5, min_samples_leaf=1, max_features=sqrt, max_depth=100, bootstrap=True -   9.6s\n",
      "[CV] n_estimators=233, min_samples_split=5, min_samples_leaf=1, max_features=sqrt, max_depth=100, bootstrap=True \n",
      "[CV]  n_estimators=233, min_samples_split=5, min_samples_leaf=1, max_features=sqrt, max_depth=100, bootstrap=True -   9.8s\n",
      "[CV] n_estimators=233, min_samples_split=5, min_samples_leaf=1, max_features=sqrt, max_depth=100, bootstrap=True \n",
      "[CV]  n_estimators=233, min_samples_split=5, min_samples_leaf=1, max_features=sqrt, max_depth=100, bootstrap=True -   9.7s\n",
      "[CV] n_estimators=433, min_samples_split=2, min_samples_leaf=4, max_features=sqrt, max_depth=80, bootstrap=True \n",
      "[CV]  n_estimators=433, min_samples_split=2, min_samples_leaf=4, max_features=sqrt, max_depth=80, bootstrap=True -  14.5s\n",
      "[CV] n_estimators=433, min_samples_split=2, min_samples_leaf=4, max_features=sqrt, max_depth=80, bootstrap=True \n",
      "[CV]  n_estimators=433, min_samples_split=2, min_samples_leaf=4, max_features=sqrt, max_depth=80, bootstrap=True -  14.3s\n",
      "[CV] n_estimators=433, min_samples_split=2, min_samples_leaf=4, max_features=sqrt, max_depth=80, bootstrap=True \n",
      "[CV]  n_estimators=433, min_samples_split=2, min_samples_leaf=4, max_features=sqrt, max_depth=80, bootstrap=True -  13.8s\n",
      "[CV] n_estimators=300, min_samples_split=10, min_samples_leaf=4, max_features=sqrt, max_depth=100, bootstrap=True \n",
      "[CV]  n_estimators=300, min_samples_split=10, min_samples_leaf=4, max_features=sqrt, max_depth=100, bootstrap=True -  10.5s\n",
      "[CV] n_estimators=300, min_samples_split=10, min_samples_leaf=4, max_features=sqrt, max_depth=100, bootstrap=True \n",
      "[CV]  n_estimators=300, min_samples_split=10, min_samples_leaf=4, max_features=sqrt, max_depth=100, bootstrap=True -  10.2s\n",
      "[CV] n_estimators=300, min_samples_split=10, min_samples_leaf=4, max_features=sqrt, max_depth=100, bootstrap=True \n",
      "[CV]  n_estimators=300, min_samples_split=10, min_samples_leaf=4, max_features=sqrt, max_depth=100, bootstrap=True -  10.7s\n",
      "[CV] n_estimators=333, min_samples_split=10, min_samples_leaf=2, max_features=sqrt, max_depth=10, bootstrap=True \n",
      "[CV]  n_estimators=333, min_samples_split=10, min_samples_leaf=2, max_features=sqrt, max_depth=10, bootstrap=True -   7.5s\n",
      "[CV] n_estimators=333, min_samples_split=10, min_samples_leaf=2, max_features=sqrt, max_depth=10, bootstrap=True \n",
      "[CV]  n_estimators=333, min_samples_split=10, min_samples_leaf=2, max_features=sqrt, max_depth=10, bootstrap=True -   7.6s\n",
      "[CV] n_estimators=333, min_samples_split=10, min_samples_leaf=2, max_features=sqrt, max_depth=10, bootstrap=True \n",
      "[CV]  n_estimators=333, min_samples_split=10, min_samples_leaf=2, max_features=sqrt, max_depth=10, bootstrap=True -   7.5s\n",
      "[CV] n_estimators=266, min_samples_split=10, min_samples_leaf=1, max_features=sqrt, max_depth=110, bootstrap=True \n",
      "[CV]  n_estimators=266, min_samples_split=10, min_samples_leaf=1, max_features=sqrt, max_depth=110, bootstrap=True -  10.9s\n",
      "[CV] n_estimators=266, min_samples_split=10, min_samples_leaf=1, max_features=sqrt, max_depth=110, bootstrap=True \n",
      "[CV]  n_estimators=266, min_samples_split=10, min_samples_leaf=1, max_features=sqrt, max_depth=110, bootstrap=True -  10.7s\n",
      "[CV] n_estimators=266, min_samples_split=10, min_samples_leaf=1, max_features=sqrt, max_depth=110, bootstrap=True \n",
      "[CV]  n_estimators=266, min_samples_split=10, min_samples_leaf=1, max_features=sqrt, max_depth=110, bootstrap=True -  10.1s\n",
      "[CV] n_estimators=500, min_samples_split=5, min_samples_leaf=4, max_features=sqrt, max_depth=None, bootstrap=False \n",
      "[CV]  n_estimators=500, min_samples_split=5, min_samples_leaf=4, max_features=sqrt, max_depth=None, bootstrap=False -  23.0s\n",
      "[CV] n_estimators=500, min_samples_split=5, min_samples_leaf=4, max_features=sqrt, max_depth=None, bootstrap=False \n",
      "[CV]  n_estimators=500, min_samples_split=5, min_samples_leaf=4, max_features=sqrt, max_depth=None, bootstrap=False -  21.4s\n",
      "[CV] n_estimators=500, min_samples_split=5, min_samples_leaf=4, max_features=sqrt, max_depth=None, bootstrap=False \n",
      "[CV]  n_estimators=500, min_samples_split=5, min_samples_leaf=4, max_features=sqrt, max_depth=None, bootstrap=False -  22.1s\n",
      "[CV] n_estimators=300, min_samples_split=5, min_samples_leaf=1, max_features=sqrt, max_depth=40, bootstrap=True \n",
      "[CV]  n_estimators=300, min_samples_split=5, min_samples_leaf=1, max_features=sqrt, max_depth=40, bootstrap=True -  13.3s\n",
      "[CV] n_estimators=300, min_samples_split=5, min_samples_leaf=1, max_features=sqrt, max_depth=40, bootstrap=True \n",
      "[CV]  n_estimators=300, min_samples_split=5, min_samples_leaf=1, max_features=sqrt, max_depth=40, bootstrap=True -  12.4s\n",
      "[CV] n_estimators=300, min_samples_split=5, min_samples_leaf=1, max_features=sqrt, max_depth=40, bootstrap=True \n",
      "[CV]  n_estimators=300, min_samples_split=5, min_samples_leaf=1, max_features=sqrt, max_depth=40, bootstrap=True -  12.1s\n",
      "[CV] n_estimators=266, min_samples_split=2, min_samples_leaf=4, max_features=auto, max_depth=40, bootstrap=True \n",
      "[CV]  n_estimators=266, min_samples_split=2, min_samples_leaf=4, max_features=auto, max_depth=40, bootstrap=True -   8.8s\n",
      "[CV] n_estimators=266, min_samples_split=2, min_samples_leaf=4, max_features=auto, max_depth=40, bootstrap=True \n",
      "[CV]  n_estimators=266, min_samples_split=2, min_samples_leaf=4, max_features=auto, max_depth=40, bootstrap=True -   8.5s\n",
      "[CV] n_estimators=266, min_samples_split=2, min_samples_leaf=4, max_features=auto, max_depth=40, bootstrap=True \n"
     ]
    },
    {
     "name": "stdout",
     "output_type": "stream",
     "text": [
      "[CV]  n_estimators=266, min_samples_split=2, min_samples_leaf=4, max_features=auto, max_depth=40, bootstrap=True -   8.5s\n",
      "[CV] n_estimators=266, min_samples_split=2, min_samples_leaf=4, max_features=sqrt, max_depth=30, bootstrap=False \n",
      "[CV]  n_estimators=266, min_samples_split=2, min_samples_leaf=4, max_features=sqrt, max_depth=30, bootstrap=False -  11.5s\n",
      "[CV] n_estimators=266, min_samples_split=2, min_samples_leaf=4, max_features=sqrt, max_depth=30, bootstrap=False \n",
      "[CV]  n_estimators=266, min_samples_split=2, min_samples_leaf=4, max_features=sqrt, max_depth=30, bootstrap=False -  13.4s\n",
      "[CV] n_estimators=266, min_samples_split=2, min_samples_leaf=4, max_features=sqrt, max_depth=30, bootstrap=False \n",
      "[CV]  n_estimators=266, min_samples_split=2, min_samples_leaf=4, max_features=sqrt, max_depth=30, bootstrap=False -  11.3s\n",
      "[CV] n_estimators=233, min_samples_split=10, min_samples_leaf=2, max_features=auto, max_depth=40, bootstrap=False \n",
      "[CV]  n_estimators=233, min_samples_split=10, min_samples_leaf=2, max_features=auto, max_depth=40, bootstrap=False -  10.9s\n",
      "[CV] n_estimators=233, min_samples_split=10, min_samples_leaf=2, max_features=auto, max_depth=40, bootstrap=False \n",
      "[CV]  n_estimators=233, min_samples_split=10, min_samples_leaf=2, max_features=auto, max_depth=40, bootstrap=False -  11.5s\n",
      "[CV] n_estimators=233, min_samples_split=10, min_samples_leaf=2, max_features=auto, max_depth=40, bootstrap=False \n",
      "[CV]  n_estimators=233, min_samples_split=10, min_samples_leaf=2, max_features=auto, max_depth=40, bootstrap=False -  10.8s\n",
      "[CV] n_estimators=333, min_samples_split=2, min_samples_leaf=1, max_features=auto, max_depth=10, bootstrap=False \n",
      "[CV]  n_estimators=333, min_samples_split=2, min_samples_leaf=1, max_features=auto, max_depth=10, bootstrap=False -   8.6s\n",
      "[CV] n_estimators=333, min_samples_split=2, min_samples_leaf=1, max_features=auto, max_depth=10, bootstrap=False \n",
      "[CV]  n_estimators=333, min_samples_split=2, min_samples_leaf=1, max_features=auto, max_depth=10, bootstrap=False -   8.4s\n",
      "[CV] n_estimators=333, min_samples_split=2, min_samples_leaf=1, max_features=auto, max_depth=10, bootstrap=False \n",
      "[CV]  n_estimators=333, min_samples_split=2, min_samples_leaf=1, max_features=auto, max_depth=10, bootstrap=False -   8.6s\n",
      "[CV] n_estimators=200, min_samples_split=5, min_samples_leaf=4, max_features=auto, max_depth=100, bootstrap=False \n",
      "[CV]  n_estimators=200, min_samples_split=5, min_samples_leaf=4, max_features=auto, max_depth=100, bootstrap=False -   8.6s\n",
      "[CV] n_estimators=200, min_samples_split=5, min_samples_leaf=4, max_features=auto, max_depth=100, bootstrap=False \n",
      "[CV]  n_estimators=200, min_samples_split=5, min_samples_leaf=4, max_features=auto, max_depth=100, bootstrap=False -   8.5s\n",
      "[CV] n_estimators=200, min_samples_split=5, min_samples_leaf=4, max_features=auto, max_depth=100, bootstrap=False \n",
      "[CV]  n_estimators=200, min_samples_split=5, min_samples_leaf=4, max_features=auto, max_depth=100, bootstrap=False -   8.5s\n",
      "[CV] n_estimators=500, min_samples_split=2, min_samples_leaf=2, max_features=sqrt, max_depth=20, bootstrap=True \n",
      "[CV]  n_estimators=500, min_samples_split=2, min_samples_leaf=2, max_features=sqrt, max_depth=20, bootstrap=True -  17.4s\n",
      "[CV] n_estimators=500, min_samples_split=2, min_samples_leaf=2, max_features=sqrt, max_depth=20, bootstrap=True \n",
      "[CV]  n_estimators=500, min_samples_split=2, min_samples_leaf=2, max_features=sqrt, max_depth=20, bootstrap=True -  16.8s\n",
      "[CV] n_estimators=500, min_samples_split=2, min_samples_leaf=2, max_features=sqrt, max_depth=20, bootstrap=True \n",
      "[CV]  n_estimators=500, min_samples_split=2, min_samples_leaf=2, max_features=sqrt, max_depth=20, bootstrap=True -  17.3s\n",
      "[CV] n_estimators=500, min_samples_split=10, min_samples_leaf=2, max_features=auto, max_depth=40, bootstrap=True \n",
      "[CV]  n_estimators=500, min_samples_split=10, min_samples_leaf=2, max_features=auto, max_depth=40, bootstrap=True -  17.4s\n",
      "[CV] n_estimators=500, min_samples_split=10, min_samples_leaf=2, max_features=auto, max_depth=40, bootstrap=True \n",
      "[CV]  n_estimators=500, min_samples_split=10, min_samples_leaf=2, max_features=auto, max_depth=40, bootstrap=True -  17.4s\n",
      "[CV] n_estimators=500, min_samples_split=10, min_samples_leaf=2, max_features=auto, max_depth=40, bootstrap=True \n",
      "[CV]  n_estimators=500, min_samples_split=10, min_samples_leaf=2, max_features=auto, max_depth=40, bootstrap=True -  17.5s\n"
     ]
    },
    {
     "name": "stderr",
     "output_type": "stream",
     "text": [
      "[Parallel(n_jobs=1)]: Done 300 out of 300 | elapsed: 72.1min finished\n"
     ]
    },
    {
     "data": {
      "text/plain": [
       "RandomizedSearchCV(cv=3, error_score='raise',\n",
       "          estimator=RandomForestClassifier(bootstrap=True, class_weight=None, criterion='gini',\n",
       "            max_depth=None, max_features='auto', max_leaf_nodes=None,\n",
       "            min_impurity_decrease=0.0, min_impurity_split=None,\n",
       "            min_samples_leaf=1, min_samples_split=2,\n",
       "            min_weight_fraction_leaf=0.0, n_estimators=10, n_jobs=1,\n",
       "            oob_score=False, random_state=None, verbose=0,\n",
       "            warm_start=False),\n",
       "          fit_params={}, iid=True, n_iter=100, n_jobs=1,\n",
       "          param_distributions={'n_estimators': [200, 233, 266, 300, 333, 366, 400, 433, 466, 500], 'max_features': ['auto', 'sqrt'], 'max_depth': [10, 20, 30, 40, 50, 60, 70, 80, 90, 100, 110, None], 'min_samples_split': [2, 5, 10], 'min_samples_leaf': [1, 2, 4], 'bootstrap': [True, False]},\n",
       "          pre_dispatch='2*n_jobs', random_state=42, refit=True,\n",
       "          scoring=None, verbose=2)"
      ]
     },
     "execution_count": 193,
     "metadata": {},
     "output_type": "execute_result"
    }
   ],
   "source": [
    "rf_random.fit(xd_train,yd_train)"
   ]
  },
  {
   "cell_type": "code",
   "execution_count": 194,
   "metadata": {
    "colab": {},
    "colab_type": "code",
    "id": "FFPC3TPV3Zg9",
    "outputId": "962bc32a-b1aa-4063-8b1c-434edf444f8b",
    "scrolled": false
   },
   "outputs": [
    {
     "data": {
      "text/plain": [
       "{'n_estimators': 300,\n",
       " 'min_samples_split': 10,\n",
       " 'min_samples_leaf': 4,\n",
       " 'max_features': 'sqrt',\n",
       " 'max_depth': 100,\n",
       " 'bootstrap': True}"
      ]
     },
     "execution_count": 194,
     "metadata": {},
     "output_type": "execute_result"
    }
   ],
   "source": [
    "rf_random.best_params_"
   ]
  },
  {
   "cell_type": "markdown",
   "metadata": {
    "colab_type": "text",
    "id": "IBeOQIrC3ZhB"
   },
   "source": [
    "A Random Forest model built with this hyperparameters will provide best accuracy"
   ]
  },
  {
   "cell_type": "code",
   "execution_count": 89,
   "metadata": {
    "colab": {},
    "colab_type": "code",
    "id": "WCs9o0xt3Zfi",
    "scrolled": true
   },
   "outputs": [
    {
     "data": {
      "text/plain": [
       "RandomForestClassifier(bootstrap=True, class_weight='balanced',\n",
       "            criterion='gini', max_depth=100, max_features='sqrt',\n",
       "            max_leaf_nodes=None, min_impurity_decrease=0.0,\n",
       "            min_impurity_split=None, min_samples_leaf=4,\n",
       "            min_samples_split=10, min_weight_fraction_leaf=0.0,\n",
       "            n_estimators=300, n_jobs=1, oob_score=False, random_state=1,\n",
       "            verbose=0, warm_start=False)"
      ]
     },
     "execution_count": 89,
     "metadata": {},
     "output_type": "execute_result"
    }
   ],
   "source": [
    "# Building and fitting Random Forest after tuning \n",
    "\n",
    "from sklearn.ensemble import RandomForestClassifier\n",
    "\n",
    "forest_two = RandomForestClassifier(min_samples_split=10,min_samples_leaf=4,max_features='sqrt',class_weight=\"balanced\",max_depth = 100, n_estimators = 300, random_state = 1,bootstrap= True)\n",
    "forest_two"
   ]
  },
  {
   "cell_type": "markdown",
   "metadata": {
    "colab_type": "text",
    "id": "eRGRjIaG3Zfo"
   },
   "source": [
    "### 6.1 Training Random Forest Model after tuning <a id='trf'>"
   ]
  },
  {
   "cell_type": "code",
   "execution_count": 90,
   "metadata": {
    "colab": {},
    "colab_type": "code",
    "id": "57y8Kb563Zfp"
   },
   "outputs": [],
   "source": [
    "# Fitting the model on Train Data\n",
    "\n",
    "my_forest_two = forest_two.fit(xd_train, yd_train)"
   ]
  },
  {
   "cell_type": "code",
   "execution_count": 91,
   "metadata": {
    "colab": {},
    "colab_type": "code",
    "id": "3NBizrtm3Zfs",
    "outputId": "74621811-1013-465f-f8b8-d4c98bc90317"
   },
   "outputs": [
    {
     "name": "stdout",
     "output_type": "stream",
     "text": [
      "0.8239643568110722\n"
     ]
    }
   ],
   "source": [
    "# Print the accuracy score of the fitted random forest\n",
    "\n",
    "print(my_forest_two.score(xd_train, yd_train))"
   ]
  },
  {
   "cell_type": "markdown",
   "metadata": {
    "colab_type": "text",
    "id": "d89WRX0B3Zfw"
   },
   "source": [
    " ### 6.2 Predictions from Random Forest Model   <a id='prf'>"
   ]
  },
  {
   "cell_type": "markdown",
   "metadata": {
    "colab_type": "text",
    "collapsed": true,
    "id": "C427aSlJ3ZhF"
   },
   "source": [
    "**Observation: ** The original Random forest algorithm gave 0.90 accuracy whereas after Randomized Grid Search we have only got 0.82. This is the best random combination of parameters the algorithm has choosen which produced the highest accuracy."
   ]
  },
  {
   "cell_type": "markdown",
   "metadata": {
    "colab_type": "text",
    "id": "d89WRX0B3Zfw"
   },
   "source": [
    " ### 6.2 Predictions from Random Forest Model after fine tuning of Hyperparameters  <a id='prf'>"
   ]
  },
  {
   "cell_type": "code",
   "execution_count": 92,
   "metadata": {
    "colab": {},
    "colab_type": "code",
    "id": "PCh-N_vf3Zfy"
   },
   "outputs": [],
   "source": [
    "# Making predictions\n",
    "\n",
    "yrf_pred = my_forest_two.predict(xd_test)"
   ]
  },
  {
   "cell_type": "markdown",
   "metadata": {
    "colab_type": "text",
    "id": "DPsbC3zV3Zf4"
   },
   "source": [
    "### 6.3 Evaluating the Random Forest Model after fine tuning of Hyperparameters   <a id='erf'>"
   ]
  },
  {
   "cell_type": "code",
   "execution_count": 93,
   "metadata": {
    "colab": {},
    "colab_type": "code",
    "id": "TujR8jua3Zf5",
    "outputId": "f2042fdf-f91c-44c5-8a00-ed47f8df973c"
   },
   "outputs": [
    {
     "data": {
      "text/plain": [
       "array([[10010,  1956],\n",
       "       [  665,   933]], dtype=int64)"
      ]
     },
     "execution_count": 93,
     "metadata": {},
     "output_type": "execute_result"
    }
   ],
   "source": [
    "df_confusion_rf = metrics.confusion_matrix(yd_test,yrf_pred)\n",
    "df_confusion_rf"
   ]
  },
  {
   "cell_type": "code",
   "execution_count": 94,
   "metadata": {
    "colab": {},
    "colab_type": "code",
    "id": "KPGj5Zo53Zf9",
    "outputId": "a73a84af-3574-4413-f98f-925e609e74c0",
    "scrolled": true
   },
   "outputs": [
    {
     "data": {
      "text/plain": [
       "<matplotlib.axes._subplots.AxesSubplot at 0x71b6863978>"
      ]
     },
     "execution_count": 94,
     "metadata": {},
     "output_type": "execute_result"
    },
    {
     "data": {
      "image/png": "[encoded data removed]",
      "text/plain": [
       "<Figure size 432x288 with 2 Axes>"
      ]
     },
     "metadata": {},
     "output_type": "display_data"
    }
   ],
   "source": [
    "cmap = sns.cubehelix_palette(50, hue=0.05, rot=0, light=0.9, dark=0, as_cmap=True)\n",
    "sns.heatmap(df_confusion_rf, cmap = cmap,xticklabels=['Prediction No','Prediction Yes'],yticklabels=['Actual No','Actual Yes'], annot=True,\n",
    "            fmt='d')"
   ]
  },
  {
   "cell_type": "code",
   "execution_count": 95,
   "metadata": {
    "scrolled": false
   },
   "outputs": [
    {
     "name": "stdout",
     "output_type": "stream",
     "text": [
      "             precision    recall  f1-score   support\n",
      "\n",
      "          0       0.94      0.84      0.88     11966\n",
      "          1       0.32      0.58      0.42      1598\n",
      "\n",
      "avg / total       0.87      0.81      0.83     13564\n",
      "\n"
     ]
    }
   ],
   "source": [
    "# Creating Classification Report\n",
    "\n",
    "cr = metrics.classification_report(yd_test, yrf_pred)\n",
    "print(cr)"
   ]
  },
  {
   "cell_type": "markdown",
   "metadata": {},
   "source": [
    "### 5. ROC curve  <a id='roc'>\n",
    "\n",
    "An ROC curve (receiver operating characteristic curve) is a graph showing the performance of a classification model at all classification thresholds.It tells how good a model can distinguish between two classes.\n",
    "\n",
    "The curve is created by plotting the **true positive rate** against **false positive rate**.<br>\n",
    "**True Positive Rate(TPR) ** is same as **recall or sensitivity**.  <br>\n",
    "**False Positive Rate** is known as probability of false alarm. This is calculated as (1 - Specificity) <br>\n"
   ]
  },
  {
   "cell_type": "markdown",
   "metadata": {},
   "source": [
    "** ROC Curve of balanced Logistic Regression Model **"
   ]
  },
  {
   "cell_type": "code",
   "execution_count": 97,
   "metadata": {},
   "outputs": [
    {
     "name": "stdout",
     "output_type": "stream",
     "text": [
      "[0.9940358  0.99372435 0.99340706 ... 0.16316089 0.16026544 0.15568484]\n"
     ]
    }
   ],
   "source": [
    "predict_probabilities_LR = logreg.predict_proba(x_test)\n",
    "fpr, tpr, thresholds = metrics.roc_curve(y_test, predict_probabilities_LR[:,1])\n",
    "\n",
    "# Lets look at all the thresholds\n",
    "print(thresholds)"
   ]
  },
  {
   "cell_type": "code",
   "execution_count": 101,
   "metadata": {
    "scrolled": true
   },
   "outputs": [
    {
     "data": {
      "image/png": "[encoded data removed]",
      "text/plain": [
       "<Figure size 432x288 with 1 Axes>"
      ]
     },
     "metadata": {},
     "output_type": "display_data"
    }
   ],
   "source": [
    "# Plotting the ROC Curve\n",
    "\n",
    "plt.plot(fpr, tpr)\n",
    "plt.xlim([0.0, 1.0])\n",
    "plt.ylim([0.0, 1.0])\n",
    "plt.title('ROC curve for Term deposit classifier for Logitic regression')\n",
    "plt.xlabel('False Positive Rate (1 - Specificity)')\n",
    "plt.ylabel('True Positive Rate (Sensitivity)')\n",
    "plt.grid(True)"
   ]
  },
  {
   "cell_type": "markdown",
   "metadata": {},
   "source": [
    "** AUC of balanced Logistic Regression Model **"
   ]
  },
  {
   "cell_type": "code",
   "execution_count": 107,
   "metadata": {},
   "outputs": [
    {
     "data": {
      "text/plain": [
       "0.6637193485194373"
      ]
     },
     "execution_count": 107,
     "metadata": {},
     "output_type": "execute_result"
    }
   ],
   "source": [
    "optimal_idx = np.argmax(np.abs(tpr - fpr))\n",
    "optimal_threshold = thresholds[optimal_idx]\n",
    "optimal_threshold "
   ]
  },
  {
   "cell_type": "code",
   "execution_count": 99,
   "metadata": {
    "scrolled": true
   },
   "outputs": [
    {
     "name": "stdout",
     "output_type": "stream",
     "text": [
      "Area under the ROC curve for balanced logistic regression : 0.731715\n"
     ]
    }
   ],
   "source": [
    "roc_auc = metrics.auc(fpr, tpr)\n",
    "print(\"Area under the ROC curve for balanced logistic regression : %f\" % roc_auc)"
   ]
  },
  {
   "cell_type": "code",
   "execution_count": 109,
   "metadata": {},
   "outputs": [
    {
     "name": "stdout",
     "output_type": "stream",
     "text": [
      "[2.         1.         0.97427355 0.9724865  0.97149653 0.96804744\n",
      " 0.96364872 0.96168035 0.95784557 0.95784557 0.95242006 0.94785648\n",
      " 0.94644645 0.94293966 0.93807359 0.92950072 0.92303147 0.91910137\n",
      " 0.91030821 0.90990016 0.90201308 0.89496749 0.89379402 0.88336967\n",
      " 0.8788476  0.87509433 0.86585194 0.86502634 0.86323382 0.85834248\n",
      " 0.84544486 0.83889659 0.83829795 0.83469433 0.83053397 0.82793569\n",
      " 0.82559596 0.81963977 0.8154377  0.81231431 0.80798155 0.8071615\n",
      " 0.79110306 0.79110306 0.77097137 0.75937677 0.74567064 0.73363293\n",
      " 0.73132305 0.71628789 0.67910585 0.66884783 0.66235957 0.65440075\n",
      " 0.64328481 0.63933571 0.63608164 0.6023572  0.6023572  0.57932092\n",
      " 0.53788178 0.52307018 0.51969587 0.47613587 0.47550523 0.47119898\n",
      " 0.45530529 0.43965614 0.40625152 0.37574722 0.35940322 0.35107372\n",
      " 0.32612671 0.31698618 0.299171   0.25784958 0.24367888 0.24202963\n",
      " 0.22429727 0.20708915 0.19018884 0.12830403 0.12104208 0.05275394\n",
      " 0.        ]\n"
     ]
    }
   ],
   "source": [
    "predict_probabilities_DT = my_tree_three.predict_proba(xd_test)\n",
    "fpr, tpr, thresholds = metrics.roc_curve(y_test, predict_probabilities_DT[:,1])\n",
    "\n",
    "# Lets look at all the thresholds\n",
    "print(thresholds)"
   ]
  },
  {
   "cell_type": "code",
   "execution_count": 110,
   "metadata": {
    "scrolled": true
   },
   "outputs": [
    {
     "data": {
      "image/png": "[encoded data removed]",
      "text/plain": [
       "<Figure size 432x288 with 1 Axes>"
      ]
     },
     "metadata": {},
     "output_type": "display_data"
    }
   ],
   "source": [
    "# Plotting the ROC Curve\n",
    "\n",
    "plt.plot(fpr, tpr)\n",
    "plt.xlim([0.0, 1.0])\n",
    "plt.ylim([0.0, 1.0])\n",
    "plt.title('ROC curve for Term deposit classifier for DT')\n",
    "plt.xlabel('False Positive Rate (1 - Specificity)')\n",
    "plt.ylabel('True Positive Rate (Sensitivity)')\n",
    "plt.grid(True)"
   ]
  },
  {
   "cell_type": "markdown",
   "metadata": {},
   "source": [
    "** AUC of balanced Decesion TRee Model **"
   ]
  },
  {
   "cell_type": "code",
   "execution_count": 111,
   "metadata": {
    "scrolled": true
   },
   "outputs": [
    {
     "name": "stdout",
     "output_type": "stream",
     "text": [
      "Area under the ROC curve for balanced logistic regression : 0.717422\n"
     ]
    }
   ],
   "source": [
    "roc_auc = metrics.auc(fpr, tpr)\n",
    "print(\"Area under the ROC curve for balanced logistic regression : %f\" % roc_auc)"
   ]
  },
  {
   "cell_type": "code",
   "execution_count": 112,
   "metadata": {},
   "outputs": [
    {
     "data": {
      "text/plain": [
       "0.5793209204977567"
      ]
     },
     "execution_count": 112,
     "metadata": {},
     "output_type": "execute_result"
    }
   ],
   "source": [
    "optimal_idx = np.argmax(np.abs(tpr - fpr))\n",
    "optimal_threshold = thresholds[optimal_idx]\n",
    "optimal_threshold "
   ]
  },
  {
   "cell_type": "code",
   "execution_count": 114,
   "metadata": {},
   "outputs": [
    {
     "name": "stdout",
     "output_type": "stream",
     "text": [
      "[0.95535487 0.95494903 0.95458796 ... 0.05785093 0.05741335 0.0469608 ]\n"
     ]
    }
   ],
   "source": [
    "predict_probabilities_RF = my_forest_two.predict_proba(xd_test)\n",
    "fpr, tpr, thresholds = metrics.roc_curve(y_test, predict_probabilities_RF[:,1])\n",
    "\n",
    "# Lets look at all the thresholds\n",
    "print(thresholds)"
   ]
  },
  {
   "cell_type": "code",
   "execution_count": 115,
   "metadata": {
    "scrolled": false
   },
   "outputs": [
    {
     "data": {
      "image/png": "[encoded data removed]",
      "text/plain": [
       "<Figure size 432x288 with 1 Axes>"
      ]
     },
     "metadata": {},
     "output_type": "display_data"
    }
   ],
   "source": [
    "# Plotting the ROC Curve\n",
    "\n",
    "plt.plot(fpr, tpr)\n",
    "plt.xlim([0.0, 1.0])\n",
    "plt.ylim([0.0, 1.0])\n",
    "plt.title('ROC curve for Term deposit classifier for DT')\n",
    "plt.xlabel('False Positive Rate (1 - Specificity)')\n",
    "plt.ylabel('True Positive Rate (Sensitivity)')\n",
    "plt.grid(True)"
   ]
  },
  {
   "cell_type": "markdown",
   "metadata": {},
   "source": [
    "** AUC of balanced Random forest Model **"
   ]
  },
  {
   "cell_type": "code",
   "execution_count": 116,
   "metadata": {
    "scrolled": true
   },
   "outputs": [
    {
     "name": "stdout",
     "output_type": "stream",
     "text": [
      "Area under the ROC curve for balanced logistic regression : 0.763229\n"
     ]
    }
   ],
   "source": [
    "roc_auc = metrics.auc(fpr, tpr)\n",
    "print(\"Area under the ROC curve for balanced logistic regression : %f\" % roc_auc)"
   ]
  },
  {
   "cell_type": "code",
   "execution_count": 117,
   "metadata": {},
   "outputs": [
    {
     "data": {
      "text/plain": [
       "0.47503820143837033"
      ]
     },
     "execution_count": 117,
     "metadata": {},
     "output_type": "execute_result"
    }
   ],
   "source": [
    "optimal_idx = np.argmax(np.abs(tpr - fpr))\n",
    "optimal_threshold = thresholds[optimal_idx]\n",
    "optimal_threshold "
   ]
  },
  {
   "cell_type": "markdown",
   "metadata": {
    "colab_type": "text",
    "id": "d89WRX0B3Zfw"
   },
   "source": [
    " ### 6.2 Predictions from Random Forest Model after changing the threshold to 0.47 instead of default to 0.5  <a id='prf'>"
   ]
  },
  {
   "cell_type": "code",
   "execution_count": 122,
   "metadata": {
    "colab": {},
    "colab_type": "code",
    "id": "PCh-N_vf3Zfy"
   },
   "outputs": [],
   "source": [
    "# Making predictions\n",
    "\n",
    "yrf_pred = np.where(my_forest_two.predict_proba(xd_test)[:,1]>0.47,1,0)"
   ]
  },
  {
   "cell_type": "markdown",
   "metadata": {
    "colab_type": "text",
    "id": "DPsbC3zV3Zf4"
   },
   "source": [
    "### 6.3 Evaluating the Random Forest Model afterafter changing the threshold to 0.47 instead of default to 0.5     <a id='erf'>"
   ]
  },
  {
   "cell_type": "code",
   "execution_count": 123,
   "metadata": {
    "colab": {},
    "colab_type": "code",
    "id": "TujR8jua3Zf5",
    "outputId": "f2042fdf-f91c-44c5-8a00-ed47f8df973c"
   },
   "outputs": [
    {
     "data": {
      "text/plain": [
       "array([[9680, 2286],\n",
       "       [ 621,  977]], dtype=int64)"
      ]
     },
     "execution_count": 123,
     "metadata": {},
     "output_type": "execute_result"
    }
   ],
   "source": [
    "df_confusion_rf = metrics.confusion_matrix(yd_test,yrf_pred)\n",
    "df_confusion_rf"
   ]
  },
  {
   "cell_type": "code",
   "execution_count": 124,
   "metadata": {
    "colab": {},
    "colab_type": "code",
    "id": "KPGj5Zo53Zf9",
    "outputId": "a73a84af-3574-4413-f98f-925e609e74c0",
    "scrolled": true
   },
   "outputs": [
    {
     "data": {
      "text/plain": [
       "<matplotlib.axes._subplots.AxesSubplot at 0x71b4514908>"
      ]
     },
     "execution_count": 124,
     "metadata": {},
     "output_type": "execute_result"
    },
    {
     "data": {
      "image/png": "[encoded data removed]",
      "text/plain": [
       "<Figure size 432x288 with 2 Axes>"
      ]
     },
     "metadata": {},
     "output_type": "display_data"
    }
   ],
   "source": [
    "cmap = sns.cubehelix_palette(50, hue=0.05, rot=0, light=0.9, dark=0, as_cmap=True)\n",
    "sns.heatmap(df_confusion_rf, cmap = cmap,xticklabels=['Prediction No','Prediction Yes'],yticklabels=['Actual No','Actual Yes'], annot=True,\n",
    "            fmt='d')"
   ]
  },
  {
   "cell_type": "code",
   "execution_count": 125,
   "metadata": {
    "scrolled": false
   },
   "outputs": [
    {
     "name": "stdout",
     "output_type": "stream",
     "text": [
      "             precision    recall  f1-score   support\n",
      "\n",
      "          0       0.94      0.81      0.87     11966\n",
      "          1       0.30      0.61      0.40      1598\n",
      "\n",
      "avg / total       0.86      0.79      0.81     13564\n",
      "\n"
     ]
    }
   ],
   "source": [
    "# Creating Classification Report\n",
    "\n",
    "cr = metrics.classification_report(yd_test, yrf_pred)\n",
    "print(cr)"
   ]
  },
  {
   "cell_type": "markdown",
   "metadata": {
    "colab_type": "text",
    "id": "k_xIVtgi3ZhG"
   },
   "source": [
    "### The End"
   ]
  },
  {
   "cell_type": "code",
   "execution_count": null,
   "metadata": {},
   "outputs": [],
   "source": []
  },
  {
   "cell_type": "code",
   "execution_count": null,
   "metadata": {},
   "outputs": [],
   "source": []
  },
  {
   "cell_type": "code",
   "execution_count": null,
   "metadata": {},
   "outputs": [],
   "source": []
  },
  {
   "cell_type": "code",
   "execution_count": null,
   "metadata": {},
   "outputs": [],
   "source": []
  },
  {
   "cell_type": "code",
   "execution_count": null,
   "metadata": {},
   "outputs": [],
   "source": []
  },
  {
   "cell_type": "code",
   "execution_count": null,
   "metadata": {},
   "outputs": [],
   "source": []
  },
  {
   "cell_type": "code",
   "execution_count": null,
   "metadata": {},
   "outputs": [],
   "source": []
  },
  {
   "cell_type": "code",
   "execution_count": null,
   "metadata": {},
   "outputs": [],
   "source": []
  },
  {
   "cell_type": "code",
   "execution_count": null,
   "metadata": {},
   "outputs": [],
   "source": []
  },
  {
   "cell_type": "code",
   "execution_count": null,
   "metadata": {},
   "outputs": [],
   "source": []
  },
  {
   "cell_type": "code",
   "execution_count": null,
   "metadata": {},
   "outputs": [],
   "source": []
  },
  {
   "cell_type": "code",
   "execution_count": null,
   "metadata": {},
   "outputs": [],
   "source": []
  }
 ],
 "metadata": {
  "kernelspec": {
   "display_name": "Python 3",
   "language": "python",
   "name": "python3"
  },
  "language_info": {
   "codemirror_mode": {
    "name": "ipython",
    "version": 3
   },
   "file_extension": ".py",
   "mimetype": "text/x-python",
   "name": "python",
   "nbconvert_exporter": "python",
   "pygments_lexer": "ipython3",
   "version": "3.6.5"
  }
 },
 "nbformat": 4,
 "nbformat_minor": 2
}
